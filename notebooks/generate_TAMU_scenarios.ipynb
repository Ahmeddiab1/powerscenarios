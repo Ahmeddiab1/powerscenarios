{
 "cells": [
  {
   "cell_type": "markdown",
   "metadata": {},
   "source": [
    "# Example: scenarios for TAMU grid\n"
   ]
  },
  {
   "cell_type": "code",
   "execution_count": 67,
   "metadata": {},
   "outputs": [],
   "source": [
    "import pandas as pd\n",
    "import numpy as np\n",
    "\n",
    "from powerscenarios.parser import Parser\n",
    "from powerscenarios.grid import Grid\n",
    "\n",
    "\n",
    "# from numpy import linalg\n",
    "# import matplotlib.pyplot as plt\n",
    "\n",
    "# show multiple cell outputs\n",
    "from IPython.core.interactiveshell import InteractiveShell\n",
    "\n",
    "InteractiveShell.ast_node_interactivity = \"all\"\n",
    "\n",
    "pd.set_option(\"display.max_rows\", 20)\n",
    "pd.set_option(\"display.max_columns\", 100)\n",
    "\n",
    "\n",
    "import time"
   ]
  },
  {
   "cell_type": "code",
   "execution_count": 2,
   "metadata": {},
   "outputs": [
    {
     "data": {
      "text/html": [
       "        <script type=\"text/javascript\">\n",
       "        window.PlotlyConfig = {MathJaxConfig: 'local'};\n",
       "        if (window.MathJax) {MathJax.Hub.Config({SVG: {font: \"STIX-Web\"}});}\n",
       "        if (typeof require !== 'undefined') {\n",
       "        require.undef(\"plotly\");\n",
       "        requirejs.config({\n",
       "            paths: {\n",
       "                'plotly': ['https://cdn.plot.ly/plotly-latest.min']\n",
       "            }\n",
       "        });\n",
       "        require(['plotly'], function(Plotly) {\n",
       "            window._Plotly = Plotly;\n",
       "        });\n",
       "        }\n",
       "        </script>\n",
       "        "
      ]
     },
     "metadata": {},
     "output_type": "display_data"
    }
   ],
   "source": [
    "# plotting (optional)\n",
    "import cufflinks as cl\n",
    "\n",
    "cl.go_offline()"
   ]
  },
  {
   "cell_type": "markdown",
   "metadata": {},
   "source": [
    "# parse TAMU grid .aux files"
   ]
  },
  {
   "cell_type": "code",
   "execution_count": 3,
   "metadata": {},
   "outputs": [
    {
     "name": "stdout",
     "output_type": "stream",
     "text": [
      "bus_df:\n"
     ]
    },
    {
     "data": {
      "text/html": [
       "<div>\n",
       "<style scoped>\n",
       "    .dataframe tbody tr th:only-of-type {\n",
       "        vertical-align: middle;\n",
       "    }\n",
       "\n",
       "    .dataframe tbody tr th {\n",
       "        vertical-align: top;\n",
       "    }\n",
       "\n",
       "    .dataframe thead th {\n",
       "        text-align: right;\n",
       "    }\n",
       "</style>\n",
       "<table border=\"1\" class=\"dataframe\">\n",
       "  <thead>\n",
       "    <tr style=\"text-align: right;\">\n",
       "      <th></th>\n",
       "      <th>BusNum</th>\n",
       "      <th>BusName</th>\n",
       "      <th>Latitude</th>\n",
       "      <th>Longitude</th>\n",
       "      <th>Zone</th>\n",
       "    </tr>\n",
       "  </thead>\n",
       "  <tbody>\n",
       "    <tr>\n",
       "      <th>0</th>\n",
       "      <td>1</td>\n",
       "      <td>CREVECOEUR0</td>\n",
       "      <td>40.642116</td>\n",
       "      <td>-89.599560</td>\n",
       "      <td>2</td>\n",
       "    </tr>\n",
       "    <tr>\n",
       "      <th>1</th>\n",
       "      <td>2</td>\n",
       "      <td>CREVECOEUR1</td>\n",
       "      <td>40.642116</td>\n",
       "      <td>-89.599560</td>\n",
       "      <td>2</td>\n",
       "    </tr>\n",
       "    <tr>\n",
       "      <th>2</th>\n",
       "      <td>3</td>\n",
       "      <td>ILLIOPOLIS0</td>\n",
       "      <td>39.866030</td>\n",
       "      <td>-89.251291</td>\n",
       "      <td>4</td>\n",
       "    </tr>\n",
       "    <tr>\n",
       "      <th>3</th>\n",
       "      <td>4</td>\n",
       "      <td>ILLIOPOLIS1</td>\n",
       "      <td>39.866030</td>\n",
       "      <td>-89.251291</td>\n",
       "      <td>4</td>\n",
       "    </tr>\n",
       "    <tr>\n",
       "      <th>4</th>\n",
       "      <td>5</td>\n",
       "      <td>PAXTON20</td>\n",
       "      <td>40.378337</td>\n",
       "      <td>-88.105151</td>\n",
       "      <td>6</td>\n",
       "    </tr>\n",
       "  </tbody>\n",
       "</table>\n",
       "</div>"
      ],
      "text/plain": [
       "   BusNum      BusName   Latitude  Longitude  Zone\n",
       "0       1  CREVECOEUR0  40.642116 -89.599560     2\n",
       "1       2  CREVECOEUR1  40.642116 -89.599560     2\n",
       "2       3  ILLIOPOLIS0  39.866030 -89.251291     4\n",
       "3       4  ILLIOPOLIS1  39.866030 -89.251291     4\n",
       "4       5     PAXTON20  40.378337 -88.105151     6"
      ]
     },
     "execution_count": 3,
     "metadata": {},
     "output_type": "execute_result"
    },
    {
     "name": "stdout",
     "output_type": "stream",
     "text": [
      "gen_df:\n"
     ]
    },
    {
     "data": {
      "text/html": [
       "<div>\n",
       "<style scoped>\n",
       "    .dataframe tbody tr th:only-of-type {\n",
       "        vertical-align: middle;\n",
       "    }\n",
       "\n",
       "    .dataframe tbody tr th {\n",
       "        vertical-align: top;\n",
       "    }\n",
       "\n",
       "    .dataframe thead th {\n",
       "        text-align: right;\n",
       "    }\n",
       "</style>\n",
       "<table border=\"1\" class=\"dataframe\">\n",
       "  <thead>\n",
       "    <tr style=\"text-align: right;\">\n",
       "      <th></th>\n",
       "      <th>BusNum</th>\n",
       "      <th>GenID</th>\n",
       "      <th>GenMWMax</th>\n",
       "      <th>GenMWMin</th>\n",
       "      <th>GenWindPowerFactor</th>\n",
       "      <th>GenFuelType</th>\n",
       "      <th>GenUID</th>\n",
       "      <th>BusName</th>\n",
       "      <th>Latitude</th>\n",
       "      <th>Longitude</th>\n",
       "      <th>Zone</th>\n",
       "    </tr>\n",
       "  </thead>\n",
       "  <tbody>\n",
       "    <tr>\n",
       "      <th>0</th>\n",
       "      <td>49</td>\n",
       "      <td>1</td>\n",
       "      <td>4.53</td>\n",
       "      <td>1.36</td>\n",
       "      <td>1.0</td>\n",
       "      <td>Coal</td>\n",
       "      <td>49_Coal_1</td>\n",
       "      <td>RANTOUL21</td>\n",
       "      <td>40.312222</td>\n",
       "      <td>-88.159444</td>\n",
       "      <td>6</td>\n",
       "    </tr>\n",
       "    <tr>\n",
       "      <th>1</th>\n",
       "      <td>50</td>\n",
       "      <td>1</td>\n",
       "      <td>4.53</td>\n",
       "      <td>1.36</td>\n",
       "      <td>1.0</td>\n",
       "      <td>Coal</td>\n",
       "      <td>50_Coal_1</td>\n",
       "      <td>RANTOUL22</td>\n",
       "      <td>40.312222</td>\n",
       "      <td>-88.159444</td>\n",
       "      <td>6</td>\n",
       "    </tr>\n",
       "    <tr>\n",
       "      <th>2</th>\n",
       "      <td>51</td>\n",
       "      <td>1</td>\n",
       "      <td>4.53</td>\n",
       "      <td>1.36</td>\n",
       "      <td>1.0</td>\n",
       "      <td>Coal</td>\n",
       "      <td>51_Coal_1</td>\n",
       "      <td>RANTOUL23</td>\n",
       "      <td>40.312222</td>\n",
       "      <td>-88.159444</td>\n",
       "      <td>6</td>\n",
       "    </tr>\n",
       "    <tr>\n",
       "      <th>3</th>\n",
       "      <td>52</td>\n",
       "      <td>1</td>\n",
       "      <td>4.53</td>\n",
       "      <td>1.36</td>\n",
       "      <td>1.0</td>\n",
       "      <td>Coal</td>\n",
       "      <td>52_Coal_1</td>\n",
       "      <td>RANTOUL24</td>\n",
       "      <td>40.312222</td>\n",
       "      <td>-88.159444</td>\n",
       "      <td>6</td>\n",
       "    </tr>\n",
       "    <tr>\n",
       "      <th>4</th>\n",
       "      <td>53</td>\n",
       "      <td>1</td>\n",
       "      <td>9.07</td>\n",
       "      <td>2.72</td>\n",
       "      <td>1.0</td>\n",
       "      <td>Coal</td>\n",
       "      <td>53_Coal_1</td>\n",
       "      <td>RANTOUL25</td>\n",
       "      <td>40.312222</td>\n",
       "      <td>-88.159444</td>\n",
       "      <td>6</td>\n",
       "    </tr>\n",
       "  </tbody>\n",
       "</table>\n",
       "</div>"
      ],
      "text/plain": [
       "   BusNum  GenID  GenMWMax  GenMWMin  GenWindPowerFactor GenFuelType  \\\n",
       "0      49      1      4.53      1.36                 1.0        Coal   \n",
       "1      50      1      4.53      1.36                 1.0        Coal   \n",
       "2      51      1      4.53      1.36                 1.0        Coal   \n",
       "3      52      1      4.53      1.36                 1.0        Coal   \n",
       "4      53      1      9.07      2.72                 1.0        Coal   \n",
       "\n",
       "      GenUID    BusName   Latitude  Longitude  Zone  \n",
       "0  49_Coal_1  RANTOUL21  40.312222 -88.159444     6  \n",
       "1  50_Coal_1  RANTOUL22  40.312222 -88.159444     6  \n",
       "2  51_Coal_1  RANTOUL23  40.312222 -88.159444     6  \n",
       "3  52_Coal_1  RANTOUL24  40.312222 -88.159444     6  \n",
       "4  53_Coal_1  RANTOUL25  40.312222 -88.159444     6  "
      ]
     },
     "execution_count": 3,
     "metadata": {},
     "output_type": "execute_result"
    },
    {
     "name": "stdout",
     "output_type": "stream",
     "text": [
      "wind_gen_df:\n"
     ]
    },
    {
     "data": {
      "text/html": [
       "<div>\n",
       "<style scoped>\n",
       "    .dataframe tbody tr th:only-of-type {\n",
       "        vertical-align: middle;\n",
       "    }\n",
       "\n",
       "    .dataframe tbody tr th {\n",
       "        vertical-align: top;\n",
       "    }\n",
       "\n",
       "    .dataframe thead th {\n",
       "        text-align: right;\n",
       "    }\n",
       "</style>\n",
       "<table border=\"1\" class=\"dataframe\">\n",
       "  <thead>\n",
       "    <tr style=\"text-align: right;\">\n",
       "      <th></th>\n",
       "      <th>BusNum</th>\n",
       "      <th>GenID</th>\n",
       "      <th>GenMWMax</th>\n",
       "      <th>GenMWMin</th>\n",
       "      <th>GenWindPowerFactor</th>\n",
       "      <th>GenFuelType</th>\n",
       "      <th>GenUID</th>\n",
       "      <th>BusName</th>\n",
       "      <th>Latitude</th>\n",
       "      <th>Longitude</th>\n",
       "      <th>Zone</th>\n",
       "    </tr>\n",
       "  </thead>\n",
       "  <tbody>\n",
       "    <tr>\n",
       "      <th>0</th>\n",
       "      <td>65</td>\n",
       "      <td>1</td>\n",
       "      <td>150.399995</td>\n",
       "      <td>45.120001</td>\n",
       "      <td>1.0</td>\n",
       "      <td>Wind</td>\n",
       "      <td>65_Wind_1</td>\n",
       "      <td>PAXTON11</td>\n",
       "      <td>40.46405</td>\n",
       "      <td>-88.021517</td>\n",
       "      <td>6</td>\n",
       "    </tr>\n",
       "    <tr>\n",
       "      <th>1</th>\n",
       "      <td>104</td>\n",
       "      <td>1</td>\n",
       "      <td>99.000001</td>\n",
       "      <td>29.699999</td>\n",
       "      <td>1.0</td>\n",
       "      <td>Wind</td>\n",
       "      <td>104_Wind_1</td>\n",
       "      <td>ELLSWORTH12</td>\n",
       "      <td>40.47920</td>\n",
       "      <td>-88.798900</td>\n",
       "      <td>7</td>\n",
       "    </tr>\n",
       "    <tr>\n",
       "      <th>2</th>\n",
       "      <td>105</td>\n",
       "      <td>1</td>\n",
       "      <td>198.000002</td>\n",
       "      <td>59.400004</td>\n",
       "      <td>1.0</td>\n",
       "      <td>Wind</td>\n",
       "      <td>105_Wind_1</td>\n",
       "      <td>ELLSWORTH13</td>\n",
       "      <td>40.47920</td>\n",
       "      <td>-88.798900</td>\n",
       "      <td>7</td>\n",
       "    </tr>\n",
       "    <tr>\n",
       "      <th>3</th>\n",
       "      <td>114</td>\n",
       "      <td>1</td>\n",
       "      <td>1.700000</td>\n",
       "      <td>0.510000</td>\n",
       "      <td>1.0</td>\n",
       "      <td>Wind</td>\n",
       "      <td>114_Wind_1</td>\n",
       "      <td>NORMAL22</td>\n",
       "      <td>40.53700</td>\n",
       "      <td>-89.019000</td>\n",
       "      <td>7</td>\n",
       "    </tr>\n",
       "    <tr>\n",
       "      <th>4</th>\n",
       "      <td>115</td>\n",
       "      <td>1</td>\n",
       "      <td>150.000000</td>\n",
       "      <td>44.999999</td>\n",
       "      <td>1.0</td>\n",
       "      <td>Wind</td>\n",
       "      <td>115_Wind_1</td>\n",
       "      <td>NORMAL23</td>\n",
       "      <td>40.53700</td>\n",
       "      <td>-89.019000</td>\n",
       "      <td>7</td>\n",
       "    </tr>\n",
       "  </tbody>\n",
       "</table>\n",
       "</div>"
      ],
      "text/plain": [
       "   BusNum  GenID    GenMWMax   GenMWMin  GenWindPowerFactor GenFuelType  \\\n",
       "0      65      1  150.399995  45.120001                 1.0        Wind   \n",
       "1     104      1   99.000001  29.699999                 1.0        Wind   \n",
       "2     105      1  198.000002  59.400004                 1.0        Wind   \n",
       "3     114      1    1.700000   0.510000                 1.0        Wind   \n",
       "4     115      1  150.000000  44.999999                 1.0        Wind   \n",
       "\n",
       "       GenUID      BusName  Latitude  Longitude  Zone  \n",
       "0   65_Wind_1     PAXTON11  40.46405 -88.021517     6  \n",
       "1  104_Wind_1  ELLSWORTH12  40.47920 -88.798900     7  \n",
       "2  105_Wind_1  ELLSWORTH13  40.47920 -88.798900     7  \n",
       "3  114_Wind_1     NORMAL22  40.53700 -89.019000     7  \n",
       "4  115_Wind_1     NORMAL23  40.53700 -89.019000     7  "
      ]
     },
     "execution_count": 3,
     "metadata": {},
     "output_type": "execute_result"
    }
   ],
   "source": [
    "# choose TAMU grid\n",
    "# grid files can be downloaded from:\n",
    "# https://electricgrids.engr.tamu.edu/electric-grid-test-cases/\n",
    "\n",
    "grid_name = \"ACTIVSg200\"  # TAMU 200 bus case\n",
    "# grid_name = \"ACTIVSg2000\"  # TAMU 2000 bus case\n",
    "# grid_name = 'ACTIVSg10k' # TAMU 10000 bus case\n",
    "\n",
    "# path to .aux file (TAMU grids) obtained from e.g.\n",
    "# https://electricgrids.engr.tamu.edu/electric-grid-test-cases/activsg200/\n",
    "data_dir = \"../data/grid-data/\"\n",
    "aux_file_name = data_dir + grid_name + \"/\" + grid_name + \".aux\"\n",
    "\n",
    "# parse original .aux file and return dataframes for buses, generators, and wind generators\n",
    "# here, we need .aux files because those are the only ones with Latitute/Longitude information\n",
    "parser = Parser()\n",
    "bus_df, gen_df, wind_gen_df = parser.parse_tamu_aux(aux_file_name)\n",
    "\n",
    "# see what you got\n",
    "print(\"bus_df:\")\n",
    "bus_df.head()\n",
    "print(\"gen_df:\")\n",
    "gen_df.head()\n",
    "print(\"wind_gen_df:\")\n",
    "wind_gen_df.head()"
   ]
  },
  {
   "cell_type": "markdown",
   "metadata": {},
   "source": [
    "## instantiate Grid class"
   ]
  },
  {
   "cell_type": "code",
   "execution_count": 4,
   "metadata": {},
   "outputs": [
    {
     "data": {
      "text/plain": [
       "Grid(name=ACTIVSg200, buses=200, generators=49, wind_generators=6, wind_sites=0)"
      ]
     },
     "execution_count": 4,
     "metadata": {},
     "output_type": "execute_result"
    },
    {
     "name": "stdout",
     "output_type": "stream",
     "text": [
      "\n",
      "ACTIVSg200 grid info: \n",
      "\n",
      " number of buses: 200\n",
      " number of generators: 49\n",
      " number of wind generators: 6\n",
      " number of solar generators: 0\n",
      " total generator capacity: 3602.84 MW\n",
      " wind capacity/penetration: 699.60 MW / 19.42%\n",
      " solar capacity/penetration: 0.00 MW / 0.00%\n"
     ]
    }
   ],
   "source": [
    "# to instantiate a grid we need: name, bus, generator, and wind generator dataframes from Parser\n",
    "# really, we only wind generator, might change in the future\n",
    "grid = Grid(grid_name, bus_df, gen_df, wind_gen_df)\n",
    "grid\n",
    "print(grid.info())"
   ]
  },
  {
   "cell_type": "markdown",
   "metadata": {},
   "source": [
    "## (optional) change_wind_penetration method"
   ]
  },
  {
   "cell_type": "code",
   "execution_count": 5,
   "metadata": {},
   "outputs": [],
   "source": [
    "# ?grid.change_wind_penetration"
   ]
  },
  {
   "cell_type": "markdown",
   "metadata": {},
   "source": [
    "## retrieve_wind_sites method"
   ]
  },
  {
   "cell_type": "code",
   "execution_count": 6,
   "metadata": {},
   "outputs": [],
   "source": [
    "# ?grid.retrieve_wind_sites"
   ]
  },
  {
   "cell_type": "code",
   "execution_count": 7,
   "metadata": {},
   "outputs": [
    {
     "data": {
      "text/plain": [
       "Grid(name=ACTIVSg200, buses=200, generators=49, wind_generators=6, wind_sites=0)"
      ]
     },
     "execution_count": 7,
     "metadata": {},
     "output_type": "execute_result"
    },
    {
     "name": "stdout",
     "output_type": "stream",
     "text": [
      "Retrieving wind sites ...\n",
      "Done\n"
     ]
    },
    {
     "data": {
      "text/plain": [
       "Grid(name=ACTIVSg200, buses=200, generators=49, wind_generators=6, wind_sites=50)"
      ]
     },
     "execution_count": 7,
     "metadata": {},
     "output_type": "execute_result"
    },
    {
     "data": {
      "text/html": [
       "<div>\n",
       "<style scoped>\n",
       "    .dataframe tbody tr th:only-of-type {\n",
       "        vertical-align: middle;\n",
       "    }\n",
       "\n",
       "    .dataframe tbody tr th {\n",
       "        vertical-align: top;\n",
       "    }\n",
       "\n",
       "    .dataframe thead th {\n",
       "        text-align: right;\n",
       "    }\n",
       "</style>\n",
       "<table border=\"1\" class=\"dataframe\">\n",
       "  <thead>\n",
       "    <tr style=\"text-align: right;\">\n",
       "      <th></th>\n",
       "      <th>SiteID</th>\n",
       "      <th>Capacity</th>\n",
       "      <th>Point</th>\n",
       "      <th>Latitude</th>\n",
       "      <th>Longitude</th>\n",
       "      <th>BusNum</th>\n",
       "      <th>GenUID</th>\n",
       "    </tr>\n",
       "  </thead>\n",
       "  <tbody>\n",
       "    <tr>\n",
       "      <th>0</th>\n",
       "      <td>54007</td>\n",
       "      <td>16.0</td>\n",
       "      <td>POINT (-88.02514600000001 40.458515)</td>\n",
       "      <td>40.458515</td>\n",
       "      <td>-88.025146</td>\n",
       "      <td>65</td>\n",
       "      <td>65_Wind_1</td>\n",
       "    </tr>\n",
       "    <tr>\n",
       "      <th>1</th>\n",
       "      <td>54196</td>\n",
       "      <td>16.0</td>\n",
       "      <td>POINT (-88.02273599999999 40.476978)</td>\n",
       "      <td>40.476978</td>\n",
       "      <td>-88.022736</td>\n",
       "      <td>65</td>\n",
       "      <td>65_Wind_1</td>\n",
       "    </tr>\n",
       "    <tr>\n",
       "      <th>2</th>\n",
       "      <td>54008</td>\n",
       "      <td>16.0</td>\n",
       "      <td>POINT (-88.000885 40.456665)</td>\n",
       "      <td>40.456665</td>\n",
       "      <td>-88.000885</td>\n",
       "      <td>65</td>\n",
       "      <td>65_Wind_1</td>\n",
       "    </tr>\n",
       "    <tr>\n",
       "      <th>3</th>\n",
       "      <td>53833</td>\n",
       "      <td>16.0</td>\n",
       "      <td>POINT (-88.02758799999999 40.440052)</td>\n",
       "      <td>40.440052</td>\n",
       "      <td>-88.027588</td>\n",
       "      <td>65</td>\n",
       "      <td>65_Wind_1</td>\n",
       "    </tr>\n",
       "    <tr>\n",
       "      <th>4</th>\n",
       "      <td>54197</td>\n",
       "      <td>16.0</td>\n",
       "      <td>POINT (-87.998474 40.475128)</td>\n",
       "      <td>40.475128</td>\n",
       "      <td>-87.998474</td>\n",
       "      <td>65</td>\n",
       "      <td>65_Wind_1</td>\n",
       "    </tr>\n",
       "  </tbody>\n",
       "</table>\n",
       "</div>"
      ],
      "text/plain": [
       "   SiteID  Capacity                                 Point   Latitude  \\\n",
       "0   54007      16.0  POINT (-88.02514600000001 40.458515)  40.458515   \n",
       "1   54196      16.0  POINT (-88.02273599999999 40.476978)  40.476978   \n",
       "2   54008      16.0          POINT (-88.000885 40.456665)  40.456665   \n",
       "3   53833      16.0  POINT (-88.02758799999999 40.440052)  40.440052   \n",
       "4   54197      16.0          POINT (-87.998474 40.475128)  40.475128   \n",
       "\n",
       "   Longitude  BusNum     GenUID  \n",
       "0 -88.025146      65  65_Wind_1  \n",
       "1 -88.022736      65  65_Wind_1  \n",
       "2 -88.000885      65  65_Wind_1  \n",
       "3 -88.027588      65  65_Wind_1  \n",
       "4 -87.998474      65  65_Wind_1  "
      ]
     },
     "execution_count": 7,
     "metadata": {},
     "output_type": "execute_result"
    }
   ],
   "source": [
    "# retrieve wind sites matching current wind penetration\n",
    "# currently, uses AWS (later will implement \"source\" option to choose from AWS or local data )\n",
    "# uses pywtk_api\n",
    "\n",
    "# retrieve wind sites (wind_sites are initially set to empty df )\n",
    "grid\n",
    "grid.retrieve_wind_sites()\n",
    "grid\n",
    "grid.wind_sites.head()"
   ]
  },
  {
   "cell_type": "markdown",
   "metadata": {},
   "source": [
    "## make_tables method (uses internal retrieve_wtk_data method)"
   ]
  },
  {
   "cell_type": "code",
   "execution_count": 8,
   "metadata": {},
   "outputs": [
    {
     "name": "stdout",
     "output_type": "stream",
     "text": [
      "Retrieving WTK data ...\n",
      "Done\n",
      "Retrieving WTK data ...\n",
      "Done\n"
     ]
    }
   ],
   "source": [
    "grid.make_tables(\n",
    "    actuals_start=pd.Timestamp(\"2007-01-01 00:00:00\", tz=\"utc\"),\n",
    "    actuals_end=pd.Timestamp(\"2007-12-31 23:55:00\", tz=\"utc\"),\n",
    "    scenarios_start=pd.Timestamp(\"2008-01-01 00:00:00\", tz=\"utc\"),\n",
    "    scenarios_end=pd.Timestamp(\"2013-12-31 23:55:00\", tz=\"utc\"),\n",
    "    source=\"AWS\",\n",
    ")"
   ]
  },
  {
   "cell_type": "markdown",
   "metadata": {},
   "source": [
    "## change actuals year as needed"
   ]
  },
  {
   "cell_type": "code",
   "execution_count": 9,
   "metadata": {},
   "outputs": [
    {
     "name": "stdout",
     "output_type": "stream",
     "text": [
      "\n",
      "actuals_df:\n"
     ]
    },
    {
     "data": {
      "text/html": [
       "<div>\n",
       "<style scoped>\n",
       "    .dataframe tbody tr th:only-of-type {\n",
       "        vertical-align: middle;\n",
       "    }\n",
       "\n",
       "    .dataframe tbody tr th {\n",
       "        vertical-align: top;\n",
       "    }\n",
       "\n",
       "    .dataframe thead th {\n",
       "        text-align: right;\n",
       "    }\n",
       "</style>\n",
       "<table border=\"1\" class=\"dataframe\">\n",
       "  <thead>\n",
       "    <tr style=\"text-align: right;\">\n",
       "      <th></th>\n",
       "      <th>65_Wind_1</th>\n",
       "      <th>104_Wind_1</th>\n",
       "      <th>105_Wind_1</th>\n",
       "      <th>114_Wind_1</th>\n",
       "      <th>115_Wind_1</th>\n",
       "      <th>147_Wind_1</th>\n",
       "      <th>TotalPower</th>\n",
       "    </tr>\n",
       "    <tr>\n",
       "      <th>IssueTime</th>\n",
       "      <th></th>\n",
       "      <th></th>\n",
       "      <th></th>\n",
       "      <th></th>\n",
       "      <th></th>\n",
       "      <th></th>\n",
       "      <th></th>\n",
       "    </tr>\n",
       "  </thead>\n",
       "  <tbody>\n",
       "    <tr>\n",
       "      <th>2020-01-01 00:00:00+00:00</th>\n",
       "      <td>142.094736</td>\n",
       "      <td>99.000001</td>\n",
       "      <td>198.000002</td>\n",
       "      <td>1.7</td>\n",
       "      <td>150.0</td>\n",
       "      <td>100.5</td>\n",
       "      <td>691.294739</td>\n",
       "    </tr>\n",
       "    <tr>\n",
       "      <th>2020-01-01 00:05:00+00:00</th>\n",
       "      <td>140.804726</td>\n",
       "      <td>99.000001</td>\n",
       "      <td>198.000002</td>\n",
       "      <td>1.7</td>\n",
       "      <td>150.0</td>\n",
       "      <td>100.5</td>\n",
       "      <td>690.004728</td>\n",
       "    </tr>\n",
       "    <tr>\n",
       "      <th>2020-01-01 00:10:00+00:00</th>\n",
       "      <td>142.361249</td>\n",
       "      <td>99.000001</td>\n",
       "      <td>198.000002</td>\n",
       "      <td>1.7</td>\n",
       "      <td>150.0</td>\n",
       "      <td>100.5</td>\n",
       "      <td>691.561251</td>\n",
       "    </tr>\n",
       "    <tr>\n",
       "      <th>2020-01-01 00:15:00+00:00</th>\n",
       "      <td>145.972502</td>\n",
       "      <td>99.000001</td>\n",
       "      <td>198.000002</td>\n",
       "      <td>1.7</td>\n",
       "      <td>150.0</td>\n",
       "      <td>100.5</td>\n",
       "      <td>695.172504</td>\n",
       "    </tr>\n",
       "    <tr>\n",
       "      <th>2020-01-01 00:20:00+00:00</th>\n",
       "      <td>150.399995</td>\n",
       "      <td>99.000001</td>\n",
       "      <td>198.000002</td>\n",
       "      <td>1.7</td>\n",
       "      <td>150.0</td>\n",
       "      <td>100.5</td>\n",
       "      <td>699.599997</td>\n",
       "    </tr>\n",
       "  </tbody>\n",
       "</table>\n",
       "</div>"
      ],
      "text/plain": [
       "                            65_Wind_1  104_Wind_1  105_Wind_1  114_Wind_1  \\\n",
       "IssueTime                                                                   \n",
       "2020-01-01 00:00:00+00:00  142.094736   99.000001  198.000002         1.7   \n",
       "2020-01-01 00:05:00+00:00  140.804726   99.000001  198.000002         1.7   \n",
       "2020-01-01 00:10:00+00:00  142.361249   99.000001  198.000002         1.7   \n",
       "2020-01-01 00:15:00+00:00  145.972502   99.000001  198.000002         1.7   \n",
       "2020-01-01 00:20:00+00:00  150.399995   99.000001  198.000002         1.7   \n",
       "\n",
       "                           115_Wind_1  147_Wind_1  TotalPower  \n",
       "IssueTime                                                      \n",
       "2020-01-01 00:00:00+00:00       150.0       100.5  691.294739  \n",
       "2020-01-01 00:05:00+00:00       150.0       100.5  690.004728  \n",
       "2020-01-01 00:10:00+00:00       150.0       100.5  691.561251  \n",
       "2020-01-01 00:15:00+00:00       150.0       100.5  695.172504  \n",
       "2020-01-01 00:20:00+00:00       150.0       100.5  699.599997  "
      ]
     },
     "execution_count": 9,
     "metadata": {},
     "output_type": "execute_result"
    },
    {
     "name": "stdout",
     "output_type": "stream",
     "text": [
      "\n",
      "scenarios_df:\n"
     ]
    },
    {
     "data": {
      "text/html": [
       "<div>\n",
       "<style scoped>\n",
       "    .dataframe tbody tr th:only-of-type {\n",
       "        vertical-align: middle;\n",
       "    }\n",
       "\n",
       "    .dataframe tbody tr th {\n",
       "        vertical-align: top;\n",
       "    }\n",
       "\n",
       "    .dataframe thead th {\n",
       "        text-align: right;\n",
       "    }\n",
       "</style>\n",
       "<table border=\"1\" class=\"dataframe\">\n",
       "  <thead>\n",
       "    <tr style=\"text-align: right;\">\n",
       "      <th></th>\n",
       "      <th>65_Wind_1</th>\n",
       "      <th>104_Wind_1</th>\n",
       "      <th>105_Wind_1</th>\n",
       "      <th>114_Wind_1</th>\n",
       "      <th>115_Wind_1</th>\n",
       "      <th>147_Wind_1</th>\n",
       "      <th>TotalPower</th>\n",
       "      <th>Deviation</th>\n",
       "    </tr>\n",
       "    <tr>\n",
       "      <th>IssueTime</th>\n",
       "      <th></th>\n",
       "      <th></th>\n",
       "      <th></th>\n",
       "      <th></th>\n",
       "      <th></th>\n",
       "      <th></th>\n",
       "      <th></th>\n",
       "      <th></th>\n",
       "    </tr>\n",
       "  </thead>\n",
       "  <tbody>\n",
       "    <tr>\n",
       "      <th>2008-01-01 00:00:00+00:00</th>\n",
       "      <td>1.459344</td>\n",
       "      <td>0.668133</td>\n",
       "      <td>0.583035</td>\n",
       "      <td>-0.024500</td>\n",
       "      <td>0.877288</td>\n",
       "      <td>1.845110</td>\n",
       "      <td>96.746560</td>\n",
       "      <td>5.408411</td>\n",
       "    </tr>\n",
       "    <tr>\n",
       "      <th>2008-01-01 00:05:00+00:00</th>\n",
       "      <td>1.601367</td>\n",
       "      <td>-0.445220</td>\n",
       "      <td>1.269019</td>\n",
       "      <td>0.091567</td>\n",
       "      <td>1.525665</td>\n",
       "      <td>3.528319</td>\n",
       "      <td>102.154971</td>\n",
       "      <td>7.570718</td>\n",
       "    </tr>\n",
       "    <tr>\n",
       "      <th>2008-01-01 00:10:00+00:00</th>\n",
       "      <td>1.097983</td>\n",
       "      <td>-0.016742</td>\n",
       "      <td>1.678258</td>\n",
       "      <td>0.294259</td>\n",
       "      <td>3.257260</td>\n",
       "      <td>5.579959</td>\n",
       "      <td>109.725689</td>\n",
       "      <td>11.890977</td>\n",
       "    </tr>\n",
       "    <tr>\n",
       "      <th>2008-01-01 00:15:00+00:00</th>\n",
       "      <td>1.172363</td>\n",
       "      <td>2.034480</td>\n",
       "      <td>3.025435</td>\n",
       "      <td>0.001593</td>\n",
       "      <td>4.814818</td>\n",
       "      <td>3.355411</td>\n",
       "      <td>121.616666</td>\n",
       "      <td>14.404100</td>\n",
       "    </tr>\n",
       "    <tr>\n",
       "      <th>2008-01-01 00:20:00+00:00</th>\n",
       "      <td>1.237113</td>\n",
       "      <td>2.234493</td>\n",
       "      <td>2.933309</td>\n",
       "      <td>0.000000</td>\n",
       "      <td>5.278723</td>\n",
       "      <td>6.783124</td>\n",
       "      <td>136.020766</td>\n",
       "      <td>18.466761</td>\n",
       "    </tr>\n",
       "  </tbody>\n",
       "</table>\n",
       "</div>"
      ],
      "text/plain": [
       "                           65_Wind_1  104_Wind_1  105_Wind_1  114_Wind_1  \\\n",
       "IssueTime                                                                  \n",
       "2008-01-01 00:00:00+00:00   1.459344    0.668133    0.583035   -0.024500   \n",
       "2008-01-01 00:05:00+00:00   1.601367   -0.445220    1.269019    0.091567   \n",
       "2008-01-01 00:10:00+00:00   1.097983   -0.016742    1.678258    0.294259   \n",
       "2008-01-01 00:15:00+00:00   1.172363    2.034480    3.025435    0.001593   \n",
       "2008-01-01 00:20:00+00:00   1.237113    2.234493    2.933309    0.000000   \n",
       "\n",
       "                           115_Wind_1  147_Wind_1  TotalPower  Deviation  \n",
       "IssueTime                                                                 \n",
       "2008-01-01 00:00:00+00:00    0.877288    1.845110   96.746560   5.408411  \n",
       "2008-01-01 00:05:00+00:00    1.525665    3.528319  102.154971   7.570718  \n",
       "2008-01-01 00:10:00+00:00    3.257260    5.579959  109.725689  11.890977  \n",
       "2008-01-01 00:15:00+00:00    4.814818    3.355411  121.616666  14.404100  \n",
       "2008-01-01 00:20:00+00:00    5.278723    6.783124  136.020766  18.466761  "
      ]
     },
     "execution_count": 9,
     "metadata": {},
     "output_type": "execute_result"
    }
   ],
   "source": [
    "# for actuals, make year you want\n",
    "grid.actuals.index = grid.actuals.index.map(lambda t: t.replace(year=2020))\n",
    "# see what you got\n",
    "print(\"\\nactuals_df:\")\n",
    "grid.actuals.head()\n",
    "print(\"\\nscenarios_df:\")\n",
    "grid.scenarios.head()"
   ]
  },
  {
   "cell_type": "markdown",
   "metadata": {},
   "source": [
    "## generate_wind_scenarios"
   ]
  },
  {
   "cell_type": "code",
   "execution_count": 73,
   "metadata": {},
   "outputs": [
    {
     "name": "stdout",
     "output_type": "stream",
     "text": [
      "sim_timestamp = 2020-07-01 00:15:00+00:00\n",
      "random_seed = 320297024\n"
     ]
    },
    {
     "data": {
      "text/html": [
       "<div>\n",
       "<style scoped>\n",
       "    .dataframe tbody tr th:only-of-type {\n",
       "        vertical-align: middle;\n",
       "    }\n",
       "\n",
       "    .dataframe tbody tr th {\n",
       "        vertical-align: top;\n",
       "    }\n",
       "\n",
       "    .dataframe thead th {\n",
       "        text-align: right;\n",
       "    }\n",
       "</style>\n",
       "<table border=\"1\" class=\"dataframe\">\n",
       "  <thead>\n",
       "    <tr style=\"text-align: right;\">\n",
       "      <th></th>\n",
       "      <th></th>\n",
       "      <th></th>\n",
       "      <th>65_Wind_1</th>\n",
       "      <th>104_Wind_1</th>\n",
       "      <th>105_Wind_1</th>\n",
       "      <th>114_Wind_1</th>\n",
       "      <th>115_Wind_1</th>\n",
       "      <th>147_Wind_1</th>\n",
       "    </tr>\n",
       "    <tr>\n",
       "      <th>sim_timestamp</th>\n",
       "      <th>scenario_nr</th>\n",
       "      <th>period_timestamp</th>\n",
       "      <th></th>\n",
       "      <th></th>\n",
       "      <th></th>\n",
       "      <th></th>\n",
       "      <th></th>\n",
       "      <th></th>\n",
       "    </tr>\n",
       "  </thead>\n",
       "  <tbody>\n",
       "    <tr>\n",
       "      <th rowspan=\"11\" valign=\"top\">2020-07-01 00:15:00+00:00</th>\n",
       "      <th rowspan=\"5\" valign=\"top\">1</th>\n",
       "      <th>2020-07-01 00:15:00+00:00</th>\n",
       "      <td>33.1197</td>\n",
       "      <td>12.4853</td>\n",
       "      <td>30.3497</td>\n",
       "      <td>1.24115</td>\n",
       "      <td>15.2733</td>\n",
       "      <td>12.0814</td>\n",
       "    </tr>\n",
       "    <tr>\n",
       "      <th>2020-07-01 00:20:00+00:00</th>\n",
       "      <td>35.4053</td>\n",
       "      <td>12.4538</td>\n",
       "      <td>30.2755</td>\n",
       "      <td>1.33188</td>\n",
       "      <td>16.3382</td>\n",
       "      <td>12.7379</td>\n",
       "    </tr>\n",
       "    <tr>\n",
       "      <th>2020-07-01 00:25:00+00:00</th>\n",
       "      <td>37.2813</td>\n",
       "      <td>11.3955</td>\n",
       "      <td>28.2976</td>\n",
       "      <td>1.49707</td>\n",
       "      <td>18.8106</td>\n",
       "      <td>13.2655</td>\n",
       "    </tr>\n",
       "    <tr>\n",
       "      <th>2020-07-01 00:30:00+00:00</th>\n",
       "      <td>38.7384</td>\n",
       "      <td>11.155</td>\n",
       "      <td>28.0837</td>\n",
       "      <td>1.7</td>\n",
       "      <td>21.1133</td>\n",
       "      <td>12.2943</td>\n",
       "    </tr>\n",
       "    <tr>\n",
       "      <th>2020-07-01 00:35:00+00:00</th>\n",
       "      <td>39.6847</td>\n",
       "      <td>10.1868</td>\n",
       "      <td>26.8224</td>\n",
       "      <td>1.59659</td>\n",
       "      <td>19.4934</td>\n",
       "      <td>11.3014</td>\n",
       "    </tr>\n",
       "    <tr>\n",
       "      <th>...</th>\n",
       "      <th>...</th>\n",
       "      <td>...</td>\n",
       "      <td>...</td>\n",
       "      <td>...</td>\n",
       "      <td>...</td>\n",
       "      <td>...</td>\n",
       "      <td>...</td>\n",
       "    </tr>\n",
       "    <tr>\n",
       "      <th rowspan=\"5\" valign=\"top\">10</th>\n",
       "      <th>2020-07-01 00:20:00+00:00</th>\n",
       "      <td>24.3359</td>\n",
       "      <td>2.93223</td>\n",
       "      <td>11.4497</td>\n",
       "      <td>1.18193</td>\n",
       "      <td>14.5921</td>\n",
       "      <td>11.7271</td>\n",
       "    </tr>\n",
       "    <tr>\n",
       "      <th>2020-07-01 00:25:00+00:00</th>\n",
       "      <td>24.131</td>\n",
       "      <td>0</td>\n",
       "      <td>0</td>\n",
       "      <td>0.904164</td>\n",
       "      <td>11.0059</td>\n",
       "      <td>11.6113</td>\n",
       "    </tr>\n",
       "    <tr>\n",
       "      <th>2020-07-01 00:30:00+00:00</th>\n",
       "      <td>24.0396</td>\n",
       "      <td>0</td>\n",
       "      <td>0</td>\n",
       "      <td>0.681776</td>\n",
       "      <td>7.25509</td>\n",
       "      <td>11.6269</td>\n",
       "    </tr>\n",
       "    <tr>\n",
       "      <th>2020-07-01 00:35:00+00:00</th>\n",
       "      <td>24.6736</td>\n",
       "      <td>0</td>\n",
       "      <td>0</td>\n",
       "      <td>0.529122</td>\n",
       "      <td>3.96379</td>\n",
       "      <td>11.5084</td>\n",
       "    </tr>\n",
       "    <tr>\n",
       "      <th>2020-07-01 00:40:00+00:00</th>\n",
       "      <td>24.6197</td>\n",
       "      <td>0</td>\n",
       "      <td>0</td>\n",
       "      <td>0.442893</td>\n",
       "      <td>1.56019</td>\n",
       "      <td>11.502</td>\n",
       "    </tr>\n",
       "  </tbody>\n",
       "</table>\n",
       "<p>60 rows × 6 columns</p>\n",
       "</div>"
      ],
      "text/plain": [
       "                                                                65_Wind_1  \\\n",
       "sim_timestamp             scenario_nr period_timestamp                      \n",
       "2020-07-01 00:15:00+00:00 1           2020-07-01 00:15:00+00:00   33.1197   \n",
       "                                      2020-07-01 00:20:00+00:00   35.4053   \n",
       "                                      2020-07-01 00:25:00+00:00   37.2813   \n",
       "                                      2020-07-01 00:30:00+00:00   38.7384   \n",
       "                                      2020-07-01 00:35:00+00:00   39.6847   \n",
       "...                                                                   ...   \n",
       "                          10          2020-07-01 00:20:00+00:00   24.3359   \n",
       "                                      2020-07-01 00:25:00+00:00    24.131   \n",
       "                                      2020-07-01 00:30:00+00:00   24.0396   \n",
       "                                      2020-07-01 00:35:00+00:00   24.6736   \n",
       "                                      2020-07-01 00:40:00+00:00   24.6197   \n",
       "\n",
       "                                                                104_Wind_1  \\\n",
       "sim_timestamp             scenario_nr period_timestamp                       \n",
       "2020-07-01 00:15:00+00:00 1           2020-07-01 00:15:00+00:00    12.4853   \n",
       "                                      2020-07-01 00:20:00+00:00    12.4538   \n",
       "                                      2020-07-01 00:25:00+00:00    11.3955   \n",
       "                                      2020-07-01 00:30:00+00:00     11.155   \n",
       "                                      2020-07-01 00:35:00+00:00    10.1868   \n",
       "...                                                                    ...   \n",
       "                          10          2020-07-01 00:20:00+00:00    2.93223   \n",
       "                                      2020-07-01 00:25:00+00:00          0   \n",
       "                                      2020-07-01 00:30:00+00:00          0   \n",
       "                                      2020-07-01 00:35:00+00:00          0   \n",
       "                                      2020-07-01 00:40:00+00:00          0   \n",
       "\n",
       "                                                                105_Wind_1  \\\n",
       "sim_timestamp             scenario_nr period_timestamp                       \n",
       "2020-07-01 00:15:00+00:00 1           2020-07-01 00:15:00+00:00    30.3497   \n",
       "                                      2020-07-01 00:20:00+00:00    30.2755   \n",
       "                                      2020-07-01 00:25:00+00:00    28.2976   \n",
       "                                      2020-07-01 00:30:00+00:00    28.0837   \n",
       "                                      2020-07-01 00:35:00+00:00    26.8224   \n",
       "...                                                                    ...   \n",
       "                          10          2020-07-01 00:20:00+00:00    11.4497   \n",
       "                                      2020-07-01 00:25:00+00:00          0   \n",
       "                                      2020-07-01 00:30:00+00:00          0   \n",
       "                                      2020-07-01 00:35:00+00:00          0   \n",
       "                                      2020-07-01 00:40:00+00:00          0   \n",
       "\n",
       "                                                                114_Wind_1  \\\n",
       "sim_timestamp             scenario_nr period_timestamp                       \n",
       "2020-07-01 00:15:00+00:00 1           2020-07-01 00:15:00+00:00    1.24115   \n",
       "                                      2020-07-01 00:20:00+00:00    1.33188   \n",
       "                                      2020-07-01 00:25:00+00:00    1.49707   \n",
       "                                      2020-07-01 00:30:00+00:00        1.7   \n",
       "                                      2020-07-01 00:35:00+00:00    1.59659   \n",
       "...                                                                    ...   \n",
       "                          10          2020-07-01 00:20:00+00:00    1.18193   \n",
       "                                      2020-07-01 00:25:00+00:00   0.904164   \n",
       "                                      2020-07-01 00:30:00+00:00   0.681776   \n",
       "                                      2020-07-01 00:35:00+00:00   0.529122   \n",
       "                                      2020-07-01 00:40:00+00:00   0.442893   \n",
       "\n",
       "                                                                115_Wind_1  \\\n",
       "sim_timestamp             scenario_nr period_timestamp                       \n",
       "2020-07-01 00:15:00+00:00 1           2020-07-01 00:15:00+00:00    15.2733   \n",
       "                                      2020-07-01 00:20:00+00:00    16.3382   \n",
       "                                      2020-07-01 00:25:00+00:00    18.8106   \n",
       "                                      2020-07-01 00:30:00+00:00    21.1133   \n",
       "                                      2020-07-01 00:35:00+00:00    19.4934   \n",
       "...                                                                    ...   \n",
       "                          10          2020-07-01 00:20:00+00:00    14.5921   \n",
       "                                      2020-07-01 00:25:00+00:00    11.0059   \n",
       "                                      2020-07-01 00:30:00+00:00    7.25509   \n",
       "                                      2020-07-01 00:35:00+00:00    3.96379   \n",
       "                                      2020-07-01 00:40:00+00:00    1.56019   \n",
       "\n",
       "                                                                147_Wind_1  \n",
       "sim_timestamp             scenario_nr period_timestamp                      \n",
       "2020-07-01 00:15:00+00:00 1           2020-07-01 00:15:00+00:00    12.0814  \n",
       "                                      2020-07-01 00:20:00+00:00    12.7379  \n",
       "                                      2020-07-01 00:25:00+00:00    13.2655  \n",
       "                                      2020-07-01 00:30:00+00:00    12.2943  \n",
       "                                      2020-07-01 00:35:00+00:00    11.3014  \n",
       "...                                                                    ...  \n",
       "                          10          2020-07-01 00:20:00+00:00    11.7271  \n",
       "                                      2020-07-01 00:25:00+00:00    11.6113  \n",
       "                                      2020-07-01 00:30:00+00:00    11.6269  \n",
       "                                      2020-07-01 00:35:00+00:00    11.5084  \n",
       "                                      2020-07-01 00:40:00+00:00     11.502  \n",
       "\n",
       "[60 rows x 6 columns]"
      ]
     },
     "execution_count": 73,
     "metadata": {},
     "output_type": "execute_result"
    },
    {
     "data": {
      "text/html": [
       "<div>\n",
       "<style scoped>\n",
       "    .dataframe tbody tr th:only-of-type {\n",
       "        vertical-align: middle;\n",
       "    }\n",
       "\n",
       "    .dataframe tbody tr th {\n",
       "        vertical-align: top;\n",
       "    }\n",
       "\n",
       "    .dataframe thead th {\n",
       "        text-align: right;\n",
       "    }\n",
       "</style>\n",
       "<table border=\"1\" class=\"dataframe\">\n",
       "  <thead>\n",
       "    <tr style=\"text-align: right;\">\n",
       "      <th></th>\n",
       "      <th>1</th>\n",
       "      <th>2</th>\n",
       "      <th>3</th>\n",
       "      <th>4</th>\n",
       "      <th>5</th>\n",
       "      <th>6</th>\n",
       "      <th>7</th>\n",
       "      <th>8</th>\n",
       "      <th>9</th>\n",
       "      <th>10</th>\n",
       "    </tr>\n",
       "  </thead>\n",
       "  <tbody>\n",
       "    <tr>\n",
       "      <th>2020-07-01 00:15:00+00:00</th>\n",
       "      <td>2.12927</td>\n",
       "      <td>0.337567</td>\n",
       "      <td>0.255777</td>\n",
       "      <td>0.170555</td>\n",
       "      <td>0.348728</td>\n",
       "      <td>0.401349</td>\n",
       "      <td>0.160297</td>\n",
       "      <td>0.768855</td>\n",
       "      <td>3.28665</td>\n",
       "      <td>0.237531</td>\n",
       "    </tr>\n",
       "  </tbody>\n",
       "</table>\n",
       "</div>"
      ],
      "text/plain": [
       "                                 1         2         3         4         5  \\\n",
       "2020-07-01 00:15:00+00:00  2.12927  0.337567  0.255777  0.170555  0.348728   \n",
       "\n",
       "                                  6         7         8        9        10  \n",
       "2020-07-01 00:15:00+00:00  0.401349  0.160297  0.768855  3.28665  0.237531  "
      ]
     },
     "execution_count": 73,
     "metadata": {},
     "output_type": "execute_result"
    }
   ],
   "source": [
    "# time period for which to generate scenarios\n",
    "\n",
    "# a few timestamps timestamp\n",
    "sim_timestamps = [pd.Timestamp(\"2020-07-01 00:15:00+0000\", tz=\"UTC\"),] \n",
    "#sim_timestamps = [pd.Timestamp(\"2020-07-01 00:15:00+0000\", tz=\"UTC\"),pd.Timestamp(\"2020-07-01 00:20:00+0000\", tz=\"UTC\")] \n",
    "\n",
    "# #range\n",
    "# sim_timestamps = pd.date_range(\n",
    "#     start=pd.Timestamp(\"2020-07-01 00:00:00+0000\", tz=\"UTC\"), end=pd.Timestamp(\"2020-07-01 00:10:00+0000\", tz=\"UTC\"), freq=\"5min\"\n",
    "# )\n",
    "\n",
    "\n",
    "# other parameters\n",
    "#sampling_method=\"monte carlo\"\n",
    "sampling_method=\"importance\"\n",
    "n_scenarios = 10\n",
    "n_periods = 6\n",
    "\n",
    "\n",
    "\n",
    "all_scenarios_df = pd.DataFrame()\n",
    "all_weights_df = pd.DataFrame()\n",
    "\n",
    "for sim_timestamp in sim_timestamps:\n",
    "    print(\"sim_timestamp = {}\".format(sim_timestamp))\n",
    "    random_seed = np.random.randint(2 ** 31 - 1)\n",
    "    #random_seed = 594081473\n",
    "    print(\"random_seed = {}\".format(random_seed))\n",
    "    scenarios_df, weights_df = grid.generate_wind_scenarios(\n",
    "        sim_timestamp,\n",
    "        power_quantiles=[0.0, 0.1, 0.9, 1.0],\n",
    "        sampling_method=sampling_method,\n",
    "        n_scenarios=n_scenarios,\n",
    "        n_periods=n_periods,\n",
    "        # random_seed=6,\n",
    "        random_seed=random_seed,\n",
    "        output_format=0,\n",
    "    )\n",
    "    all_scenarios_df=pd.concat([all_scenarios_df,scenarios_df])\n",
    "    all_weights_df=pd.concat([all_weights_df,weights_df])\n",
    "        \n",
    "all_scenarios_df\n",
    "all_weights_df\n",
    "\n"
   ]
  },
  {
   "cell_type": "markdown",
   "metadata": {},
   "source": [
    "# plot "
   ]
  },
  {
   "cell_type": "code",
   "execution_count": 74,
   "metadata": {
    "scrolled": false
   },
   "outputs": [
    {
     "data": {
      "application/vnd.plotly.v1+json": {
       "config": {
        "linkText": "Export to plot.ly",
        "plotlyServerURL": "https://plot.ly",
        "showLink": true
       },
       "data": [
        {
         "line": {
          "color": "rgba(255, 153, 51, 1.0)",
          "dash": "solid",
          "shape": "linear",
          "width": 1.3
         },
         "mode": "lines",
         "name": "1",
         "text": "",
         "type": "scatter",
         "x": [
          "2020-07-01 00:10:00+00:00",
          "2020-07-01 00:15:00+00:00",
          "2020-07-01 00:20:00+00:00",
          "2020-07-01 00:25:00+00:00",
          "2020-07-01 00:30:00+00:00",
          "2020-07-01 00:35:00+00:00",
          "2020-07-01 00:40:00+00:00"
         ],
         "y": [
          97.41927482187748,
          74.52434055507183,
          48.37187202274799,
          25.847046092152596,
          24.286560535430908,
          22.28213669359684,
          22.745323941111565
         ]
        },
        {
         "line": {
          "color": "rgba(55, 128, 191, 1.0)",
          "dash": "solid",
          "shape": "linear",
          "width": 1.3
         },
         "mode": "lines",
         "name": "2",
         "text": "",
         "type": "scatter",
         "x": [
          "2020-07-01 00:10:00+00:00",
          "2020-07-01 00:15:00+00:00",
          "2020-07-01 00:20:00+00:00",
          "2020-07-01 00:25:00+00:00",
          "2020-07-01 00:30:00+00:00",
          "2020-07-01 00:35:00+00:00",
          "2020-07-01 00:40:00+00:00"
         ],
         "y": [
          97.41927482187748,
          82.67910970747471,
          60.920284166932106,
          47.231054440140724,
          30.37728513777256,
          15.249742031097412,
          11.153926610946655
         ]
        },
        {
         "line": {
          "color": "rgba(50, 171, 96, 1.0)",
          "dash": "solid",
          "shape": "linear",
          "width": 1.3
         },
         "mode": "lines",
         "name": "3",
         "text": "",
         "type": "scatter",
         "x": [
          "2020-07-01 00:10:00+00:00",
          "2020-07-01 00:15:00+00:00",
          "2020-07-01 00:20:00+00:00",
          "2020-07-01 00:25:00+00:00",
          "2020-07-01 00:30:00+00:00",
          "2020-07-01 00:35:00+00:00",
          "2020-07-01 00:40:00+00:00"
         ],
         "y": [
          97.41927482187748,
          103.16247595846653,
          101.23969031870365,
          95.4955976754427,
          93.6668531447649,
          93.8468731790781,
          97.57251806557178
         ]
        },
        {
         "line": {
          "color": "rgba(128, 0, 128, 1.0)",
          "dash": "solid",
          "shape": "linear",
          "width": 1.3
         },
         "mode": "lines",
         "name": "4",
         "text": "",
         "type": "scatter",
         "x": [
          "2020-07-01 00:10:00+00:00",
          "2020-07-01 00:15:00+00:00",
          "2020-07-01 00:20:00+00:00",
          "2020-07-01 00:25:00+00:00",
          "2020-07-01 00:30:00+00:00",
          "2020-07-01 00:35:00+00:00",
          "2020-07-01 00:40:00+00:00"
         ],
         "y": [
          97.41927482187748,
          93.50502420961857,
          83.32334019243717,
          71.80006994307041,
          66.89981438219547,
          64.81931412220001,
          64.65428793430328
         ]
        },
        {
         "line": {
          "color": "rgba(219, 64, 82, 1.0)",
          "dash": "solid",
          "shape": "linear",
          "width": 1.3
         },
         "mode": "lines",
         "name": "5",
         "text": "",
         "type": "scatter",
         "x": [
          "2020-07-01 00:10:00+00:00",
          "2020-07-01 00:15:00+00:00",
          "2020-07-01 00:20:00+00:00",
          "2020-07-01 00:25:00+00:00",
          "2020-07-01 00:30:00+00:00",
          "2020-07-01 00:35:00+00:00",
          "2020-07-01 00:40:00+00:00"
         ],
         "y": [
          97.41927482187748,
          99.09550021588802,
          100.09291051328182,
          97.47507046163082,
          85.07128439843655,
          78.60210578143597,
          74.99818916618824
         ]
        },
        {
         "line": {
          "color": "rgba(0, 128, 128, 1.0)",
          "dash": "solid",
          "shape": "linear",
          "width": 1.3
         },
         "mode": "lines",
         "name": "6",
         "text": "",
         "type": "scatter",
         "x": [
          "2020-07-01 00:10:00+00:00",
          "2020-07-01 00:15:00+00:00",
          "2020-07-01 00:20:00+00:00",
          "2020-07-01 00:25:00+00:00",
          "2020-07-01 00:30:00+00:00",
          "2020-07-01 00:35:00+00:00",
          "2020-07-01 00:40:00+00:00"
         ],
         "y": [
          97.41927482187748,
          83.07023419439793,
          52.23621644079685,
          33.114305809140205,
          22.212655305862427,
          22.67278742790222,
          20.99186396598816
         ]
        },
        {
         "line": {
          "color": "rgba(255, 255, 51, 1.0)",
          "dash": "solid",
          "shape": "linear",
          "width": 1.3
         },
         "mode": "lines",
         "name": "7",
         "text": "",
         "type": "scatter",
         "x": [
          "2020-07-01 00:10:00+00:00",
          "2020-07-01 00:15:00+00:00",
          "2020-07-01 00:20:00+00:00",
          "2020-07-01 00:25:00+00:00",
          "2020-07-01 00:30:00+00:00",
          "2020-07-01 00:35:00+00:00",
          "2020-07-01 00:40:00+00:00"
         ],
         "y": [
          97.41927482187748,
          93.91171921789646,
          82.94056601822376,
          47.905691266059875,
          72.53358209133148,
          62.20043855905533,
          36.11347061395645
         ]
        },
        {
         "line": {
          "color": "rgba(128, 128, 0, 1.0)",
          "dash": "solid",
          "shape": "linear",
          "width": 1.3
         },
         "mode": "lines",
         "name": "8",
         "text": "",
         "type": "scatter",
         "x": [
          "2020-07-01 00:10:00+00:00",
          "2020-07-01 00:15:00+00:00",
          "2020-07-01 00:20:00+00:00",
          "2020-07-01 00:25:00+00:00",
          "2020-07-01 00:30:00+00:00",
          "2020-07-01 00:35:00+00:00",
          "2020-07-01 00:40:00+00:00"
         ],
         "y": [
          97.41927482187748,
          87.8132958561182,
          77.88161922991276,
          73.45936681330204,
          75.59091188013554,
          72.92806424200535,
          64.47272171080112
         ]
        },
        {
         "line": {
          "color": "rgba(251, 128, 114, 1.0)",
          "dash": "solid",
          "shape": "linear",
          "width": 1.3
         },
         "mode": "lines",
         "name": "9",
         "text": "",
         "type": "scatter",
         "x": [
          "2020-07-01 00:10:00+00:00",
          "2020-07-01 00:15:00+00:00",
          "2020-07-01 00:20:00+00:00",
          "2020-07-01 00:25:00+00:00",
          "2020-07-01 00:30:00+00:00",
          "2020-07-01 00:35:00+00:00",
          "2020-07-01 00:40:00+00:00"
         ],
         "y": [
          97.41927482187748,
          110.00095941126347,
          96.40780283510685,
          122.70010794699192,
          136.20436419546604,
          143.07402767241,
          121.698003962636
         ]
        },
        {
         "line": {
          "color": "rgba(128, 177, 211, 1.0)",
          "dash": "solid",
          "shape": "linear",
          "width": 1.3
         },
         "mode": "lines",
         "name": "10",
         "text": "",
         "type": "scatter",
         "x": [
          "2020-07-01 00:10:00+00:00",
          "2020-07-01 00:15:00+00:00",
          "2020-07-01 00:20:00+00:00",
          "2020-07-01 00:25:00+00:00",
          "2020-07-01 00:30:00+00:00",
          "2020-07-01 00:35:00+00:00",
          "2020-07-01 00:40:00+00:00"
         ],
         "y": [
          97.41927482187748,
          81.9415146112442,
          90.95098555088043,
          104.18827545642853,
          92.44793927669525,
          76.18238747119904,
          71.5616284608841
         ]
        }
       ],
       "layout": {
        "legend": {
         "bgcolor": "#F5F6F9",
         "font": {
          "color": "#4D5663"
         }
        },
        "paper_bgcolor": "#F5F6F9",
        "plot_bgcolor": "#F5F6F9",
        "template": {
         "data": {
          "bar": [
           {
            "error_x": {
             "color": "#2a3f5f"
            },
            "error_y": {
             "color": "#2a3f5f"
            },
            "marker": {
             "line": {
              "color": "#E5ECF6",
              "width": 0.5
             }
            },
            "type": "bar"
           }
          ],
          "barpolar": [
           {
            "marker": {
             "line": {
              "color": "#E5ECF6",
              "width": 0.5
             }
            },
            "type": "barpolar"
           }
          ],
          "carpet": [
           {
            "aaxis": {
             "endlinecolor": "#2a3f5f",
             "gridcolor": "white",
             "linecolor": "white",
             "minorgridcolor": "white",
             "startlinecolor": "#2a3f5f"
            },
            "baxis": {
             "endlinecolor": "#2a3f5f",
             "gridcolor": "white",
             "linecolor": "white",
             "minorgridcolor": "white",
             "startlinecolor": "#2a3f5f"
            },
            "type": "carpet"
           }
          ],
          "choropleth": [
           {
            "colorbar": {
             "outlinewidth": 0,
             "ticks": ""
            },
            "type": "choropleth"
           }
          ],
          "contour": [
           {
            "colorbar": {
             "outlinewidth": 0,
             "ticks": ""
            },
            "colorscale": [
             [
              0,
              "#0d0887"
             ],
             [
              0.1111111111111111,
              "#46039f"
             ],
             [
              0.2222222222222222,
              "#7201a8"
             ],
             [
              0.3333333333333333,
              "#9c179e"
             ],
             [
              0.4444444444444444,
              "#bd3786"
             ],
             [
              0.5555555555555556,
              "#d8576b"
             ],
             [
              0.6666666666666666,
              "#ed7953"
             ],
             [
              0.7777777777777778,
              "#fb9f3a"
             ],
             [
              0.8888888888888888,
              "#fdca26"
             ],
             [
              1,
              "#f0f921"
             ]
            ],
            "type": "contour"
           }
          ],
          "contourcarpet": [
           {
            "colorbar": {
             "outlinewidth": 0,
             "ticks": ""
            },
            "type": "contourcarpet"
           }
          ],
          "heatmap": [
           {
            "colorbar": {
             "outlinewidth": 0,
             "ticks": ""
            },
            "colorscale": [
             [
              0,
              "#0d0887"
             ],
             [
              0.1111111111111111,
              "#46039f"
             ],
             [
              0.2222222222222222,
              "#7201a8"
             ],
             [
              0.3333333333333333,
              "#9c179e"
             ],
             [
              0.4444444444444444,
              "#bd3786"
             ],
             [
              0.5555555555555556,
              "#d8576b"
             ],
             [
              0.6666666666666666,
              "#ed7953"
             ],
             [
              0.7777777777777778,
              "#fb9f3a"
             ],
             [
              0.8888888888888888,
              "#fdca26"
             ],
             [
              1,
              "#f0f921"
             ]
            ],
            "type": "heatmap"
           }
          ],
          "heatmapgl": [
           {
            "colorbar": {
             "outlinewidth": 0,
             "ticks": ""
            },
            "colorscale": [
             [
              0,
              "#0d0887"
             ],
             [
              0.1111111111111111,
              "#46039f"
             ],
             [
              0.2222222222222222,
              "#7201a8"
             ],
             [
              0.3333333333333333,
              "#9c179e"
             ],
             [
              0.4444444444444444,
              "#bd3786"
             ],
             [
              0.5555555555555556,
              "#d8576b"
             ],
             [
              0.6666666666666666,
              "#ed7953"
             ],
             [
              0.7777777777777778,
              "#fb9f3a"
             ],
             [
              0.8888888888888888,
              "#fdca26"
             ],
             [
              1,
              "#f0f921"
             ]
            ],
            "type": "heatmapgl"
           }
          ],
          "histogram": [
           {
            "marker": {
             "colorbar": {
              "outlinewidth": 0,
              "ticks": ""
             }
            },
            "type": "histogram"
           }
          ],
          "histogram2d": [
           {
            "colorbar": {
             "outlinewidth": 0,
             "ticks": ""
            },
            "colorscale": [
             [
              0,
              "#0d0887"
             ],
             [
              0.1111111111111111,
              "#46039f"
             ],
             [
              0.2222222222222222,
              "#7201a8"
             ],
             [
              0.3333333333333333,
              "#9c179e"
             ],
             [
              0.4444444444444444,
              "#bd3786"
             ],
             [
              0.5555555555555556,
              "#d8576b"
             ],
             [
              0.6666666666666666,
              "#ed7953"
             ],
             [
              0.7777777777777778,
              "#fb9f3a"
             ],
             [
              0.8888888888888888,
              "#fdca26"
             ],
             [
              1,
              "#f0f921"
             ]
            ],
            "type": "histogram2d"
           }
          ],
          "histogram2dcontour": [
           {
            "colorbar": {
             "outlinewidth": 0,
             "ticks": ""
            },
            "colorscale": [
             [
              0,
              "#0d0887"
             ],
             [
              0.1111111111111111,
              "#46039f"
             ],
             [
              0.2222222222222222,
              "#7201a8"
             ],
             [
              0.3333333333333333,
              "#9c179e"
             ],
             [
              0.4444444444444444,
              "#bd3786"
             ],
             [
              0.5555555555555556,
              "#d8576b"
             ],
             [
              0.6666666666666666,
              "#ed7953"
             ],
             [
              0.7777777777777778,
              "#fb9f3a"
             ],
             [
              0.8888888888888888,
              "#fdca26"
             ],
             [
              1,
              "#f0f921"
             ]
            ],
            "type": "histogram2dcontour"
           }
          ],
          "mesh3d": [
           {
            "colorbar": {
             "outlinewidth": 0,
             "ticks": ""
            },
            "type": "mesh3d"
           }
          ],
          "parcoords": [
           {
            "line": {
             "colorbar": {
              "outlinewidth": 0,
              "ticks": ""
             }
            },
            "type": "parcoords"
           }
          ],
          "pie": [
           {
            "automargin": true,
            "type": "pie"
           }
          ],
          "scatter": [
           {
            "marker": {
             "colorbar": {
              "outlinewidth": 0,
              "ticks": ""
             }
            },
            "type": "scatter"
           }
          ],
          "scatter3d": [
           {
            "line": {
             "colorbar": {
              "outlinewidth": 0,
              "ticks": ""
             }
            },
            "marker": {
             "colorbar": {
              "outlinewidth": 0,
              "ticks": ""
             }
            },
            "type": "scatter3d"
           }
          ],
          "scattercarpet": [
           {
            "marker": {
             "colorbar": {
              "outlinewidth": 0,
              "ticks": ""
             }
            },
            "type": "scattercarpet"
           }
          ],
          "scattergeo": [
           {
            "marker": {
             "colorbar": {
              "outlinewidth": 0,
              "ticks": ""
             }
            },
            "type": "scattergeo"
           }
          ],
          "scattergl": [
           {
            "marker": {
             "colorbar": {
              "outlinewidth": 0,
              "ticks": ""
             }
            },
            "type": "scattergl"
           }
          ],
          "scattermapbox": [
           {
            "marker": {
             "colorbar": {
              "outlinewidth": 0,
              "ticks": ""
             }
            },
            "type": "scattermapbox"
           }
          ],
          "scatterpolar": [
           {
            "marker": {
             "colorbar": {
              "outlinewidth": 0,
              "ticks": ""
             }
            },
            "type": "scatterpolar"
           }
          ],
          "scatterpolargl": [
           {
            "marker": {
             "colorbar": {
              "outlinewidth": 0,
              "ticks": ""
             }
            },
            "type": "scatterpolargl"
           }
          ],
          "scatterternary": [
           {
            "marker": {
             "colorbar": {
              "outlinewidth": 0,
              "ticks": ""
             }
            },
            "type": "scatterternary"
           }
          ],
          "surface": [
           {
            "colorbar": {
             "outlinewidth": 0,
             "ticks": ""
            },
            "colorscale": [
             [
              0,
              "#0d0887"
             ],
             [
              0.1111111111111111,
              "#46039f"
             ],
             [
              0.2222222222222222,
              "#7201a8"
             ],
             [
              0.3333333333333333,
              "#9c179e"
             ],
             [
              0.4444444444444444,
              "#bd3786"
             ],
             [
              0.5555555555555556,
              "#d8576b"
             ],
             [
              0.6666666666666666,
              "#ed7953"
             ],
             [
              0.7777777777777778,
              "#fb9f3a"
             ],
             [
              0.8888888888888888,
              "#fdca26"
             ],
             [
              1,
              "#f0f921"
             ]
            ],
            "type": "surface"
           }
          ],
          "table": [
           {
            "cells": {
             "fill": {
              "color": "#EBF0F8"
             },
             "line": {
              "color": "white"
             }
            },
            "header": {
             "fill": {
              "color": "#C8D4E3"
             },
             "line": {
              "color": "white"
             }
            },
            "type": "table"
           }
          ]
         },
         "layout": {
          "annotationdefaults": {
           "arrowcolor": "#2a3f5f",
           "arrowhead": 0,
           "arrowwidth": 1
          },
          "coloraxis": {
           "colorbar": {
            "outlinewidth": 0,
            "ticks": ""
           }
          },
          "colorscale": {
           "diverging": [
            [
             0,
             "#8e0152"
            ],
            [
             0.1,
             "#c51b7d"
            ],
            [
             0.2,
             "#de77ae"
            ],
            [
             0.3,
             "#f1b6da"
            ],
            [
             0.4,
             "#fde0ef"
            ],
            [
             0.5,
             "#f7f7f7"
            ],
            [
             0.6,
             "#e6f5d0"
            ],
            [
             0.7,
             "#b8e186"
            ],
            [
             0.8,
             "#7fbc41"
            ],
            [
             0.9,
             "#4d9221"
            ],
            [
             1,
             "#276419"
            ]
           ],
           "sequential": [
            [
             0,
             "#0d0887"
            ],
            [
             0.1111111111111111,
             "#46039f"
            ],
            [
             0.2222222222222222,
             "#7201a8"
            ],
            [
             0.3333333333333333,
             "#9c179e"
            ],
            [
             0.4444444444444444,
             "#bd3786"
            ],
            [
             0.5555555555555556,
             "#d8576b"
            ],
            [
             0.6666666666666666,
             "#ed7953"
            ],
            [
             0.7777777777777778,
             "#fb9f3a"
            ],
            [
             0.8888888888888888,
             "#fdca26"
            ],
            [
             1,
             "#f0f921"
            ]
           ],
           "sequentialminus": [
            [
             0,
             "#0d0887"
            ],
            [
             0.1111111111111111,
             "#46039f"
            ],
            [
             0.2222222222222222,
             "#7201a8"
            ],
            [
             0.3333333333333333,
             "#9c179e"
            ],
            [
             0.4444444444444444,
             "#bd3786"
            ],
            [
             0.5555555555555556,
             "#d8576b"
            ],
            [
             0.6666666666666666,
             "#ed7953"
            ],
            [
             0.7777777777777778,
             "#fb9f3a"
            ],
            [
             0.8888888888888888,
             "#fdca26"
            ],
            [
             1,
             "#f0f921"
            ]
           ]
          },
          "colorway": [
           "#636efa",
           "#EF553B",
           "#00cc96",
           "#ab63fa",
           "#FFA15A",
           "#19d3f3",
           "#FF6692",
           "#B6E880",
           "#FF97FF",
           "#FECB52"
          ],
          "font": {
           "color": "#2a3f5f"
          },
          "geo": {
           "bgcolor": "white",
           "lakecolor": "white",
           "landcolor": "#E5ECF6",
           "showlakes": true,
           "showland": true,
           "subunitcolor": "white"
          },
          "hoverlabel": {
           "align": "left"
          },
          "hovermode": "closest",
          "mapbox": {
           "style": "light"
          },
          "paper_bgcolor": "white",
          "plot_bgcolor": "#E5ECF6",
          "polar": {
           "angularaxis": {
            "gridcolor": "white",
            "linecolor": "white",
            "ticks": ""
           },
           "bgcolor": "#E5ECF6",
           "radialaxis": {
            "gridcolor": "white",
            "linecolor": "white",
            "ticks": ""
           }
          },
          "scene": {
           "xaxis": {
            "backgroundcolor": "#E5ECF6",
            "gridcolor": "white",
            "gridwidth": 2,
            "linecolor": "white",
            "showbackground": true,
            "ticks": "",
            "zerolinecolor": "white"
           },
           "yaxis": {
            "backgroundcolor": "#E5ECF6",
            "gridcolor": "white",
            "gridwidth": 2,
            "linecolor": "white",
            "showbackground": true,
            "ticks": "",
            "zerolinecolor": "white"
           },
           "zaxis": {
            "backgroundcolor": "#E5ECF6",
            "gridcolor": "white",
            "gridwidth": 2,
            "linecolor": "white",
            "showbackground": true,
            "ticks": "",
            "zerolinecolor": "white"
           }
          },
          "shapedefaults": {
           "line": {
            "color": "#2a3f5f"
           }
          },
          "ternary": {
           "aaxis": {
            "gridcolor": "white",
            "linecolor": "white",
            "ticks": ""
           },
           "baxis": {
            "gridcolor": "white",
            "linecolor": "white",
            "ticks": ""
           },
           "bgcolor": "#E5ECF6",
           "caxis": {
            "gridcolor": "white",
            "linecolor": "white",
            "ticks": ""
           }
          },
          "title": {
           "x": 0.05
          },
          "xaxis": {
           "automargin": true,
           "gridcolor": "white",
           "linecolor": "white",
           "ticks": "",
           "title": {
            "standoff": 15
           },
           "zerolinecolor": "white",
           "zerolinewidth": 2
          },
          "yaxis": {
           "automargin": true,
           "gridcolor": "white",
           "linecolor": "white",
           "ticks": "",
           "title": {
            "standoff": 15
           },
           "zerolinecolor": "white",
           "zerolinewidth": 2
          }
         }
        },
        "title": {
         "font": {
          "color": "#4D5663"
         }
        },
        "xaxis": {
         "gridcolor": "#E1E5ED",
         "showgrid": true,
         "tickfont": {
          "color": "#4D5663"
         },
         "title": {
          "font": {
           "color": "#4D5663"
          },
          "text": ""
         },
         "zerolinecolor": "#E1E5ED"
        },
        "yaxis": {
         "gridcolor": "#E1E5ED",
         "showgrid": true,
         "tickfont": {
          "color": "#4D5663"
         },
         "title": {
          "font": {
           "color": "#4D5663"
          },
          "text": ""
         },
         "zerolinecolor": "#E1E5ED"
        }
       }
      },
      "text/html": [
       "<div>\n",
       "        \n",
       "        \n",
       "            <div id=\"7727ae77-d2b3-44b4-9d66-22f2cfcd748e\" class=\"plotly-graph-div\" style=\"height:525px; width:100%;\"></div>\n",
       "            <script type=\"text/javascript\">\n",
       "                require([\"plotly\"], function(Plotly) {\n",
       "                    window.PLOTLYENV=window.PLOTLYENV || {};\n",
       "                    window.PLOTLYENV.BASE_URL='https://plot.ly';\n",
       "                    \n",
       "                if (document.getElementById(\"7727ae77-d2b3-44b4-9d66-22f2cfcd748e\")) {\n",
       "                    Plotly.newPlot(\n",
       "                        '7727ae77-d2b3-44b4-9d66-22f2cfcd748e',\n",
       "                        [{\"line\": {\"color\": \"rgba(255, 153, 51, 1.0)\", \"dash\": \"solid\", \"shape\": \"linear\", \"width\": 1.3}, \"mode\": \"lines\", \"name\": \"1\", \"text\": \"\", \"type\": \"scatter\", \"x\": [\"2020-07-01 00:10:00+00:00\", \"2020-07-01 00:15:00+00:00\", \"2020-07-01 00:20:00+00:00\", \"2020-07-01 00:25:00+00:00\", \"2020-07-01 00:30:00+00:00\", \"2020-07-01 00:35:00+00:00\", \"2020-07-01 00:40:00+00:00\"], \"y\": [97.41927482187748, 74.52434055507183, 48.37187202274799, 25.847046092152596, 24.286560535430908, 22.28213669359684, 22.745323941111565]}, {\"line\": {\"color\": \"rgba(55, 128, 191, 1.0)\", \"dash\": \"solid\", \"shape\": \"linear\", \"width\": 1.3}, \"mode\": \"lines\", \"name\": \"2\", \"text\": \"\", \"type\": \"scatter\", \"x\": [\"2020-07-01 00:10:00+00:00\", \"2020-07-01 00:15:00+00:00\", \"2020-07-01 00:20:00+00:00\", \"2020-07-01 00:25:00+00:00\", \"2020-07-01 00:30:00+00:00\", \"2020-07-01 00:35:00+00:00\", \"2020-07-01 00:40:00+00:00\"], \"y\": [97.41927482187748, 82.67910970747471, 60.920284166932106, 47.231054440140724, 30.37728513777256, 15.249742031097412, 11.153926610946655]}, {\"line\": {\"color\": \"rgba(50, 171, 96, 1.0)\", \"dash\": \"solid\", \"shape\": \"linear\", \"width\": 1.3}, \"mode\": \"lines\", \"name\": \"3\", \"text\": \"\", \"type\": \"scatter\", \"x\": [\"2020-07-01 00:10:00+00:00\", \"2020-07-01 00:15:00+00:00\", \"2020-07-01 00:20:00+00:00\", \"2020-07-01 00:25:00+00:00\", \"2020-07-01 00:30:00+00:00\", \"2020-07-01 00:35:00+00:00\", \"2020-07-01 00:40:00+00:00\"], \"y\": [97.41927482187748, 103.16247595846653, 101.23969031870365, 95.4955976754427, 93.6668531447649, 93.8468731790781, 97.57251806557178]}, {\"line\": {\"color\": \"rgba(128, 0, 128, 1.0)\", \"dash\": \"solid\", \"shape\": \"linear\", \"width\": 1.3}, \"mode\": \"lines\", \"name\": \"4\", \"text\": \"\", \"type\": \"scatter\", \"x\": [\"2020-07-01 00:10:00+00:00\", \"2020-07-01 00:15:00+00:00\", \"2020-07-01 00:20:00+00:00\", \"2020-07-01 00:25:00+00:00\", \"2020-07-01 00:30:00+00:00\", \"2020-07-01 00:35:00+00:00\", \"2020-07-01 00:40:00+00:00\"], \"y\": [97.41927482187748, 93.50502420961857, 83.32334019243717, 71.80006994307041, 66.89981438219547, 64.81931412220001, 64.65428793430328]}, {\"line\": {\"color\": \"rgba(219, 64, 82, 1.0)\", \"dash\": \"solid\", \"shape\": \"linear\", \"width\": 1.3}, \"mode\": \"lines\", \"name\": \"5\", \"text\": \"\", \"type\": \"scatter\", \"x\": [\"2020-07-01 00:10:00+00:00\", \"2020-07-01 00:15:00+00:00\", \"2020-07-01 00:20:00+00:00\", \"2020-07-01 00:25:00+00:00\", \"2020-07-01 00:30:00+00:00\", \"2020-07-01 00:35:00+00:00\", \"2020-07-01 00:40:00+00:00\"], \"y\": [97.41927482187748, 99.09550021588802, 100.09291051328182, 97.47507046163082, 85.07128439843655, 78.60210578143597, 74.99818916618824]}, {\"line\": {\"color\": \"rgba(0, 128, 128, 1.0)\", \"dash\": \"solid\", \"shape\": \"linear\", \"width\": 1.3}, \"mode\": \"lines\", \"name\": \"6\", \"text\": \"\", \"type\": \"scatter\", \"x\": [\"2020-07-01 00:10:00+00:00\", \"2020-07-01 00:15:00+00:00\", \"2020-07-01 00:20:00+00:00\", \"2020-07-01 00:25:00+00:00\", \"2020-07-01 00:30:00+00:00\", \"2020-07-01 00:35:00+00:00\", \"2020-07-01 00:40:00+00:00\"], \"y\": [97.41927482187748, 83.07023419439793, 52.23621644079685, 33.114305809140205, 22.212655305862427, 22.67278742790222, 20.99186396598816]}, {\"line\": {\"color\": \"rgba(255, 255, 51, 1.0)\", \"dash\": \"solid\", \"shape\": \"linear\", \"width\": 1.3}, \"mode\": \"lines\", \"name\": \"7\", \"text\": \"\", \"type\": \"scatter\", \"x\": [\"2020-07-01 00:10:00+00:00\", \"2020-07-01 00:15:00+00:00\", \"2020-07-01 00:20:00+00:00\", \"2020-07-01 00:25:00+00:00\", \"2020-07-01 00:30:00+00:00\", \"2020-07-01 00:35:00+00:00\", \"2020-07-01 00:40:00+00:00\"], \"y\": [97.41927482187748, 93.91171921789646, 82.94056601822376, 47.905691266059875, 72.53358209133148, 62.20043855905533, 36.11347061395645]}, {\"line\": {\"color\": \"rgba(128, 128, 0, 1.0)\", \"dash\": \"solid\", \"shape\": \"linear\", \"width\": 1.3}, \"mode\": \"lines\", \"name\": \"8\", \"text\": \"\", \"type\": \"scatter\", \"x\": [\"2020-07-01 00:10:00+00:00\", \"2020-07-01 00:15:00+00:00\", \"2020-07-01 00:20:00+00:00\", \"2020-07-01 00:25:00+00:00\", \"2020-07-01 00:30:00+00:00\", \"2020-07-01 00:35:00+00:00\", \"2020-07-01 00:40:00+00:00\"], \"y\": [97.41927482187748, 87.8132958561182, 77.88161922991276, 73.45936681330204, 75.59091188013554, 72.92806424200535, 64.47272171080112]}, {\"line\": {\"color\": \"rgba(251, 128, 114, 1.0)\", \"dash\": \"solid\", \"shape\": \"linear\", \"width\": 1.3}, \"mode\": \"lines\", \"name\": \"9\", \"text\": \"\", \"type\": \"scatter\", \"x\": [\"2020-07-01 00:10:00+00:00\", \"2020-07-01 00:15:00+00:00\", \"2020-07-01 00:20:00+00:00\", \"2020-07-01 00:25:00+00:00\", \"2020-07-01 00:30:00+00:00\", \"2020-07-01 00:35:00+00:00\", \"2020-07-01 00:40:00+00:00\"], \"y\": [97.41927482187748, 110.00095941126347, 96.40780283510685, 122.70010794699192, 136.20436419546604, 143.07402767241, 121.698003962636]}, {\"line\": {\"color\": \"rgba(128, 177, 211, 1.0)\", \"dash\": \"solid\", \"shape\": \"linear\", \"width\": 1.3}, \"mode\": \"lines\", \"name\": \"10\", \"text\": \"\", \"type\": \"scatter\", \"x\": [\"2020-07-01 00:10:00+00:00\", \"2020-07-01 00:15:00+00:00\", \"2020-07-01 00:20:00+00:00\", \"2020-07-01 00:25:00+00:00\", \"2020-07-01 00:30:00+00:00\", \"2020-07-01 00:35:00+00:00\", \"2020-07-01 00:40:00+00:00\"], \"y\": [97.41927482187748, 81.9415146112442, 90.95098555088043, 104.18827545642853, 92.44793927669525, 76.18238747119904, 71.5616284608841]}],\n",
       "                        {\"legend\": {\"bgcolor\": \"#F5F6F9\", \"font\": {\"color\": \"#4D5663\"}}, \"paper_bgcolor\": \"#F5F6F9\", \"plot_bgcolor\": \"#F5F6F9\", \"template\": {\"data\": {\"bar\": [{\"error_x\": {\"color\": \"#2a3f5f\"}, \"error_y\": {\"color\": \"#2a3f5f\"}, \"marker\": {\"line\": {\"color\": \"#E5ECF6\", \"width\": 0.5}}, \"type\": \"bar\"}], \"barpolar\": [{\"marker\": {\"line\": {\"color\": \"#E5ECF6\", \"width\": 0.5}}, \"type\": \"barpolar\"}], \"carpet\": [{\"aaxis\": {\"endlinecolor\": \"#2a3f5f\", \"gridcolor\": \"white\", \"linecolor\": \"white\", \"minorgridcolor\": \"white\", \"startlinecolor\": \"#2a3f5f\"}, \"baxis\": {\"endlinecolor\": \"#2a3f5f\", \"gridcolor\": \"white\", \"linecolor\": \"white\", \"minorgridcolor\": \"white\", \"startlinecolor\": \"#2a3f5f\"}, \"type\": \"carpet\"}], \"choropleth\": [{\"colorbar\": {\"outlinewidth\": 0, \"ticks\": \"\"}, \"type\": \"choropleth\"}], \"contour\": [{\"colorbar\": {\"outlinewidth\": 0, \"ticks\": \"\"}, \"colorscale\": [[0.0, \"#0d0887\"], [0.1111111111111111, \"#46039f\"], [0.2222222222222222, \"#7201a8\"], [0.3333333333333333, \"#9c179e\"], [0.4444444444444444, \"#bd3786\"], [0.5555555555555556, \"#d8576b\"], [0.6666666666666666, \"#ed7953\"], [0.7777777777777778, \"#fb9f3a\"], [0.8888888888888888, \"#fdca26\"], [1.0, \"#f0f921\"]], \"type\": \"contour\"}], \"contourcarpet\": [{\"colorbar\": {\"outlinewidth\": 0, \"ticks\": \"\"}, \"type\": \"contourcarpet\"}], \"heatmap\": [{\"colorbar\": {\"outlinewidth\": 0, \"ticks\": \"\"}, \"colorscale\": [[0.0, \"#0d0887\"], [0.1111111111111111, \"#46039f\"], [0.2222222222222222, \"#7201a8\"], [0.3333333333333333, \"#9c179e\"], [0.4444444444444444, \"#bd3786\"], [0.5555555555555556, \"#d8576b\"], [0.6666666666666666, \"#ed7953\"], [0.7777777777777778, \"#fb9f3a\"], [0.8888888888888888, \"#fdca26\"], [1.0, \"#f0f921\"]], \"type\": \"heatmap\"}], \"heatmapgl\": [{\"colorbar\": {\"outlinewidth\": 0, \"ticks\": \"\"}, \"colorscale\": [[0.0, \"#0d0887\"], [0.1111111111111111, \"#46039f\"], [0.2222222222222222, \"#7201a8\"], [0.3333333333333333, \"#9c179e\"], [0.4444444444444444, \"#bd3786\"], [0.5555555555555556, \"#d8576b\"], [0.6666666666666666, \"#ed7953\"], [0.7777777777777778, \"#fb9f3a\"], [0.8888888888888888, \"#fdca26\"], [1.0, \"#f0f921\"]], \"type\": \"heatmapgl\"}], \"histogram\": [{\"marker\": {\"colorbar\": {\"outlinewidth\": 0, \"ticks\": \"\"}}, \"type\": \"histogram\"}], \"histogram2d\": [{\"colorbar\": {\"outlinewidth\": 0, \"ticks\": \"\"}, \"colorscale\": [[0.0, \"#0d0887\"], [0.1111111111111111, \"#46039f\"], [0.2222222222222222, \"#7201a8\"], [0.3333333333333333, \"#9c179e\"], [0.4444444444444444, \"#bd3786\"], [0.5555555555555556, \"#d8576b\"], [0.6666666666666666, \"#ed7953\"], [0.7777777777777778, \"#fb9f3a\"], [0.8888888888888888, \"#fdca26\"], [1.0, \"#f0f921\"]], \"type\": \"histogram2d\"}], \"histogram2dcontour\": [{\"colorbar\": {\"outlinewidth\": 0, \"ticks\": \"\"}, \"colorscale\": [[0.0, \"#0d0887\"], [0.1111111111111111, \"#46039f\"], [0.2222222222222222, \"#7201a8\"], [0.3333333333333333, \"#9c179e\"], [0.4444444444444444, \"#bd3786\"], [0.5555555555555556, \"#d8576b\"], [0.6666666666666666, \"#ed7953\"], [0.7777777777777778, \"#fb9f3a\"], [0.8888888888888888, \"#fdca26\"], [1.0, \"#f0f921\"]], \"type\": \"histogram2dcontour\"}], \"mesh3d\": [{\"colorbar\": {\"outlinewidth\": 0, \"ticks\": \"\"}, \"type\": \"mesh3d\"}], \"parcoords\": [{\"line\": {\"colorbar\": {\"outlinewidth\": 0, \"ticks\": \"\"}}, \"type\": \"parcoords\"}], \"pie\": [{\"automargin\": true, \"type\": \"pie\"}], \"scatter\": [{\"marker\": {\"colorbar\": {\"outlinewidth\": 0, \"ticks\": \"\"}}, \"type\": \"scatter\"}], \"scatter3d\": [{\"line\": {\"colorbar\": {\"outlinewidth\": 0, \"ticks\": \"\"}}, \"marker\": {\"colorbar\": {\"outlinewidth\": 0, \"ticks\": \"\"}}, \"type\": \"scatter3d\"}], \"scattercarpet\": [{\"marker\": {\"colorbar\": {\"outlinewidth\": 0, \"ticks\": \"\"}}, \"type\": \"scattercarpet\"}], \"scattergeo\": [{\"marker\": {\"colorbar\": {\"outlinewidth\": 0, \"ticks\": \"\"}}, \"type\": \"scattergeo\"}], \"scattergl\": [{\"marker\": {\"colorbar\": {\"outlinewidth\": 0, \"ticks\": \"\"}}, \"type\": \"scattergl\"}], \"scattermapbox\": [{\"marker\": {\"colorbar\": {\"outlinewidth\": 0, \"ticks\": \"\"}}, \"type\": \"scattermapbox\"}], \"scatterpolar\": [{\"marker\": {\"colorbar\": {\"outlinewidth\": 0, \"ticks\": \"\"}}, \"type\": \"scatterpolar\"}], \"scatterpolargl\": [{\"marker\": {\"colorbar\": {\"outlinewidth\": 0, \"ticks\": \"\"}}, \"type\": \"scatterpolargl\"}], \"scatterternary\": [{\"marker\": {\"colorbar\": {\"outlinewidth\": 0, \"ticks\": \"\"}}, \"type\": \"scatterternary\"}], \"surface\": [{\"colorbar\": {\"outlinewidth\": 0, \"ticks\": \"\"}, \"colorscale\": [[0.0, \"#0d0887\"], [0.1111111111111111, \"#46039f\"], [0.2222222222222222, \"#7201a8\"], [0.3333333333333333, \"#9c179e\"], [0.4444444444444444, \"#bd3786\"], [0.5555555555555556, \"#d8576b\"], [0.6666666666666666, \"#ed7953\"], [0.7777777777777778, \"#fb9f3a\"], [0.8888888888888888, \"#fdca26\"], [1.0, \"#f0f921\"]], \"type\": \"surface\"}], \"table\": [{\"cells\": {\"fill\": {\"color\": \"#EBF0F8\"}, \"line\": {\"color\": \"white\"}}, \"header\": {\"fill\": {\"color\": \"#C8D4E3\"}, \"line\": {\"color\": \"white\"}}, \"type\": \"table\"}]}, \"layout\": {\"annotationdefaults\": {\"arrowcolor\": \"#2a3f5f\", \"arrowhead\": 0, \"arrowwidth\": 1}, \"coloraxis\": {\"colorbar\": {\"outlinewidth\": 0, \"ticks\": \"\"}}, \"colorscale\": {\"diverging\": [[0, \"#8e0152\"], [0.1, \"#c51b7d\"], [0.2, \"#de77ae\"], [0.3, \"#f1b6da\"], [0.4, \"#fde0ef\"], [0.5, \"#f7f7f7\"], [0.6, \"#e6f5d0\"], [0.7, \"#b8e186\"], [0.8, \"#7fbc41\"], [0.9, \"#4d9221\"], [1, \"#276419\"]], \"sequential\": [[0.0, \"#0d0887\"], [0.1111111111111111, \"#46039f\"], [0.2222222222222222, \"#7201a8\"], [0.3333333333333333, \"#9c179e\"], [0.4444444444444444, \"#bd3786\"], [0.5555555555555556, \"#d8576b\"], [0.6666666666666666, \"#ed7953\"], [0.7777777777777778, \"#fb9f3a\"], [0.8888888888888888, \"#fdca26\"], [1.0, \"#f0f921\"]], \"sequentialminus\": [[0.0, \"#0d0887\"], [0.1111111111111111, \"#46039f\"], [0.2222222222222222, \"#7201a8\"], [0.3333333333333333, \"#9c179e\"], [0.4444444444444444, \"#bd3786\"], [0.5555555555555556, \"#d8576b\"], [0.6666666666666666, \"#ed7953\"], [0.7777777777777778, \"#fb9f3a\"], [0.8888888888888888, \"#fdca26\"], [1.0, \"#f0f921\"]]}, \"colorway\": [\"#636efa\", \"#EF553B\", \"#00cc96\", \"#ab63fa\", \"#FFA15A\", \"#19d3f3\", \"#FF6692\", \"#B6E880\", \"#FF97FF\", \"#FECB52\"], \"font\": {\"color\": \"#2a3f5f\"}, \"geo\": {\"bgcolor\": \"white\", \"lakecolor\": \"white\", \"landcolor\": \"#E5ECF6\", \"showlakes\": true, \"showland\": true, \"subunitcolor\": \"white\"}, \"hoverlabel\": {\"align\": \"left\"}, \"hovermode\": \"closest\", \"mapbox\": {\"style\": \"light\"}, \"paper_bgcolor\": \"white\", \"plot_bgcolor\": \"#E5ECF6\", \"polar\": {\"angularaxis\": {\"gridcolor\": \"white\", \"linecolor\": \"white\", \"ticks\": \"\"}, \"bgcolor\": \"#E5ECF6\", \"radialaxis\": {\"gridcolor\": \"white\", \"linecolor\": \"white\", \"ticks\": \"\"}}, \"scene\": {\"xaxis\": {\"backgroundcolor\": \"#E5ECF6\", \"gridcolor\": \"white\", \"gridwidth\": 2, \"linecolor\": \"white\", \"showbackground\": true, \"ticks\": \"\", \"zerolinecolor\": \"white\"}, \"yaxis\": {\"backgroundcolor\": \"#E5ECF6\", \"gridcolor\": \"white\", \"gridwidth\": 2, \"linecolor\": \"white\", \"showbackground\": true, \"ticks\": \"\", \"zerolinecolor\": \"white\"}, \"zaxis\": {\"backgroundcolor\": \"#E5ECF6\", \"gridcolor\": \"white\", \"gridwidth\": 2, \"linecolor\": \"white\", \"showbackground\": true, \"ticks\": \"\", \"zerolinecolor\": \"white\"}}, \"shapedefaults\": {\"line\": {\"color\": \"#2a3f5f\"}}, \"ternary\": {\"aaxis\": {\"gridcolor\": \"white\", \"linecolor\": \"white\", \"ticks\": \"\"}, \"baxis\": {\"gridcolor\": \"white\", \"linecolor\": \"white\", \"ticks\": \"\"}, \"bgcolor\": \"#E5ECF6\", \"caxis\": {\"gridcolor\": \"white\", \"linecolor\": \"white\", \"ticks\": \"\"}}, \"title\": {\"x\": 0.05}, \"xaxis\": {\"automargin\": true, \"gridcolor\": \"white\", \"linecolor\": \"white\", \"ticks\": \"\", \"title\": {\"standoff\": 15}, \"zerolinecolor\": \"white\", \"zerolinewidth\": 2}, \"yaxis\": {\"automargin\": true, \"gridcolor\": \"white\", \"linecolor\": \"white\", \"ticks\": \"\", \"title\": {\"standoff\": 15}, \"zerolinecolor\": \"white\", \"zerolinewidth\": 2}}}, \"title\": {\"font\": {\"color\": \"#4D5663\"}}, \"xaxis\": {\"gridcolor\": \"#E1E5ED\", \"showgrid\": true, \"tickfont\": {\"color\": \"#4D5663\"}, \"title\": {\"font\": {\"color\": \"#4D5663\"}, \"text\": \"\"}, \"zerolinecolor\": \"#E1E5ED\"}, \"yaxis\": {\"gridcolor\": \"#E1E5ED\", \"showgrid\": true, \"tickfont\": {\"color\": \"#4D5663\"}, \"title\": {\"font\": {\"color\": \"#4D5663\"}, \"text\": \"\"}, \"zerolinecolor\": \"#E1E5ED\"}},\n",
       "                        {\"showLink\": true, \"linkText\": \"Export to plot.ly\", \"plotlyServerURL\": \"https://plot.ly\", \"responsive\": true}\n",
       "                    ).then(function(){\n",
       "                            \n",
       "var gd = document.getElementById('7727ae77-d2b3-44b4-9d66-22f2cfcd748e');\n",
       "var x = new MutationObserver(function (mutations, observer) {{\n",
       "        var display = window.getComputedStyle(gd).display;\n",
       "        if (!display || display === 'none') {{\n",
       "            console.log([gd, 'removed!']);\n",
       "            Plotly.purge(gd);\n",
       "            observer.disconnect();\n",
       "        }}\n",
       "}});\n",
       "\n",
       "// Listen for the removal of the full notebook cells\n",
       "var notebookContainer = gd.closest('#notebook-container');\n",
       "if (notebookContainer) {{\n",
       "    x.observe(notebookContainer, {childList: true});\n",
       "}}\n",
       "\n",
       "// Listen for the clearing of the current output cell\n",
       "var outputEl = gd.closest('.output');\n",
       "if (outputEl) {{\n",
       "    x.observe(outputEl, {childList: true});\n",
       "}}\n",
       "\n",
       "                        })\n",
       "                };\n",
       "                });\n",
       "            </script>\n",
       "        </div>"
      ]
     },
     "metadata": {},
     "output_type": "display_data"
    }
   ],
   "source": [
    "# choose sim_timestamp for which to plot all scenarios\n",
    "sim_timestamp = sim_timestamps[0]\n",
    "\n",
    "# all needed period timestamps: t0,t1,...\n",
    "timestamps = pd.date_range(\n",
    "    start=sim_timestamp - pd.Timedelta(\"5min\"), periods=n_periods + 1, freq=\"5min\"\n",
    ")\n",
    "plot_df = pd.DataFrame(index=timestamps, columns=range(1, n_scenarios + 1),)\n",
    "for scenario_nr in range(1, n_scenarios + 1):\n",
    "    s = generated_scenarios_df.loc[(sim_timestamp, scenario_nr,)].sum(axis=1)\n",
    "    s.loc[timestamps[0]] = grid.actuals.loc[timestamps[0]].loc[\"TotalPower\"]\n",
    "\n",
    "    plot_df[scenario_nr] = s\n",
    "plot_df.iplot()"
   ]
  },
  {
   "cell_type": "markdown",
   "metadata": {},
   "source": [
    "# save (for single period, can drop period_timestamp)"
   ]
  },
  {
   "cell_type": "code",
   "execution_count": 40,
   "metadata": {},
   "outputs": [
    {
     "name": "stdout",
     "output_type": "stream",
     "text": [
      "\n",
      "saving generated_scenarios_df to ./scenarios.csv\n"
     ]
    },
    {
     "data": {
      "text/html": [
       "<div>\n",
       "<style scoped>\n",
       "    .dataframe tbody tr th:only-of-type {\n",
       "        vertical-align: middle;\n",
       "    }\n",
       "\n",
       "    .dataframe tbody tr th {\n",
       "        vertical-align: top;\n",
       "    }\n",
       "\n",
       "    .dataframe thead th {\n",
       "        text-align: right;\n",
       "    }\n",
       "</style>\n",
       "<table border=\"1\" class=\"dataframe\">\n",
       "  <thead>\n",
       "    <tr style=\"text-align: right;\">\n",
       "      <th></th>\n",
       "      <th></th>\n",
       "      <th></th>\n",
       "      <th>65_Wind_1</th>\n",
       "      <th>104_Wind_1</th>\n",
       "      <th>105_Wind_1</th>\n",
       "      <th>114_Wind_1</th>\n",
       "      <th>115_Wind_1</th>\n",
       "      <th>147_Wind_1</th>\n",
       "    </tr>\n",
       "    <tr>\n",
       "      <th>sim_timestamp</th>\n",
       "      <th>scenario_nr</th>\n",
       "      <th>period_timestamp</th>\n",
       "      <th></th>\n",
       "      <th></th>\n",
       "      <th></th>\n",
       "      <th></th>\n",
       "      <th></th>\n",
       "      <th></th>\n",
       "    </tr>\n",
       "  </thead>\n",
       "  <tbody>\n",
       "    <tr>\n",
       "      <th rowspan=\"11\" valign=\"top\">2020-01-01 00:15:00+00:00</th>\n",
       "      <th rowspan=\"5\" valign=\"top\">1</th>\n",
       "      <th>2020-01-01 00:15:00+00:00</th>\n",
       "      <td>142.361</td>\n",
       "      <td>99</td>\n",
       "      <td>198</td>\n",
       "      <td>1.7</td>\n",
       "      <td>150</td>\n",
       "      <td>100.5</td>\n",
       "    </tr>\n",
       "    <tr>\n",
       "      <th>2020-01-01 00:20:00+00:00</th>\n",
       "      <td>142.361</td>\n",
       "      <td>99</td>\n",
       "      <td>198</td>\n",
       "      <td>1.7</td>\n",
       "      <td>150</td>\n",
       "      <td>100.5</td>\n",
       "    </tr>\n",
       "    <tr>\n",
       "      <th>2020-01-01 00:25:00+00:00</th>\n",
       "      <td>142.361</td>\n",
       "      <td>99</td>\n",
       "      <td>198</td>\n",
       "      <td>1.7</td>\n",
       "      <td>150</td>\n",
       "      <td>100.5</td>\n",
       "    </tr>\n",
       "    <tr>\n",
       "      <th>2020-01-01 00:30:00+00:00</th>\n",
       "      <td>142.361</td>\n",
       "      <td>99</td>\n",
       "      <td>198</td>\n",
       "      <td>1.7</td>\n",
       "      <td>150</td>\n",
       "      <td>100.5</td>\n",
       "    </tr>\n",
       "    <tr>\n",
       "      <th>2020-01-01 00:35:00+00:00</th>\n",
       "      <td>142.361</td>\n",
       "      <td>99</td>\n",
       "      <td>198</td>\n",
       "      <td>1.7</td>\n",
       "      <td>150</td>\n",
       "      <td>100.5</td>\n",
       "    </tr>\n",
       "    <tr>\n",
       "      <th>...</th>\n",
       "      <th>...</th>\n",
       "      <td>...</td>\n",
       "      <td>...</td>\n",
       "      <td>...</td>\n",
       "      <td>...</td>\n",
       "      <td>...</td>\n",
       "      <td>...</td>\n",
       "    </tr>\n",
       "    <tr>\n",
       "      <th rowspan=\"5\" valign=\"top\">10</th>\n",
       "      <th>2020-01-01 00:20:00+00:00</th>\n",
       "      <td>142.361</td>\n",
       "      <td>99</td>\n",
       "      <td>198</td>\n",
       "      <td>1.7</td>\n",
       "      <td>150</td>\n",
       "      <td>100.5</td>\n",
       "    </tr>\n",
       "    <tr>\n",
       "      <th>2020-01-01 00:25:00+00:00</th>\n",
       "      <td>142.361</td>\n",
       "      <td>99</td>\n",
       "      <td>198</td>\n",
       "      <td>1.7</td>\n",
       "      <td>150</td>\n",
       "      <td>97.7192</td>\n",
       "    </tr>\n",
       "    <tr>\n",
       "      <th>2020-01-01 00:30:00+00:00</th>\n",
       "      <td>142.361</td>\n",
       "      <td>99</td>\n",
       "      <td>198</td>\n",
       "      <td>1.7</td>\n",
       "      <td>150</td>\n",
       "      <td>94.388</td>\n",
       "    </tr>\n",
       "    <tr>\n",
       "      <th>2020-01-01 00:35:00+00:00</th>\n",
       "      <td>142.361</td>\n",
       "      <td>99</td>\n",
       "      <td>198</td>\n",
       "      <td>1.7</td>\n",
       "      <td>150</td>\n",
       "      <td>99.3352</td>\n",
       "    </tr>\n",
       "    <tr>\n",
       "      <th>2020-01-01 00:40:00+00:00</th>\n",
       "      <td>142.361</td>\n",
       "      <td>99</td>\n",
       "      <td>198</td>\n",
       "      <td>1.7</td>\n",
       "      <td>150</td>\n",
       "      <td>100.5</td>\n",
       "    </tr>\n",
       "  </tbody>\n",
       "</table>\n",
       "<p>60 rows × 6 columns</p>\n",
       "</div>"
      ],
      "text/plain": [
       "                                                                65_Wind_1  \\\n",
       "sim_timestamp             scenario_nr period_timestamp                      \n",
       "2020-01-01 00:15:00+00:00 1           2020-01-01 00:15:00+00:00   142.361   \n",
       "                                      2020-01-01 00:20:00+00:00   142.361   \n",
       "                                      2020-01-01 00:25:00+00:00   142.361   \n",
       "                                      2020-01-01 00:30:00+00:00   142.361   \n",
       "                                      2020-01-01 00:35:00+00:00   142.361   \n",
       "...                                                                   ...   \n",
       "                          10          2020-01-01 00:20:00+00:00   142.361   \n",
       "                                      2020-01-01 00:25:00+00:00   142.361   \n",
       "                                      2020-01-01 00:30:00+00:00   142.361   \n",
       "                                      2020-01-01 00:35:00+00:00   142.361   \n",
       "                                      2020-01-01 00:40:00+00:00   142.361   \n",
       "\n",
       "                                                                104_Wind_1  \\\n",
       "sim_timestamp             scenario_nr period_timestamp                       \n",
       "2020-01-01 00:15:00+00:00 1           2020-01-01 00:15:00+00:00         99   \n",
       "                                      2020-01-01 00:20:00+00:00         99   \n",
       "                                      2020-01-01 00:25:00+00:00         99   \n",
       "                                      2020-01-01 00:30:00+00:00         99   \n",
       "                                      2020-01-01 00:35:00+00:00         99   \n",
       "...                                                                    ...   \n",
       "                          10          2020-01-01 00:20:00+00:00         99   \n",
       "                                      2020-01-01 00:25:00+00:00         99   \n",
       "                                      2020-01-01 00:30:00+00:00         99   \n",
       "                                      2020-01-01 00:35:00+00:00         99   \n",
       "                                      2020-01-01 00:40:00+00:00         99   \n",
       "\n",
       "                                                                105_Wind_1  \\\n",
       "sim_timestamp             scenario_nr period_timestamp                       \n",
       "2020-01-01 00:15:00+00:00 1           2020-01-01 00:15:00+00:00        198   \n",
       "                                      2020-01-01 00:20:00+00:00        198   \n",
       "                                      2020-01-01 00:25:00+00:00        198   \n",
       "                                      2020-01-01 00:30:00+00:00        198   \n",
       "                                      2020-01-01 00:35:00+00:00        198   \n",
       "...                                                                    ...   \n",
       "                          10          2020-01-01 00:20:00+00:00        198   \n",
       "                                      2020-01-01 00:25:00+00:00        198   \n",
       "                                      2020-01-01 00:30:00+00:00        198   \n",
       "                                      2020-01-01 00:35:00+00:00        198   \n",
       "                                      2020-01-01 00:40:00+00:00        198   \n",
       "\n",
       "                                                                114_Wind_1  \\\n",
       "sim_timestamp             scenario_nr period_timestamp                       \n",
       "2020-01-01 00:15:00+00:00 1           2020-01-01 00:15:00+00:00        1.7   \n",
       "                                      2020-01-01 00:20:00+00:00        1.7   \n",
       "                                      2020-01-01 00:25:00+00:00        1.7   \n",
       "                                      2020-01-01 00:30:00+00:00        1.7   \n",
       "                                      2020-01-01 00:35:00+00:00        1.7   \n",
       "...                                                                    ...   \n",
       "                          10          2020-01-01 00:20:00+00:00        1.7   \n",
       "                                      2020-01-01 00:25:00+00:00        1.7   \n",
       "                                      2020-01-01 00:30:00+00:00        1.7   \n",
       "                                      2020-01-01 00:35:00+00:00        1.7   \n",
       "                                      2020-01-01 00:40:00+00:00        1.7   \n",
       "\n",
       "                                                                115_Wind_1  \\\n",
       "sim_timestamp             scenario_nr period_timestamp                       \n",
       "2020-01-01 00:15:00+00:00 1           2020-01-01 00:15:00+00:00        150   \n",
       "                                      2020-01-01 00:20:00+00:00        150   \n",
       "                                      2020-01-01 00:25:00+00:00        150   \n",
       "                                      2020-01-01 00:30:00+00:00        150   \n",
       "                                      2020-01-01 00:35:00+00:00        150   \n",
       "...                                                                    ...   \n",
       "                          10          2020-01-01 00:20:00+00:00        150   \n",
       "                                      2020-01-01 00:25:00+00:00        150   \n",
       "                                      2020-01-01 00:30:00+00:00        150   \n",
       "                                      2020-01-01 00:35:00+00:00        150   \n",
       "                                      2020-01-01 00:40:00+00:00        150   \n",
       "\n",
       "                                                                147_Wind_1  \n",
       "sim_timestamp             scenario_nr period_timestamp                      \n",
       "2020-01-01 00:15:00+00:00 1           2020-01-01 00:15:00+00:00      100.5  \n",
       "                                      2020-01-01 00:20:00+00:00      100.5  \n",
       "                                      2020-01-01 00:25:00+00:00      100.5  \n",
       "                                      2020-01-01 00:30:00+00:00      100.5  \n",
       "                                      2020-01-01 00:35:00+00:00      100.5  \n",
       "...                                                                    ...  \n",
       "                          10          2020-01-01 00:20:00+00:00      100.5  \n",
       "                                      2020-01-01 00:25:00+00:00    97.7192  \n",
       "                                      2020-01-01 00:30:00+00:00     94.388  \n",
       "                                      2020-01-01 00:35:00+00:00    99.3352  \n",
       "                                      2020-01-01 00:40:00+00:00      100.5  \n",
       "\n",
       "[60 rows x 6 columns]"
      ]
     },
     "execution_count": 40,
     "metadata": {},
     "output_type": "execute_result"
    },
    {
     "name": "stdout",
     "output_type": "stream",
     "text": [
      "\n",
      "saving actuals to ./actuals.csv\n"
     ]
    },
    {
     "data": {
      "text/html": [
       "<div>\n",
       "<style scoped>\n",
       "    .dataframe tbody tr th:only-of-type {\n",
       "        vertical-align: middle;\n",
       "    }\n",
       "\n",
       "    .dataframe tbody tr th {\n",
       "        vertical-align: top;\n",
       "    }\n",
       "\n",
       "    .dataframe thead th {\n",
       "        text-align: right;\n",
       "    }\n",
       "</style>\n",
       "<table border=\"1\" class=\"dataframe\">\n",
       "  <thead>\n",
       "    <tr style=\"text-align: right;\">\n",
       "      <th></th>\n",
       "      <th>65_Wind_1</th>\n",
       "      <th>104_Wind_1</th>\n",
       "      <th>105_Wind_1</th>\n",
       "      <th>114_Wind_1</th>\n",
       "      <th>115_Wind_1</th>\n",
       "      <th>147_Wind_1</th>\n",
       "      <th>TotalPower</th>\n",
       "    </tr>\n",
       "    <tr>\n",
       "      <th>sim_timestamp</th>\n",
       "      <th></th>\n",
       "      <th></th>\n",
       "      <th></th>\n",
       "      <th></th>\n",
       "      <th></th>\n",
       "      <th></th>\n",
       "      <th></th>\n",
       "    </tr>\n",
       "  </thead>\n",
       "  <tbody>\n",
       "    <tr>\n",
       "      <th>2020-01-01 00:15:00+00:00</th>\n",
       "      <td>145.972502</td>\n",
       "      <td>99.000001</td>\n",
       "      <td>198.000002</td>\n",
       "      <td>1.7</td>\n",
       "      <td>150.0</td>\n",
       "      <td>100.5</td>\n",
       "      <td>695.172504</td>\n",
       "    </tr>\n",
       "  </tbody>\n",
       "</table>\n",
       "</div>"
      ],
      "text/plain": [
       "                            65_Wind_1  104_Wind_1  105_Wind_1  114_Wind_1  \\\n",
       "sim_timestamp                                                               \n",
       "2020-01-01 00:15:00+00:00  145.972502   99.000001  198.000002         1.7   \n",
       "\n",
       "                           115_Wind_1  147_Wind_1  TotalPower  \n",
       "sim_timestamp                                                  \n",
       "2020-01-01 00:15:00+00:00       150.0       100.5  695.172504  "
      ]
     },
     "execution_count": 40,
     "metadata": {},
     "output_type": "execute_result"
    },
    {
     "data": {
      "application/javascript": [
       "\n",
       "            setTimeout(function() {\n",
       "                var nbb_cell_id = 40;\n",
       "                var nbb_unformatted_code = \"df = generated_scenarios_df.copy()\\n# if scenarios are single period, we can drop period_timestamp index level\\nif n_periods == 1:\\n    df.index=df.index.droplevel(\\\"period_timestamp\\\")\\n\\n\\nfilename = './scenarios.csv'\\n\\nprint(\\\"\\\\nsaving generated_scenarios_df to {}\\\".format(filename))\\ndf\\ndf.to_csv(filename)\\n\\n\\n\\n# take actuals corresponding to scenarios\\ndf=grid.actuals.loc[sim_timestamps].copy()\\ndf.index=df.index.rename(\\\"sim_timestamp\\\")\\n\\nfilename = './actuals.csv'\\n\\nprint(\\\"\\\\nsaving actuals to {}\\\".format(filename))\\ndf\\ndf.to_csv(filename)\";\n",
       "                var nbb_formatted_code = \"df = generated_scenarios_df.copy()\\n# if scenarios are single period, we can drop period_timestamp index level\\nif n_periods == 1:\\n    df.index = df.index.droplevel(\\\"period_timestamp\\\")\\n\\n\\nfilename = \\\"./scenarios.csv\\\"\\n\\nprint(\\\"\\\\nsaving generated_scenarios_df to {}\\\".format(filename))\\ndf\\ndf.to_csv(filename)\\n\\n\\n# take actuals corresponding to scenarios\\ndf = grid.actuals.loc[sim_timestamps].copy()\\ndf.index = df.index.rename(\\\"sim_timestamp\\\")\\n\\nfilename = \\\"./actuals.csv\\\"\\n\\nprint(\\\"\\\\nsaving actuals to {}\\\".format(filename))\\ndf\\ndf.to_csv(filename)\";\n",
       "                var nbb_cells = Jupyter.notebook.get_cells();\n",
       "                for (var i = 0; i < nbb_cells.length; ++i) {\n",
       "                    if (nbb_cells[i].input_prompt_number == nbb_cell_id) {\n",
       "                        if (nbb_cells[i].get_text() == nbb_unformatted_code) {\n",
       "                             nbb_cells[i].set_text(nbb_formatted_code);\n",
       "                        }\n",
       "                        break;\n",
       "                    }\n",
       "                }\n",
       "            }, 500);\n",
       "            "
      ],
      "text/plain": [
       "<IPython.core.display.Javascript object>"
      ]
     },
     "metadata": {},
     "output_type": "display_data"
    }
   ],
   "source": [
    "df = generated_scenarios_df.copy()\n",
    "# if scenarios are single period, we can drop period_timestamp index level\n",
    "if n_periods == 1:\n",
    "    df.index=df.index.droplevel(\"period_timestamp\")\n",
    "\n",
    "\n",
    "filename = './scenarios.csv'\n",
    "\n",
    "print(\"\\nsaving generated_scenarios_df to {}\".format(filename))\n",
    "df\n",
    "df.to_csv(filename)\n",
    "\n",
    "\n",
    "\n",
    "# take actuals corresponding to scenarios\n",
    "df=grid.actuals.loc[sim_timestamps].copy()\n",
    "df.index=df.index.rename(\"sim_timestamp\")\n",
    "\n",
    "filename = './actuals.csv'\n",
    "\n",
    "print(\"\\nsaving actuals to {}\".format(filename))\n",
    "df\n",
    "df.to_csv(filename)\n"
   ]
  },
  {
   "cell_type": "markdown",
   "metadata": {},
   "source": [
    "# Scratch"
   ]
  },
  {
   "cell_type": "code",
   "execution_count": 21,
   "metadata": {},
   "outputs": [
    {
     "data": {
      "text/html": [
       "<div>\n",
       "<style scoped>\n",
       "    .dataframe tbody tr th:only-of-type {\n",
       "        vertical-align: middle;\n",
       "    }\n",
       "\n",
       "    .dataframe tbody tr th {\n",
       "        vertical-align: top;\n",
       "    }\n",
       "\n",
       "    .dataframe thead th {\n",
       "        text-align: right;\n",
       "    }\n",
       "</style>\n",
       "<table border=\"1\" class=\"dataframe\">\n",
       "  <thead>\n",
       "    <tr style=\"text-align: right;\">\n",
       "      <th></th>\n",
       "      <th>65_Wind_1</th>\n",
       "      <th>104_Wind_1</th>\n",
       "      <th>105_Wind_1</th>\n",
       "      <th>114_Wind_1</th>\n",
       "      <th>115_Wind_1</th>\n",
       "      <th>147_Wind_1</th>\n",
       "      <th>TotalPower</th>\n",
       "      <th>Deviation</th>\n",
       "    </tr>\n",
       "    <tr>\n",
       "      <th>IssueTime</th>\n",
       "      <th></th>\n",
       "      <th></th>\n",
       "      <th></th>\n",
       "      <th></th>\n",
       "      <th></th>\n",
       "      <th></th>\n",
       "      <th></th>\n",
       "      <th></th>\n",
       "    </tr>\n",
       "  </thead>\n",
       "  <tbody>\n",
       "    <tr>\n",
       "      <th>2008-01-01 00:00:00+00:00</th>\n",
       "      <td>1.459344</td>\n",
       "      <td>0.668133</td>\n",
       "      <td>0.583035</td>\n",
       "      <td>-0.024500</td>\n",
       "      <td>0.877288</td>\n",
       "      <td>1.845110</td>\n",
       "      <td>96.746560</td>\n",
       "      <td>5.408411</td>\n",
       "    </tr>\n",
       "    <tr>\n",
       "      <th>2008-01-01 00:05:00+00:00</th>\n",
       "      <td>1.601367</td>\n",
       "      <td>-0.445220</td>\n",
       "      <td>1.269019</td>\n",
       "      <td>0.091567</td>\n",
       "      <td>1.525665</td>\n",
       "      <td>3.528319</td>\n",
       "      <td>102.154971</td>\n",
       "      <td>7.570718</td>\n",
       "    </tr>\n",
       "    <tr>\n",
       "      <th>2008-01-01 00:10:00+00:00</th>\n",
       "      <td>1.097983</td>\n",
       "      <td>-0.016742</td>\n",
       "      <td>1.678258</td>\n",
       "      <td>0.294259</td>\n",
       "      <td>3.257260</td>\n",
       "      <td>5.579959</td>\n",
       "      <td>109.725689</td>\n",
       "      <td>11.890977</td>\n",
       "    </tr>\n",
       "    <tr>\n",
       "      <th>2008-01-01 00:15:00+00:00</th>\n",
       "      <td>1.172363</td>\n",
       "      <td>2.034480</td>\n",
       "      <td>3.025435</td>\n",
       "      <td>0.001593</td>\n",
       "      <td>4.814818</td>\n",
       "      <td>3.355411</td>\n",
       "      <td>121.616666</td>\n",
       "      <td>14.404100</td>\n",
       "    </tr>\n",
       "    <tr>\n",
       "      <th>2008-01-01 00:20:00+00:00</th>\n",
       "      <td>1.237113</td>\n",
       "      <td>2.234493</td>\n",
       "      <td>2.933309</td>\n",
       "      <td>0.000000</td>\n",
       "      <td>5.278723</td>\n",
       "      <td>6.783124</td>\n",
       "      <td>136.020766</td>\n",
       "      <td>18.466761</td>\n",
       "    </tr>\n",
       "    <tr>\n",
       "      <th>...</th>\n",
       "      <td>...</td>\n",
       "      <td>...</td>\n",
       "      <td>...</td>\n",
       "      <td>...</td>\n",
       "      <td>...</td>\n",
       "      <td>...</td>\n",
       "      <td>...</td>\n",
       "      <td>...</td>\n",
       "    </tr>\n",
       "    <tr>\n",
       "      <th>2013-12-31 23:30:00+00:00</th>\n",
       "      <td>0.000000</td>\n",
       "      <td>0.000432</td>\n",
       "      <td>0.005397</td>\n",
       "      <td>0.002113</td>\n",
       "      <td>0.084650</td>\n",
       "      <td>0.592468</td>\n",
       "      <td>3.752755</td>\n",
       "      <td>0.685059</td>\n",
       "    </tr>\n",
       "    <tr>\n",
       "      <th>2013-12-31 23:35:00+00:00</th>\n",
       "      <td>0.000000</td>\n",
       "      <td>0.000429</td>\n",
       "      <td>0.007042</td>\n",
       "      <td>0.001457</td>\n",
       "      <td>0.078459</td>\n",
       "      <td>0.659893</td>\n",
       "      <td>4.437814</td>\n",
       "      <td>0.747280</td>\n",
       "    </tr>\n",
       "    <tr>\n",
       "      <th>2013-12-31 23:40:00+00:00</th>\n",
       "      <td>0.000000</td>\n",
       "      <td>0.003806</td>\n",
       "      <td>0.018556</td>\n",
       "      <td>0.002599</td>\n",
       "      <td>0.072297</td>\n",
       "      <td>0.657600</td>\n",
       "      <td>5.185094</td>\n",
       "      <td>0.754858</td>\n",
       "    </tr>\n",
       "    <tr>\n",
       "      <th>2013-12-31 23:45:00+00:00</th>\n",
       "      <td>0.000000</td>\n",
       "      <td>0.007149</td>\n",
       "      <td>0.038298</td>\n",
       "      <td>0.004723</td>\n",
       "      <td>0.067480</td>\n",
       "      <td>0.600474</td>\n",
       "      <td>5.939953</td>\n",
       "      <td>0.718123</td>\n",
       "    </tr>\n",
       "    <tr>\n",
       "      <th>2013-12-31 23:50:00+00:00</th>\n",
       "      <td>0.000000</td>\n",
       "      <td>0.021311</td>\n",
       "      <td>0.073590</td>\n",
       "      <td>0.008319</td>\n",
       "      <td>0.142858</td>\n",
       "      <td>0.629676</td>\n",
       "      <td>6.658076</td>\n",
       "      <td>0.875755</td>\n",
       "    </tr>\n",
       "  </tbody>\n",
       "</table>\n",
       "<p>631295 rows × 8 columns</p>\n",
       "</div>"
      ],
      "text/plain": [
       "                           65_Wind_1  104_Wind_1  105_Wind_1  114_Wind_1  \\\n",
       "IssueTime                                                                  \n",
       "2008-01-01 00:00:00+00:00   1.459344    0.668133    0.583035   -0.024500   \n",
       "2008-01-01 00:05:00+00:00   1.601367   -0.445220    1.269019    0.091567   \n",
       "2008-01-01 00:10:00+00:00   1.097983   -0.016742    1.678258    0.294259   \n",
       "2008-01-01 00:15:00+00:00   1.172363    2.034480    3.025435    0.001593   \n",
       "2008-01-01 00:20:00+00:00   1.237113    2.234493    2.933309    0.000000   \n",
       "...                              ...         ...         ...         ...   \n",
       "2013-12-31 23:30:00+00:00   0.000000    0.000432    0.005397    0.002113   \n",
       "2013-12-31 23:35:00+00:00   0.000000    0.000429    0.007042    0.001457   \n",
       "2013-12-31 23:40:00+00:00   0.000000    0.003806    0.018556    0.002599   \n",
       "2013-12-31 23:45:00+00:00   0.000000    0.007149    0.038298    0.004723   \n",
       "2013-12-31 23:50:00+00:00   0.000000    0.021311    0.073590    0.008319   \n",
       "\n",
       "                           115_Wind_1  147_Wind_1  TotalPower  Deviation  \n",
       "IssueTime                                                                 \n",
       "2008-01-01 00:00:00+00:00    0.877288    1.845110   96.746560   5.408411  \n",
       "2008-01-01 00:05:00+00:00    1.525665    3.528319  102.154971   7.570718  \n",
       "2008-01-01 00:10:00+00:00    3.257260    5.579959  109.725689  11.890977  \n",
       "2008-01-01 00:15:00+00:00    4.814818    3.355411  121.616666  14.404100  \n",
       "2008-01-01 00:20:00+00:00    5.278723    6.783124  136.020766  18.466761  \n",
       "...                               ...         ...         ...        ...  \n",
       "2013-12-31 23:30:00+00:00    0.084650    0.592468    3.752755   0.685059  \n",
       "2013-12-31 23:35:00+00:00    0.078459    0.659893    4.437814   0.747280  \n",
       "2013-12-31 23:40:00+00:00    0.072297    0.657600    5.185094   0.754858  \n",
       "2013-12-31 23:45:00+00:00    0.067480    0.600474    5.939953   0.718123  \n",
       "2013-12-31 23:50:00+00:00    0.142858    0.629676    6.658076   0.875755  \n",
       "\n",
       "[631295 rows x 8 columns]"
      ]
     },
     "execution_count": 21,
     "metadata": {},
     "output_type": "execute_result"
    }
   ],
   "source": [
    "grid.scenarios"
   ]
  },
  {
   "cell_type": "code",
   "execution_count": 25,
   "metadata": {},
   "outputs": [
    {
     "data": {
      "text/plain": [
       "IssueTime\n",
       "2008-01-01 00:00:00+00:00    (11.458, 689.156]\n",
       "2008-01-01 00:05:00+00:00    (11.458, 689.156]\n",
       "2008-01-01 00:10:00+00:00    (11.458, 689.156]\n",
       "2008-01-01 00:15:00+00:00    (11.458, 689.156]\n",
       "2008-01-01 00:20:00+00:00    (11.458, 689.156]\n",
       "                                   ...        \n",
       "2013-12-31 23:00:00+00:00     (-0.001, 11.458]\n",
       "2013-12-31 23:05:00+00:00     (-0.001, 11.458]\n",
       "2013-12-31 23:10:00+00:00     (-0.001, 11.458]\n",
       "2013-12-31 23:15:00+00:00     (-0.001, 11.458]\n",
       "2013-12-31 23:20:00+00:00     (-0.001, 11.458]\n",
       "Name: TotalPower, Length: 631289, dtype: category\n",
       "Categories (3, interval[float64]): [(-0.001, 11.458] < (11.458, 689.156] < (689.156, 699.6]]"
      ]
     },
     "execution_count": 25,
     "metadata": {},
     "output_type": "execute_result"
    }
   ],
   "source": [
    "power_quantiles=[0.0, 0.1, 0.9, 1.0]\n",
    "\n",
    "power_bins = pd.qcut(\n",
    "    grid.scenarios[\"TotalPower\"].iloc[:-n_periods], q=power_quantiles,\n",
    ")\n",
    "\n",
    "power_bins"
   ]
  },
  {
   "cell_type": "code",
   "execution_count": null,
   "metadata": {},
   "outputs": [],
   "source": []
  }
 ],
 "metadata": {
  "kernelspec": {
   "display_name": "Python 3",
   "language": "python",
   "name": "python3"
  },
  "language_info": {
   "codemirror_mode": {
    "name": "ipython",
    "version": 3
   },
   "file_extension": ".py",
   "mimetype": "text/x-python",
   "name": "python",
   "nbconvert_exporter": "python",
   "pygments_lexer": "ipython3",
   "version": "3.7.6"
  }
 },
 "nbformat": 4,
 "nbformat_minor": 2
}
