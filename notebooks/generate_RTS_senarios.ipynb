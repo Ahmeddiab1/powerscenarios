{
 "cells": [
  {
   "cell_type": "markdown",
   "metadata": {},
   "source": [
    "# Example: scenarios for RTS grid\n"
   ]
  },
  {
   "cell_type": "code",
   "execution_count": 1,
   "metadata": {},
   "outputs": [],
   "source": [
    "import pandas as pd\n",
    "import numpy as np\n",
    "\n",
    "from powerscenarios.parser import Parser\n",
    "from powerscenarios.grid import Grid\n",
    "\n",
    "\n",
    "# from numpy import linalg\n",
    "# import matplotlib.pyplot as plt\n",
    "\n",
    "# show multiple cell outputs\n",
    "from IPython.core.interactiveshell import InteractiveShell\n",
    "\n",
    "InteractiveShell.ast_node_interactivity = \"all\"\n",
    "\n",
    "pd.set_option(\"display.max_rows\", 50)\n",
    "pd.set_option(\"display.max_columns\", 100)\n",
    "\n",
    "\n",
    "import time"
   ]
  },
  {
   "cell_type": "code",
   "execution_count": 2,
   "metadata": {},
   "outputs": [
    {
     "data": {
      "text/html": [
       "        <script type=\"text/javascript\">\n",
       "        window.PlotlyConfig = {MathJaxConfig: 'local'};\n",
       "        if (window.MathJax) {MathJax.Hub.Config({SVG: {font: \"STIX-Web\"}});}\n",
       "        if (typeof require !== 'undefined') {\n",
       "        require.undef(\"plotly\");\n",
       "        requirejs.config({\n",
       "            paths: {\n",
       "                'plotly': ['https://cdn.plot.ly/plotly-latest.min']\n",
       "            }\n",
       "        });\n",
       "        require(['plotly'], function(Plotly) {\n",
       "            window._Plotly = Plotly;\n",
       "        });\n",
       "        }\n",
       "        </script>\n",
       "        "
      ]
     },
     "metadata": {},
     "output_type": "display_data"
    }
   ],
   "source": [
    "# plotting (optional)\n",
    "import cufflinks as cl\n",
    "\n",
    "cl.go_offline()"
   ]
  },
  {
   "cell_type": "code",
   "execution_count": 3,
   "metadata": {},
   "outputs": [
    {
     "data": {
      "application/javascript": [
       "\n",
       "            setTimeout(function() {\n",
       "                var nbb_cell_id = 3;\n",
       "                var nbb_unformatted_code = \"# formatting (optional)\\n%load_ext nb_black\";\n",
       "                var nbb_formatted_code = \"# formatting (optional)\\n%load_ext nb_black\";\n",
       "                var nbb_cells = Jupyter.notebook.get_cells();\n",
       "                for (var i = 0; i < nbb_cells.length; ++i) {\n",
       "                    if (nbb_cells[i].input_prompt_number == nbb_cell_id) {\n",
       "                        if (nbb_cells[i].get_text() == nbb_unformatted_code) {\n",
       "                             nbb_cells[i].set_text(nbb_formatted_code);\n",
       "                        }\n",
       "                        break;\n",
       "                    }\n",
       "                }\n",
       "            }, 500);\n",
       "            "
      ],
      "text/plain": [
       "<IPython.core.display.Javascript object>"
      ]
     },
     "metadata": {},
     "output_type": "display_data"
    }
   ],
   "source": [
    "# formatting (optional)\n",
    "%load_ext nb_black"
   ]
  },
  {
   "cell_type": "markdown",
   "metadata": {},
   "source": [
    "# parse RTS grid .csv files"
   ]
  },
  {
   "cell_type": "code",
   "execution_count": 4,
   "metadata": {},
   "outputs": [
    {
     "name": "stdout",
     "output_type": "stream",
     "text": [
      "bus_df:\n"
     ]
    },
    {
     "data": {
      "text/html": [
       "<div>\n",
       "<style scoped>\n",
       "    .dataframe tbody tr th:only-of-type {\n",
       "        vertical-align: middle;\n",
       "    }\n",
       "\n",
       "    .dataframe tbody tr th {\n",
       "        vertical-align: top;\n",
       "    }\n",
       "\n",
       "    .dataframe thead th {\n",
       "        text-align: right;\n",
       "    }\n",
       "</style>\n",
       "<table border=\"1\" class=\"dataframe\">\n",
       "  <thead>\n",
       "    <tr style=\"text-align: right;\">\n",
       "      <th></th>\n",
       "      <th>BusNum</th>\n",
       "      <th>Bus Name</th>\n",
       "      <th>BaseKV</th>\n",
       "      <th>Bus Type</th>\n",
       "      <th>MW Load</th>\n",
       "      <th>MVAR Load</th>\n",
       "      <th>V Mag</th>\n",
       "      <th>V Angle</th>\n",
       "      <th>MW Shunt G</th>\n",
       "      <th>MVAR Shunt B</th>\n",
       "      <th>Area</th>\n",
       "      <th>Sub Area</th>\n",
       "      <th>Zone</th>\n",
       "      <th>Latitude</th>\n",
       "      <th>Longitude</th>\n",
       "    </tr>\n",
       "  </thead>\n",
       "  <tbody>\n",
       "    <tr>\n",
       "      <th>0</th>\n",
       "      <td>101</td>\n",
       "      <td>Abel</td>\n",
       "      <td>138.0</td>\n",
       "      <td>PV</td>\n",
       "      <td>108.0</td>\n",
       "      <td>22.0</td>\n",
       "      <td>1.04777</td>\n",
       "      <td>-7.74152</td>\n",
       "      <td>0.0</td>\n",
       "      <td>0.0</td>\n",
       "      <td>1</td>\n",
       "      <td>11.0</td>\n",
       "      <td>11.0</td>\n",
       "      <td>33.396103</td>\n",
       "      <td>-113.835642</td>\n",
       "    </tr>\n",
       "    <tr>\n",
       "      <th>1</th>\n",
       "      <td>102</td>\n",
       "      <td>Adams</td>\n",
       "      <td>138.0</td>\n",
       "      <td>PV</td>\n",
       "      <td>97.0</td>\n",
       "      <td>20.0</td>\n",
       "      <td>1.04783</td>\n",
       "      <td>-7.81784</td>\n",
       "      <td>0.0</td>\n",
       "      <td>0.0</td>\n",
       "      <td>1</td>\n",
       "      <td>11.0</td>\n",
       "      <td>12.0</td>\n",
       "      <td>33.357678</td>\n",
       "      <td>-113.825933</td>\n",
       "    </tr>\n",
       "    <tr>\n",
       "      <th>2</th>\n",
       "      <td>103</td>\n",
       "      <td>Adler</td>\n",
       "      <td>138.0</td>\n",
       "      <td>PQ</td>\n",
       "      <td>180.0</td>\n",
       "      <td>37.0</td>\n",
       "      <td>1.01085</td>\n",
       "      <td>-7.21090</td>\n",
       "      <td>0.0</td>\n",
       "      <td>0.0</td>\n",
       "      <td>1</td>\n",
       "      <td>11.0</td>\n",
       "      <td>11.0</td>\n",
       "      <td>33.536833</td>\n",
       "      <td>-114.670399</td>\n",
       "    </tr>\n",
       "    <tr>\n",
       "      <th>3</th>\n",
       "      <td>104</td>\n",
       "      <td>Agricola</td>\n",
       "      <td>138.0</td>\n",
       "      <td>PQ</td>\n",
       "      <td>74.0</td>\n",
       "      <td>15.0</td>\n",
       "      <td>1.01765</td>\n",
       "      <td>-10.56614</td>\n",
       "      <td>0.0</td>\n",
       "      <td>0.0</td>\n",
       "      <td>1</td>\n",
       "      <td>11.0</td>\n",
       "      <td>11.0</td>\n",
       "      <td>33.812304</td>\n",
       "      <td>-113.825419</td>\n",
       "    </tr>\n",
       "    <tr>\n",
       "      <th>4</th>\n",
       "      <td>105</td>\n",
       "      <td>Aiken</td>\n",
       "      <td>138.0</td>\n",
       "      <td>PQ</td>\n",
       "      <td>71.0</td>\n",
       "      <td>14.0</td>\n",
       "      <td>1.03568</td>\n",
       "      <td>-10.70887</td>\n",
       "      <td>0.0</td>\n",
       "      <td>0.0</td>\n",
       "      <td>1</td>\n",
       "      <td>11.0</td>\n",
       "      <td>11.0</td>\n",
       "      <td>33.659560</td>\n",
       "      <td>-113.999023</td>\n",
       "    </tr>\n",
       "  </tbody>\n",
       "</table>\n",
       "</div>"
      ],
      "text/plain": [
       "   BusNum  Bus Name  BaseKV Bus Type  MW Load  MVAR Load    V Mag   V Angle  \\\n",
       "0     101      Abel   138.0       PV    108.0       22.0  1.04777  -7.74152   \n",
       "1     102     Adams   138.0       PV     97.0       20.0  1.04783  -7.81784   \n",
       "2     103     Adler   138.0       PQ    180.0       37.0  1.01085  -7.21090   \n",
       "3     104  Agricola   138.0       PQ     74.0       15.0  1.01765 -10.56614   \n",
       "4     105     Aiken   138.0       PQ     71.0       14.0  1.03568 -10.70887   \n",
       "\n",
       "   MW Shunt G  MVAR Shunt B  Area  Sub Area  Zone   Latitude   Longitude  \n",
       "0         0.0           0.0     1      11.0  11.0  33.396103 -113.835642  \n",
       "1         0.0           0.0     1      11.0  12.0  33.357678 -113.825933  \n",
       "2         0.0           0.0     1      11.0  11.0  33.536833 -114.670399  \n",
       "3         0.0           0.0     1      11.0  11.0  33.812304 -113.825419  \n",
       "4         0.0           0.0     1      11.0  11.0  33.659560 -113.999023  "
      ]
     },
     "execution_count": 4,
     "metadata": {},
     "output_type": "execute_result"
    },
    {
     "name": "stdout",
     "output_type": "stream",
     "text": [
      "gen_df:\n"
     ]
    },
    {
     "data": {
      "text/html": [
       "<div>\n",
       "<style scoped>\n",
       "    .dataframe tbody tr th:only-of-type {\n",
       "        vertical-align: middle;\n",
       "    }\n",
       "\n",
       "    .dataframe tbody tr th {\n",
       "        vertical-align: top;\n",
       "    }\n",
       "\n",
       "    .dataframe thead th {\n",
       "        text-align: right;\n",
       "    }\n",
       "</style>\n",
       "<table border=\"1\" class=\"dataframe\">\n",
       "  <thead>\n",
       "    <tr style=\"text-align: right;\">\n",
       "      <th></th>\n",
       "      <th>GenUID</th>\n",
       "      <th>BusNum</th>\n",
       "      <th>Gen ID</th>\n",
       "      <th>Unit Group</th>\n",
       "      <th>Unit Type</th>\n",
       "      <th>Category</th>\n",
       "      <th>GenFuelType</th>\n",
       "      <th>MW Inj</th>\n",
       "      <th>MVAR Inj</th>\n",
       "      <th>V Setpoint p.u.</th>\n",
       "      <th>GenMWMax</th>\n",
       "      <th>PMin MW</th>\n",
       "      <th>QMax MVAR</th>\n",
       "      <th>QMin MVAR</th>\n",
       "      <th>Min Down Time Hr</th>\n",
       "      <th>Min Up Time Hr</th>\n",
       "      <th>Ramp Rate MW/Min</th>\n",
       "      <th>Start Time Cold Hr</th>\n",
       "      <th>Start Time Warm Hr</th>\n",
       "      <th>Start Time Hot Hr</th>\n",
       "      <th>Start Heat Cold MBTU</th>\n",
       "      <th>Start Heat Warm MBTU</th>\n",
       "      <th>Start Heat Hot MBTU</th>\n",
       "      <th>Non Fuel Start Cost $</th>\n",
       "      <th>FOR</th>\n",
       "      <th>MTTF Hr</th>\n",
       "      <th>MTTR Hr</th>\n",
       "      <th>Scheduled Maint Weeks</th>\n",
       "      <th>Fuel Price $/MMBTU</th>\n",
       "      <th>Output_pct_0</th>\n",
       "      <th>Output_pct_1</th>\n",
       "      <th>Output_pct_2</th>\n",
       "      <th>Output_pct_3</th>\n",
       "      <th>HR_avg_0</th>\n",
       "      <th>HR_incr_1</th>\n",
       "      <th>HR_incr_2</th>\n",
       "      <th>HR_incr_3</th>\n",
       "      <th>Fuel Sulfur Content %</th>\n",
       "      <th>Emissions SO2 Lbs/MMBTU</th>\n",
       "      <th>Emissions NOX Lbs/MMBTU</th>\n",
       "      <th>Emissions Part Lbs/MMBTU</th>\n",
       "      <th>Emissions CO2 Lbs/MMBTU</th>\n",
       "      <th>Emissions CH4 Lbs/MMBTU</th>\n",
       "      <th>Emissions N2O Lbs/MMBTU</th>\n",
       "      <th>Emissions CO Lbs/MMBTU</th>\n",
       "      <th>Emissions VOCs Lbs/MMBTU</th>\n",
       "      <th>Damping Ratio</th>\n",
       "      <th>Inertia MJ/MW</th>\n",
       "      <th>Base MVA</th>\n",
       "      <th>Transformer X p.u.</th>\n",
       "      <th>Unit X p.u.</th>\n",
       "      <th>Pump Load MW</th>\n",
       "      <th>Storage Roundtrip Efficiency</th>\n",
       "    </tr>\n",
       "  </thead>\n",
       "  <tbody>\n",
       "    <tr>\n",
       "      <th>0</th>\n",
       "      <td>101_CT_1</td>\n",
       "      <td>101</td>\n",
       "      <td>1</td>\n",
       "      <td>U20</td>\n",
       "      <td>CT</td>\n",
       "      <td>Oil CT</td>\n",
       "      <td>Oil</td>\n",
       "      <td>8.0</td>\n",
       "      <td>4.96</td>\n",
       "      <td>1.0468</td>\n",
       "      <td>20.0</td>\n",
       "      <td>8</td>\n",
       "      <td>10</td>\n",
       "      <td>0</td>\n",
       "      <td>1.0</td>\n",
       "      <td>1.0</td>\n",
       "      <td>3.0</td>\n",
       "      <td>1</td>\n",
       "      <td>0.0</td>\n",
       "      <td>0.0</td>\n",
       "      <td>5.0</td>\n",
       "      <td>5.0</td>\n",
       "      <td>5.0</td>\n",
       "      <td>0</td>\n",
       "      <td>0.10</td>\n",
       "      <td>450</td>\n",
       "      <td>50</td>\n",
       "      <td>2.0</td>\n",
       "      <td>10.34940</td>\n",
       "      <td>0.400000</td>\n",
       "      <td>0.600000</td>\n",
       "      <td>0.800000</td>\n",
       "      <td>1</td>\n",
       "      <td>13114</td>\n",
       "      <td>9456</td>\n",
       "      <td>9476</td>\n",
       "      <td>10352</td>\n",
       "      <td>0.2</td>\n",
       "      <td>0.2</td>\n",
       "      <td>0.5</td>\n",
       "      <td>0.036</td>\n",
       "      <td>160</td>\n",
       "      <td>0.002</td>\n",
       "      <td>0.004</td>\n",
       "      <td>0.11</td>\n",
       "      <td>0.040</td>\n",
       "      <td>0</td>\n",
       "      <td>2.8</td>\n",
       "      <td>24</td>\n",
       "      <td>0.13</td>\n",
       "      <td>0.32</td>\n",
       "      <td>0</td>\n",
       "      <td>0</td>\n",
       "    </tr>\n",
       "    <tr>\n",
       "      <th>1</th>\n",
       "      <td>101_CT_2</td>\n",
       "      <td>101</td>\n",
       "      <td>2</td>\n",
       "      <td>U20</td>\n",
       "      <td>CT</td>\n",
       "      <td>Oil CT</td>\n",
       "      <td>Oil</td>\n",
       "      <td>8.0</td>\n",
       "      <td>4.96</td>\n",
       "      <td>1.0468</td>\n",
       "      <td>20.0</td>\n",
       "      <td>8</td>\n",
       "      <td>10</td>\n",
       "      <td>0</td>\n",
       "      <td>1.0</td>\n",
       "      <td>1.0</td>\n",
       "      <td>3.0</td>\n",
       "      <td>1</td>\n",
       "      <td>0.0</td>\n",
       "      <td>0.0</td>\n",
       "      <td>5.0</td>\n",
       "      <td>5.0</td>\n",
       "      <td>5.0</td>\n",
       "      <td>0</td>\n",
       "      <td>0.10</td>\n",
       "      <td>450</td>\n",
       "      <td>50</td>\n",
       "      <td>2.0</td>\n",
       "      <td>10.34940</td>\n",
       "      <td>0.400000</td>\n",
       "      <td>0.600000</td>\n",
       "      <td>0.800000</td>\n",
       "      <td>1</td>\n",
       "      <td>13114</td>\n",
       "      <td>9456</td>\n",
       "      <td>9476</td>\n",
       "      <td>10352</td>\n",
       "      <td>0.2</td>\n",
       "      <td>0.2</td>\n",
       "      <td>0.5</td>\n",
       "      <td>0.036</td>\n",
       "      <td>160</td>\n",
       "      <td>0.002</td>\n",
       "      <td>0.004</td>\n",
       "      <td>0.11</td>\n",
       "      <td>0.040</td>\n",
       "      <td>0</td>\n",
       "      <td>2.8</td>\n",
       "      <td>24</td>\n",
       "      <td>0.13</td>\n",
       "      <td>0.32</td>\n",
       "      <td>0</td>\n",
       "      <td>0</td>\n",
       "    </tr>\n",
       "    <tr>\n",
       "      <th>2</th>\n",
       "      <td>101_STEAM_3</td>\n",
       "      <td>101</td>\n",
       "      <td>3</td>\n",
       "      <td>U76</td>\n",
       "      <td>STEAM</td>\n",
       "      <td>Coal</td>\n",
       "      <td>Coal</td>\n",
       "      <td>76.0</td>\n",
       "      <td>0.14</td>\n",
       "      <td>1.0468</td>\n",
       "      <td>76.0</td>\n",
       "      <td>30</td>\n",
       "      <td>30</td>\n",
       "      <td>-25</td>\n",
       "      <td>4.0</td>\n",
       "      <td>8.0</td>\n",
       "      <td>2.0</td>\n",
       "      <td>12</td>\n",
       "      <td>10.0</td>\n",
       "      <td>3.0</td>\n",
       "      <td>5284.8</td>\n",
       "      <td>4861.4</td>\n",
       "      <td>3379.4</td>\n",
       "      <td>0</td>\n",
       "      <td>0.02</td>\n",
       "      <td>1960</td>\n",
       "      <td>40</td>\n",
       "      <td>3.0</td>\n",
       "      <td>2.11399</td>\n",
       "      <td>0.394737</td>\n",
       "      <td>0.596491</td>\n",
       "      <td>0.798246</td>\n",
       "      <td>1</td>\n",
       "      <td>13270</td>\n",
       "      <td>6713</td>\n",
       "      <td>8028</td>\n",
       "      <td>8549</td>\n",
       "      <td>Unit-specific</td>\n",
       "      <td>Unit-specific</td>\n",
       "      <td>Unit-specific</td>\n",
       "      <td>Unit-specific</td>\n",
       "      <td>210</td>\n",
       "      <td>0.001</td>\n",
       "      <td>0.004</td>\n",
       "      <td>0.02</td>\n",
       "      <td>0.003</td>\n",
       "      <td>0</td>\n",
       "      <td>3.0</td>\n",
       "      <td>89</td>\n",
       "      <td>0.13</td>\n",
       "      <td>0.30</td>\n",
       "      <td>0</td>\n",
       "      <td>0</td>\n",
       "    </tr>\n",
       "    <tr>\n",
       "      <th>3</th>\n",
       "      <td>101_STEAM_4</td>\n",
       "      <td>101</td>\n",
       "      <td>4</td>\n",
       "      <td>U76</td>\n",
       "      <td>STEAM</td>\n",
       "      <td>Coal</td>\n",
       "      <td>Coal</td>\n",
       "      <td>76.0</td>\n",
       "      <td>0.14</td>\n",
       "      <td>1.0468</td>\n",
       "      <td>76.0</td>\n",
       "      <td>30</td>\n",
       "      <td>30</td>\n",
       "      <td>-25</td>\n",
       "      <td>4.0</td>\n",
       "      <td>8.0</td>\n",
       "      <td>2.0</td>\n",
       "      <td>12</td>\n",
       "      <td>10.0</td>\n",
       "      <td>3.0</td>\n",
       "      <td>5284.8</td>\n",
       "      <td>4861.4</td>\n",
       "      <td>3379.4</td>\n",
       "      <td>0</td>\n",
       "      <td>0.02</td>\n",
       "      <td>1960</td>\n",
       "      <td>40</td>\n",
       "      <td>3.0</td>\n",
       "      <td>2.11399</td>\n",
       "      <td>0.394737</td>\n",
       "      <td>0.596491</td>\n",
       "      <td>0.798246</td>\n",
       "      <td>1</td>\n",
       "      <td>13270</td>\n",
       "      <td>6713</td>\n",
       "      <td>8028</td>\n",
       "      <td>8549</td>\n",
       "      <td>Unit-specific</td>\n",
       "      <td>Unit-specific</td>\n",
       "      <td>Unit-specific</td>\n",
       "      <td>Unit-specific</td>\n",
       "      <td>210</td>\n",
       "      <td>0.001</td>\n",
       "      <td>0.004</td>\n",
       "      <td>0.02</td>\n",
       "      <td>0.003</td>\n",
       "      <td>0</td>\n",
       "      <td>3.0</td>\n",
       "      <td>89</td>\n",
       "      <td>0.13</td>\n",
       "      <td>0.30</td>\n",
       "      <td>0</td>\n",
       "      <td>0</td>\n",
       "    </tr>\n",
       "    <tr>\n",
       "      <th>4</th>\n",
       "      <td>102_CT_1</td>\n",
       "      <td>102</td>\n",
       "      <td>1</td>\n",
       "      <td>U20</td>\n",
       "      <td>CT</td>\n",
       "      <td>Oil CT</td>\n",
       "      <td>Oil</td>\n",
       "      <td>8.0</td>\n",
       "      <td>4.88</td>\n",
       "      <td>1.0467</td>\n",
       "      <td>20.0</td>\n",
       "      <td>8</td>\n",
       "      <td>10</td>\n",
       "      <td>0</td>\n",
       "      <td>1.0</td>\n",
       "      <td>1.0</td>\n",
       "      <td>3.0</td>\n",
       "      <td>1</td>\n",
       "      <td>0.0</td>\n",
       "      <td>0.0</td>\n",
       "      <td>5.0</td>\n",
       "      <td>5.0</td>\n",
       "      <td>5.0</td>\n",
       "      <td>0</td>\n",
       "      <td>0.10</td>\n",
       "      <td>450</td>\n",
       "      <td>50</td>\n",
       "      <td>2.0</td>\n",
       "      <td>10.34940</td>\n",
       "      <td>0.400000</td>\n",
       "      <td>0.600000</td>\n",
       "      <td>0.800000</td>\n",
       "      <td>1</td>\n",
       "      <td>14639</td>\n",
       "      <td>8597</td>\n",
       "      <td>9147</td>\n",
       "      <td>9622</td>\n",
       "      <td>0.2</td>\n",
       "      <td>0.2</td>\n",
       "      <td>0.5</td>\n",
       "      <td>0.036</td>\n",
       "      <td>160</td>\n",
       "      <td>0.002</td>\n",
       "      <td>0.004</td>\n",
       "      <td>0.11</td>\n",
       "      <td>0.040</td>\n",
       "      <td>0</td>\n",
       "      <td>2.8</td>\n",
       "      <td>24</td>\n",
       "      <td>0.13</td>\n",
       "      <td>0.32</td>\n",
       "      <td>0</td>\n",
       "      <td>0</td>\n",
       "    </tr>\n",
       "  </tbody>\n",
       "</table>\n",
       "</div>"
      ],
      "text/plain": [
       "        GenUID  BusNum  Gen ID Unit Group Unit Type Category GenFuelType  \\\n",
       "0     101_CT_1     101       1        U20        CT   Oil CT         Oil   \n",
       "1     101_CT_2     101       2        U20        CT   Oil CT         Oil   \n",
       "2  101_STEAM_3     101       3        U76     STEAM     Coal        Coal   \n",
       "3  101_STEAM_4     101       4        U76     STEAM     Coal        Coal   \n",
       "4     102_CT_1     102       1        U20        CT   Oil CT         Oil   \n",
       "\n",
       "   MW Inj  MVAR Inj  V Setpoint p.u.  GenMWMax  PMin MW  QMax MVAR  QMin MVAR  \\\n",
       "0     8.0      4.96           1.0468      20.0        8         10          0   \n",
       "1     8.0      4.96           1.0468      20.0        8         10          0   \n",
       "2    76.0      0.14           1.0468      76.0       30         30        -25   \n",
       "3    76.0      0.14           1.0468      76.0       30         30        -25   \n",
       "4     8.0      4.88           1.0467      20.0        8         10          0   \n",
       "\n",
       "   Min Down Time Hr  Min Up Time Hr  Ramp Rate MW/Min  Start Time Cold Hr  \\\n",
       "0               1.0             1.0               3.0                   1   \n",
       "1               1.0             1.0               3.0                   1   \n",
       "2               4.0             8.0               2.0                  12   \n",
       "3               4.0             8.0               2.0                  12   \n",
       "4               1.0             1.0               3.0                   1   \n",
       "\n",
       "   Start Time Warm Hr  Start Time Hot Hr  Start Heat Cold MBTU  \\\n",
       "0                 0.0                0.0                   5.0   \n",
       "1                 0.0                0.0                   5.0   \n",
       "2                10.0                3.0                5284.8   \n",
       "3                10.0                3.0                5284.8   \n",
       "4                 0.0                0.0                   5.0   \n",
       "\n",
       "   Start Heat Warm MBTU  Start Heat Hot MBTU  Non Fuel Start Cost $   FOR  \\\n",
       "0                   5.0                  5.0                      0  0.10   \n",
       "1                   5.0                  5.0                      0  0.10   \n",
       "2                4861.4               3379.4                      0  0.02   \n",
       "3                4861.4               3379.4                      0  0.02   \n",
       "4                   5.0                  5.0                      0  0.10   \n",
       "\n",
       "   MTTF Hr  MTTR Hr  Scheduled Maint Weeks  Fuel Price $/MMBTU  Output_pct_0  \\\n",
       "0      450       50                    2.0            10.34940      0.400000   \n",
       "1      450       50                    2.0            10.34940      0.400000   \n",
       "2     1960       40                    3.0             2.11399      0.394737   \n",
       "3     1960       40                    3.0             2.11399      0.394737   \n",
       "4      450       50                    2.0            10.34940      0.400000   \n",
       "\n",
       "   Output_pct_1  Output_pct_2  Output_pct_3  HR_avg_0  HR_incr_1  HR_incr_2  \\\n",
       "0      0.600000      0.800000             1     13114       9456       9476   \n",
       "1      0.600000      0.800000             1     13114       9456       9476   \n",
       "2      0.596491      0.798246             1     13270       6713       8028   \n",
       "3      0.596491      0.798246             1     13270       6713       8028   \n",
       "4      0.600000      0.800000             1     14639       8597       9147   \n",
       "\n",
       "   HR_incr_3 Fuel Sulfur Content % Emissions SO2 Lbs/MMBTU  \\\n",
       "0      10352                   0.2                     0.2   \n",
       "1      10352                   0.2                     0.2   \n",
       "2       8549         Unit-specific           Unit-specific   \n",
       "3       8549         Unit-specific           Unit-specific   \n",
       "4       9622                   0.2                     0.2   \n",
       "\n",
       "  Emissions NOX Lbs/MMBTU Emissions Part Lbs/MMBTU  Emissions CO2 Lbs/MMBTU  \\\n",
       "0                     0.5                    0.036                      160   \n",
       "1                     0.5                    0.036                      160   \n",
       "2           Unit-specific            Unit-specific                      210   \n",
       "3           Unit-specific            Unit-specific                      210   \n",
       "4                     0.5                    0.036                      160   \n",
       "\n",
       "   Emissions CH4 Lbs/MMBTU  Emissions N2O Lbs/MMBTU  Emissions CO Lbs/MMBTU  \\\n",
       "0                    0.002                    0.004                    0.11   \n",
       "1                    0.002                    0.004                    0.11   \n",
       "2                    0.001                    0.004                    0.02   \n",
       "3                    0.001                    0.004                    0.02   \n",
       "4                    0.002                    0.004                    0.11   \n",
       "\n",
       "   Emissions VOCs Lbs/MMBTU  Damping Ratio  Inertia MJ/MW  Base MVA  \\\n",
       "0                     0.040              0            2.8        24   \n",
       "1                     0.040              0            2.8        24   \n",
       "2                     0.003              0            3.0        89   \n",
       "3                     0.003              0            3.0        89   \n",
       "4                     0.040              0            2.8        24   \n",
       "\n",
       "   Transformer X p.u.  Unit X p.u.  Pump Load MW  Storage Roundtrip Efficiency  \n",
       "0                0.13         0.32             0                             0  \n",
       "1                0.13         0.32             0                             0  \n",
       "2                0.13         0.30             0                             0  \n",
       "3                0.13         0.30             0                             0  \n",
       "4                0.13         0.32             0                             0  "
      ]
     },
     "execution_count": 4,
     "metadata": {},
     "output_type": "execute_result"
    },
    {
     "name": "stdout",
     "output_type": "stream",
     "text": [
      "wind_gen_df:\n"
     ]
    },
    {
     "data": {
      "text/html": [
       "<div>\n",
       "<style scoped>\n",
       "    .dataframe tbody tr th:only-of-type {\n",
       "        vertical-align: middle;\n",
       "    }\n",
       "\n",
       "    .dataframe tbody tr th {\n",
       "        vertical-align: top;\n",
       "    }\n",
       "\n",
       "    .dataframe thead th {\n",
       "        text-align: right;\n",
       "    }\n",
       "</style>\n",
       "<table border=\"1\" class=\"dataframe\">\n",
       "  <thead>\n",
       "    <tr style=\"text-align: right;\">\n",
       "      <th></th>\n",
       "      <th>BusNum</th>\n",
       "      <th>GenUID</th>\n",
       "      <th>Gen ID</th>\n",
       "      <th>Unit Group</th>\n",
       "      <th>Unit Type</th>\n",
       "      <th>Category</th>\n",
       "      <th>GenFuelType</th>\n",
       "      <th>MW Inj</th>\n",
       "      <th>MVAR Inj</th>\n",
       "      <th>V Setpoint p.u.</th>\n",
       "      <th>GenMWMax</th>\n",
       "      <th>PMin MW</th>\n",
       "      <th>QMax MVAR</th>\n",
       "      <th>QMin MVAR</th>\n",
       "      <th>Min Down Time Hr</th>\n",
       "      <th>Min Up Time Hr</th>\n",
       "      <th>Ramp Rate MW/Min</th>\n",
       "      <th>Start Time Cold Hr</th>\n",
       "      <th>Start Time Warm Hr</th>\n",
       "      <th>Start Time Hot Hr</th>\n",
       "      <th>Start Heat Cold MBTU</th>\n",
       "      <th>Start Heat Warm MBTU</th>\n",
       "      <th>Start Heat Hot MBTU</th>\n",
       "      <th>Non Fuel Start Cost $</th>\n",
       "      <th>FOR</th>\n",
       "      <th>MTTF Hr</th>\n",
       "      <th>MTTR Hr</th>\n",
       "      <th>Scheduled Maint Weeks</th>\n",
       "      <th>Fuel Price $/MMBTU</th>\n",
       "      <th>Output_pct_0</th>\n",
       "      <th>Output_pct_1</th>\n",
       "      <th>Output_pct_2</th>\n",
       "      <th>Output_pct_3</th>\n",
       "      <th>HR_avg_0</th>\n",
       "      <th>HR_incr_1</th>\n",
       "      <th>HR_incr_2</th>\n",
       "      <th>HR_incr_3</th>\n",
       "      <th>Fuel Sulfur Content %</th>\n",
       "      <th>Emissions SO2 Lbs/MMBTU</th>\n",
       "      <th>Emissions NOX Lbs/MMBTU</th>\n",
       "      <th>Emissions Part Lbs/MMBTU</th>\n",
       "      <th>Emissions CO2 Lbs/MMBTU</th>\n",
       "      <th>Emissions CH4 Lbs/MMBTU</th>\n",
       "      <th>Emissions N2O Lbs/MMBTU</th>\n",
       "      <th>Emissions CO Lbs/MMBTU</th>\n",
       "      <th>Emissions VOCs Lbs/MMBTU</th>\n",
       "      <th>Damping Ratio</th>\n",
       "      <th>Inertia MJ/MW</th>\n",
       "      <th>Base MVA</th>\n",
       "      <th>Transformer X p.u.</th>\n",
       "      <th>Unit X p.u.</th>\n",
       "      <th>Pump Load MW</th>\n",
       "      <th>Storage Roundtrip Efficiency</th>\n",
       "      <th>Latitude</th>\n",
       "      <th>Longitude</th>\n",
       "    </tr>\n",
       "  </thead>\n",
       "  <tbody>\n",
       "    <tr>\n",
       "      <th>0</th>\n",
       "      <td>309</td>\n",
       "      <td>309_WIND_1</td>\n",
       "      <td>1</td>\n",
       "      <td>WIND</td>\n",
       "      <td>WIND</td>\n",
       "      <td>Wind</td>\n",
       "      <td>Wind</td>\n",
       "      <td>0.0</td>\n",
       "      <td>0.0</td>\n",
       "      <td>1.0</td>\n",
       "      <td>148.3</td>\n",
       "      <td>0</td>\n",
       "      <td>0</td>\n",
       "      <td>0</td>\n",
       "      <td>0.0</td>\n",
       "      <td>0.0</td>\n",
       "      <td>148.3</td>\n",
       "      <td>0</td>\n",
       "      <td>0.0</td>\n",
       "      <td>0.0</td>\n",
       "      <td>0.0</td>\n",
       "      <td>0.0</td>\n",
       "      <td>0.0</td>\n",
       "      <td>0</td>\n",
       "      <td>0.0</td>\n",
       "      <td>0</td>\n",
       "      <td>0</td>\n",
       "      <td>0.0</td>\n",
       "      <td>0.0</td>\n",
       "      <td>0.0</td>\n",
       "      <td>0.0</td>\n",
       "      <td>0.0</td>\n",
       "      <td>0</td>\n",
       "      <td>0</td>\n",
       "      <td>0</td>\n",
       "      <td>0</td>\n",
       "      <td>0</td>\n",
       "      <td>0</td>\n",
       "      <td>0</td>\n",
       "      <td>0</td>\n",
       "      <td>0</td>\n",
       "      <td>0</td>\n",
       "      <td>0.0</td>\n",
       "      <td>0.0</td>\n",
       "      <td>0.0</td>\n",
       "      <td>0.0</td>\n",
       "      <td>0</td>\n",
       "      <td>0.0</td>\n",
       "      <td>0</td>\n",
       "      <td>0.0</td>\n",
       "      <td>0.0</td>\n",
       "      <td>0</td>\n",
       "      <td>0</td>\n",
       "      <td>34.735758</td>\n",
       "      <td>-118.127342</td>\n",
       "    </tr>\n",
       "    <tr>\n",
       "      <th>1</th>\n",
       "      <td>317</td>\n",
       "      <td>317_WIND_1</td>\n",
       "      <td>1</td>\n",
       "      <td>WIND</td>\n",
       "      <td>WIND</td>\n",
       "      <td>Wind</td>\n",
       "      <td>Wind</td>\n",
       "      <td>0.0</td>\n",
       "      <td>0.0</td>\n",
       "      <td>1.0</td>\n",
       "      <td>799.1</td>\n",
       "      <td>0</td>\n",
       "      <td>0</td>\n",
       "      <td>0</td>\n",
       "      <td>0.0</td>\n",
       "      <td>0.0</td>\n",
       "      <td>799.1</td>\n",
       "      <td>0</td>\n",
       "      <td>0.0</td>\n",
       "      <td>0.0</td>\n",
       "      <td>0.0</td>\n",
       "      <td>0.0</td>\n",
       "      <td>0.0</td>\n",
       "      <td>0</td>\n",
       "      <td>0.0</td>\n",
       "      <td>0</td>\n",
       "      <td>0</td>\n",
       "      <td>0.0</td>\n",
       "      <td>0.0</td>\n",
       "      <td>0.0</td>\n",
       "      <td>0.0</td>\n",
       "      <td>0.0</td>\n",
       "      <td>0</td>\n",
       "      <td>0</td>\n",
       "      <td>0</td>\n",
       "      <td>0</td>\n",
       "      <td>0</td>\n",
       "      <td>0</td>\n",
       "      <td>0</td>\n",
       "      <td>0</td>\n",
       "      <td>0</td>\n",
       "      <td>0</td>\n",
       "      <td>0.0</td>\n",
       "      <td>0.0</td>\n",
       "      <td>0.0</td>\n",
       "      <td>0.0</td>\n",
       "      <td>0</td>\n",
       "      <td>0.0</td>\n",
       "      <td>0</td>\n",
       "      <td>0.0</td>\n",
       "      <td>0.0</td>\n",
       "      <td>0</td>\n",
       "      <td>0</td>\n",
       "      <td>35.378433</td>\n",
       "      <td>-117.055829</td>\n",
       "    </tr>\n",
       "    <tr>\n",
       "      <th>2</th>\n",
       "      <td>303</td>\n",
       "      <td>303_WIND_1</td>\n",
       "      <td>1</td>\n",
       "      <td>WIND</td>\n",
       "      <td>WIND</td>\n",
       "      <td>Wind</td>\n",
       "      <td>Wind</td>\n",
       "      <td>0.0</td>\n",
       "      <td>0.0</td>\n",
       "      <td>1.0</td>\n",
       "      <td>847.0</td>\n",
       "      <td>0</td>\n",
       "      <td>0</td>\n",
       "      <td>0</td>\n",
       "      <td>0.0</td>\n",
       "      <td>0.0</td>\n",
       "      <td>847.0</td>\n",
       "      <td>0</td>\n",
       "      <td>0.0</td>\n",
       "      <td>0.0</td>\n",
       "      <td>0.0</td>\n",
       "      <td>0.0</td>\n",
       "      <td>0.0</td>\n",
       "      <td>0</td>\n",
       "      <td>0.0</td>\n",
       "      <td>0</td>\n",
       "      <td>0</td>\n",
       "      <td>0.0</td>\n",
       "      <td>0.0</td>\n",
       "      <td>0.0</td>\n",
       "      <td>0.0</td>\n",
       "      <td>0.0</td>\n",
       "      <td>0</td>\n",
       "      <td>0</td>\n",
       "      <td>0</td>\n",
       "      <td>0</td>\n",
       "      <td>0</td>\n",
       "      <td>0</td>\n",
       "      <td>0</td>\n",
       "      <td>0</td>\n",
       "      <td>0</td>\n",
       "      <td>0</td>\n",
       "      <td>0.0</td>\n",
       "      <td>0.0</td>\n",
       "      <td>0.0</td>\n",
       "      <td>0.0</td>\n",
       "      <td>0</td>\n",
       "      <td>0.0</td>\n",
       "      <td>0</td>\n",
       "      <td>0.0</td>\n",
       "      <td>0.0</td>\n",
       "      <td>0</td>\n",
       "      <td>0</td>\n",
       "      <td>35.217543</td>\n",
       "      <td>-118.043550</td>\n",
       "    </tr>\n",
       "    <tr>\n",
       "      <th>3</th>\n",
       "      <td>122</td>\n",
       "      <td>122_WIND_1</td>\n",
       "      <td>1</td>\n",
       "      <td>WIND</td>\n",
       "      <td>WIND</td>\n",
       "      <td>Wind</td>\n",
       "      <td>Wind</td>\n",
       "      <td>0.0</td>\n",
       "      <td>0.0</td>\n",
       "      <td>1.0</td>\n",
       "      <td>713.5</td>\n",
       "      <td>0</td>\n",
       "      <td>0</td>\n",
       "      <td>0</td>\n",
       "      <td>0.0</td>\n",
       "      <td>0.0</td>\n",
       "      <td>713.5</td>\n",
       "      <td>0</td>\n",
       "      <td>0.0</td>\n",
       "      <td>0.0</td>\n",
       "      <td>0.0</td>\n",
       "      <td>0.0</td>\n",
       "      <td>0.0</td>\n",
       "      <td>0</td>\n",
       "      <td>0.0</td>\n",
       "      <td>0</td>\n",
       "      <td>0</td>\n",
       "      <td>0.0</td>\n",
       "      <td>0.0</td>\n",
       "      <td>0.0</td>\n",
       "      <td>0.0</td>\n",
       "      <td>0.0</td>\n",
       "      <td>0</td>\n",
       "      <td>0</td>\n",
       "      <td>0</td>\n",
       "      <td>0</td>\n",
       "      <td>0</td>\n",
       "      <td>0</td>\n",
       "      <td>0</td>\n",
       "      <td>0</td>\n",
       "      <td>0</td>\n",
       "      <td>0</td>\n",
       "      <td>0.0</td>\n",
       "      <td>0.0</td>\n",
       "      <td>0.0</td>\n",
       "      <td>0.0</td>\n",
       "      <td>0</td>\n",
       "      <td>0.0</td>\n",
       "      <td>0</td>\n",
       "      <td>0.0</td>\n",
       "      <td>0.0</td>\n",
       "      <td>0</td>\n",
       "      <td>0</td>\n",
       "      <td>32.818864</td>\n",
       "      <td>-116.324347</td>\n",
       "    </tr>\n",
       "  </tbody>\n",
       "</table>\n",
       "</div>"
      ],
      "text/plain": [
       "   BusNum      GenUID  Gen ID Unit Group Unit Type Category GenFuelType  \\\n",
       "0     309  309_WIND_1       1       WIND      WIND     Wind        Wind   \n",
       "1     317  317_WIND_1       1       WIND      WIND     Wind        Wind   \n",
       "2     303  303_WIND_1       1       WIND      WIND     Wind        Wind   \n",
       "3     122  122_WIND_1       1       WIND      WIND     Wind        Wind   \n",
       "\n",
       "   MW Inj  MVAR Inj  V Setpoint p.u.  GenMWMax  PMin MW  QMax MVAR  QMin MVAR  \\\n",
       "0     0.0       0.0              1.0     148.3        0          0          0   \n",
       "1     0.0       0.0              1.0     799.1        0          0          0   \n",
       "2     0.0       0.0              1.0     847.0        0          0          0   \n",
       "3     0.0       0.0              1.0     713.5        0          0          0   \n",
       "\n",
       "   Min Down Time Hr  Min Up Time Hr  Ramp Rate MW/Min  Start Time Cold Hr  \\\n",
       "0               0.0             0.0             148.3                   0   \n",
       "1               0.0             0.0             799.1                   0   \n",
       "2               0.0             0.0             847.0                   0   \n",
       "3               0.0             0.0             713.5                   0   \n",
       "\n",
       "   Start Time Warm Hr  Start Time Hot Hr  Start Heat Cold MBTU  \\\n",
       "0                 0.0                0.0                   0.0   \n",
       "1                 0.0                0.0                   0.0   \n",
       "2                 0.0                0.0                   0.0   \n",
       "3                 0.0                0.0                   0.0   \n",
       "\n",
       "   Start Heat Warm MBTU  Start Heat Hot MBTU  Non Fuel Start Cost $  FOR  \\\n",
       "0                   0.0                  0.0                      0  0.0   \n",
       "1                   0.0                  0.0                      0  0.0   \n",
       "2                   0.0                  0.0                      0  0.0   \n",
       "3                   0.0                  0.0                      0  0.0   \n",
       "\n",
       "   MTTF Hr  MTTR Hr  Scheduled Maint Weeks  Fuel Price $/MMBTU  Output_pct_0  \\\n",
       "0        0        0                    0.0                 0.0           0.0   \n",
       "1        0        0                    0.0                 0.0           0.0   \n",
       "2        0        0                    0.0                 0.0           0.0   \n",
       "3        0        0                    0.0                 0.0           0.0   \n",
       "\n",
       "   Output_pct_1  Output_pct_2  Output_pct_3  HR_avg_0  HR_incr_1  HR_incr_2  \\\n",
       "0           0.0           0.0             0         0          0          0   \n",
       "1           0.0           0.0             0         0          0          0   \n",
       "2           0.0           0.0             0         0          0          0   \n",
       "3           0.0           0.0             0         0          0          0   \n",
       "\n",
       "   HR_incr_3 Fuel Sulfur Content % Emissions SO2 Lbs/MMBTU  \\\n",
       "0          0                     0                       0   \n",
       "1          0                     0                       0   \n",
       "2          0                     0                       0   \n",
       "3          0                     0                       0   \n",
       "\n",
       "  Emissions NOX Lbs/MMBTU Emissions Part Lbs/MMBTU  Emissions CO2 Lbs/MMBTU  \\\n",
       "0                       0                        0                        0   \n",
       "1                       0                        0                        0   \n",
       "2                       0                        0                        0   \n",
       "3                       0                        0                        0   \n",
       "\n",
       "   Emissions CH4 Lbs/MMBTU  Emissions N2O Lbs/MMBTU  Emissions CO Lbs/MMBTU  \\\n",
       "0                      0.0                      0.0                     0.0   \n",
       "1                      0.0                      0.0                     0.0   \n",
       "2                      0.0                      0.0                     0.0   \n",
       "3                      0.0                      0.0                     0.0   \n",
       "\n",
       "   Emissions VOCs Lbs/MMBTU  Damping Ratio  Inertia MJ/MW  Base MVA  \\\n",
       "0                       0.0              0            0.0         0   \n",
       "1                       0.0              0            0.0         0   \n",
       "2                       0.0              0            0.0         0   \n",
       "3                       0.0              0            0.0         0   \n",
       "\n",
       "   Transformer X p.u.  Unit X p.u.  Pump Load MW  \\\n",
       "0                 0.0          0.0             0   \n",
       "1                 0.0          0.0             0   \n",
       "2                 0.0          0.0             0   \n",
       "3                 0.0          0.0             0   \n",
       "\n",
       "   Storage Roundtrip Efficiency   Latitude   Longitude  \n",
       "0                             0  34.735758 -118.127342  \n",
       "1                             0  35.378433 -117.055829  \n",
       "2                             0  35.217543 -118.043550  \n",
       "3                             0  32.818864 -116.324347  "
      ]
     },
     "execution_count": 4,
     "metadata": {},
     "output_type": "execute_result"
    },
    {
     "data": {
      "application/javascript": [
       "\n",
       "            setTimeout(function() {\n",
       "                var nbb_cell_id = 4;\n",
       "                var nbb_unformatted_code = \"grid_name = \\\"RTS\\\"  # TAMU 200 bus case\\n\\ndata_dir = \\\"../data\\\"\\nbus_csv_filename = data_dir + \\\"/grid-data/\\\" + grid_name + \\\"/bus.csv\\\"\\ngen_csv_filename = data_dir + \\\"/grid-data/\\\" + grid_name + \\\"/gen.csv\\\"\\n\\n# parse original .aux file and return dataframes for buses, generators, and wind generators\\n# here, we need .aux files because those are the only ones with Latitute/Longitude information\\nparser = Parser()\\nbus_df, gen_df, wind_gen_df = parser.parse_rts_csvs(bus_csv_filename, gen_csv_filename)\\n\\n# see what you got\\nprint(\\\"bus_df:\\\")\\nbus_df.head()\\nprint(\\\"gen_df:\\\")\\ngen_df.head()\\nprint(\\\"wind_gen_df:\\\")\\nwind_gen_df.head()\";\n",
       "                var nbb_formatted_code = \"grid_name = \\\"RTS\\\"  # TAMU 200 bus case\\n\\ndata_dir = \\\"../data\\\"\\nbus_csv_filename = data_dir + \\\"/grid-data/\\\" + grid_name + \\\"/bus.csv\\\"\\ngen_csv_filename = data_dir + \\\"/grid-data/\\\" + grid_name + \\\"/gen.csv\\\"\\n\\n# parse original .aux file and return dataframes for buses, generators, and wind generators\\n# here, we need .aux files because those are the only ones with Latitute/Longitude information\\nparser = Parser()\\nbus_df, gen_df, wind_gen_df = parser.parse_rts_csvs(bus_csv_filename, gen_csv_filename)\\n\\n# see what you got\\nprint(\\\"bus_df:\\\")\\nbus_df.head()\\nprint(\\\"gen_df:\\\")\\ngen_df.head()\\nprint(\\\"wind_gen_df:\\\")\\nwind_gen_df.head()\";\n",
       "                var nbb_cells = Jupyter.notebook.get_cells();\n",
       "                for (var i = 0; i < nbb_cells.length; ++i) {\n",
       "                    if (nbb_cells[i].input_prompt_number == nbb_cell_id) {\n",
       "                        if (nbb_cells[i].get_text() == nbb_unformatted_code) {\n",
       "                             nbb_cells[i].set_text(nbb_formatted_code);\n",
       "                        }\n",
       "                        break;\n",
       "                    }\n",
       "                }\n",
       "            }, 500);\n",
       "            "
      ],
      "text/plain": [
       "<IPython.core.display.Javascript object>"
      ]
     },
     "metadata": {},
     "output_type": "display_data"
    }
   ],
   "source": [
    "grid_name = \"RTS\"  # TAMU 200 bus case\n",
    "\n",
    "data_dir = \"../data\"\n",
    "bus_csv_filename = data_dir + \"/grid-data/\" + grid_name + \"/bus.csv\"\n",
    "gen_csv_filename = data_dir + \"/grid-data/\" + grid_name + \"/gen.csv\"\n",
    "\n",
    "# parse original .aux file and return dataframes for buses, generators, and wind generators\n",
    "# here, we need .aux files because those are the only ones with Latitute/Longitude information\n",
    "parser = Parser()\n",
    "bus_df, gen_df, wind_gen_df = parser.parse_rts_csvs(bus_csv_filename, gen_csv_filename)\n",
    "\n",
    "# see what you got\n",
    "print(\"bus_df:\")\n",
    "bus_df.head()\n",
    "print(\"gen_df:\")\n",
    "gen_df.head()\n",
    "print(\"wind_gen_df:\")\n",
    "wind_gen_df.head()"
   ]
  },
  {
   "cell_type": "markdown",
   "metadata": {},
   "source": [
    "## instantiate Grid class"
   ]
  },
  {
   "cell_type": "code",
   "execution_count": 5,
   "metadata": {},
   "outputs": [
    {
     "data": {
      "text/plain": [
       "Grid(name=RTS, buses=73, generators=158, wind_generators=4, wind_sites=0)"
      ]
     },
     "execution_count": 5,
     "metadata": {},
     "output_type": "execute_result"
    },
    {
     "name": "stdout",
     "output_type": "stream",
     "text": [
      "\n",
      "RTS grid info: \n",
      "\n",
      " number of buses: 73\n",
      " number of generators: 158\n",
      " number of wind generators: 4\n",
      " number of solar generators: 57\n",
      " total generator capacity: 14549.80 MW\n",
      " wind capacity/penetration: 2507.90 MW / 17.24%\n",
      " solar capacity/penetration: 2915.90 MW / 20.04%\n"
     ]
    },
    {
     "data": {
      "application/javascript": [
       "\n",
       "            setTimeout(function() {\n",
       "                var nbb_cell_id = 5;\n",
       "                var nbb_unformatted_code = \"# to instantiate a grid we need: name, bus, generator, and wind generator dataframes from Parser\\n# really, we only wind generator, might change in the future\\ngrid = Grid(grid_name, bus_df, gen_df, wind_gen_df)\\ngrid\\nprint(grid.info())\";\n",
       "                var nbb_formatted_code = \"# to instantiate a grid we need: name, bus, generator, and wind generator dataframes from Parser\\n# really, we only wind generator, might change in the future\\ngrid = Grid(grid_name, bus_df, gen_df, wind_gen_df)\\ngrid\\nprint(grid.info())\";\n",
       "                var nbb_cells = Jupyter.notebook.get_cells();\n",
       "                for (var i = 0; i < nbb_cells.length; ++i) {\n",
       "                    if (nbb_cells[i].input_prompt_number == nbb_cell_id) {\n",
       "                        if (nbb_cells[i].get_text() == nbb_unformatted_code) {\n",
       "                             nbb_cells[i].set_text(nbb_formatted_code);\n",
       "                        }\n",
       "                        break;\n",
       "                    }\n",
       "                }\n",
       "            }, 500);\n",
       "            "
      ],
      "text/plain": [
       "<IPython.core.display.Javascript object>"
      ]
     },
     "metadata": {},
     "output_type": "display_data"
    }
   ],
   "source": [
    "# to instantiate a grid we need: name, bus, generator, and wind generator dataframes from Parser\n",
    "# really, we only wind generator, might change in the future\n",
    "grid = Grid(grid_name, bus_df, gen_df, wind_gen_df)\n",
    "grid\n",
    "print(grid.info())"
   ]
  },
  {
   "cell_type": "markdown",
   "metadata": {},
   "source": [
    "## (optional) change wind penetration"
   ]
  },
  {
   "cell_type": "code",
   "execution_count": 9,
   "metadata": {},
   "outputs": [
    {
     "data": {
      "application/javascript": [
       "\n",
       "            setTimeout(function() {\n",
       "                var nbb_cell_id = 9;\n",
       "                var nbb_unformatted_code = \"# ?grid.change_wind_penetration\";\n",
       "                var nbb_formatted_code = \"# ?grid.change_wind_penetration\";\n",
       "                var nbb_cells = Jupyter.notebook.get_cells();\n",
       "                for (var i = 0; i < nbb_cells.length; ++i) {\n",
       "                    if (nbb_cells[i].input_prompt_number == nbb_cell_id) {\n",
       "                        if (nbb_cells[i].get_text() == nbb_unformatted_code) {\n",
       "                             nbb_cells[i].set_text(nbb_formatted_code);\n",
       "                        }\n",
       "                        break;\n",
       "                    }\n",
       "                }\n",
       "            }, 500);\n",
       "            "
      ],
      "text/plain": [
       "<IPython.core.display.Javascript object>"
      ]
     },
     "metadata": {},
     "output_type": "display_data"
    }
   ],
   "source": [
    "# ?grid.change_wind_penetration"
   ]
  },
  {
   "cell_type": "markdown",
   "metadata": {},
   "source": [
    "## retrieve wind sites"
   ]
  },
  {
   "cell_type": "code",
   "execution_count": 10,
   "metadata": {},
   "outputs": [
    {
     "data": {
      "application/javascript": [
       "\n",
       "            setTimeout(function() {\n",
       "                var nbb_cell_id = 10;\n",
       "                var nbb_unformatted_code = \"# ?grid.retrieve_wind_sites\";\n",
       "                var nbb_formatted_code = \"# ?grid.retrieve_wind_sites\";\n",
       "                var nbb_cells = Jupyter.notebook.get_cells();\n",
       "                for (var i = 0; i < nbb_cells.length; ++i) {\n",
       "                    if (nbb_cells[i].input_prompt_number == nbb_cell_id) {\n",
       "                        if (nbb_cells[i].get_text() == nbb_unformatted_code) {\n",
       "                             nbb_cells[i].set_text(nbb_formatted_code);\n",
       "                        }\n",
       "                        break;\n",
       "                    }\n",
       "                }\n",
       "            }, 500);\n",
       "            "
      ],
      "text/plain": [
       "<IPython.core.display.Javascript object>"
      ]
     },
     "metadata": {},
     "output_type": "display_data"
    }
   ],
   "source": [
    "# ?grid.retrieve_wind_sites"
   ]
  },
  {
   "cell_type": "code",
   "execution_count": 11,
   "metadata": {},
   "outputs": [
    {
     "data": {
      "text/plain": [
       "Grid(name=RTS, buses=73, generators=158, wind_generators=4, wind_sites=211)"
      ]
     },
     "execution_count": 11,
     "metadata": {},
     "output_type": "execute_result"
    },
    {
     "name": "stdout",
     "output_type": "stream",
     "text": [
      "Retrieving wind sites ...\n",
      "Done\n"
     ]
    },
    {
     "data": {
      "text/plain": [
       "Grid(name=RTS, buses=73, generators=158, wind_generators=4, wind_sites=211)"
      ]
     },
     "execution_count": 11,
     "metadata": {},
     "output_type": "execute_result"
    },
    {
     "data": {
      "text/html": [
       "<div>\n",
       "<style scoped>\n",
       "    .dataframe tbody tr th:only-of-type {\n",
       "        vertical-align: middle;\n",
       "    }\n",
       "\n",
       "    .dataframe tbody tr th {\n",
       "        vertical-align: top;\n",
       "    }\n",
       "\n",
       "    .dataframe thead th {\n",
       "        text-align: right;\n",
       "    }\n",
       "</style>\n",
       "<table border=\"1\" class=\"dataframe\">\n",
       "  <thead>\n",
       "    <tr style=\"text-align: right;\">\n",
       "      <th></th>\n",
       "      <th>SiteID</th>\n",
       "      <th>Capacity</th>\n",
       "      <th>Point</th>\n",
       "      <th>Latitude</th>\n",
       "      <th>Longitude</th>\n",
       "      <th>BusNum</th>\n",
       "      <th>GenUID</th>\n",
       "    </tr>\n",
       "  </thead>\n",
       "  <tbody>\n",
       "    <tr>\n",
       "      <th>0</th>\n",
       "      <td>31949</td>\n",
       "      <td>14.0</td>\n",
       "      <td>POINT (-118.206573 34.70163)</td>\n",
       "      <td>34.701630</td>\n",
       "      <td>-118.206573</td>\n",
       "      <td>309</td>\n",
       "      <td>309_WIND_1</td>\n",
       "    </tr>\n",
       "    <tr>\n",
       "      <th>1</th>\n",
       "      <td>31815</td>\n",
       "      <td>6.0</td>\n",
       "      <td>POINT (-118.200485 34.684017)</td>\n",
       "      <td>34.684017</td>\n",
       "      <td>-118.200485</td>\n",
       "      <td>309</td>\n",
       "      <td>309_WIND_1</td>\n",
       "    </tr>\n",
       "    <tr>\n",
       "      <th>2</th>\n",
       "      <td>31569</td>\n",
       "      <td>2.0</td>\n",
       "      <td>POINT (-118.166901 34.653812)</td>\n",
       "      <td>34.653812</td>\n",
       "      <td>-118.166901</td>\n",
       "      <td>309</td>\n",
       "      <td>309_WIND_1</td>\n",
       "    </tr>\n",
       "    <tr>\n",
       "      <th>3</th>\n",
       "      <td>31441</td>\n",
       "      <td>12.0</td>\n",
       "      <td>POINT (-118.13942 34.641205)</td>\n",
       "      <td>34.641205</td>\n",
       "      <td>-118.139420</td>\n",
       "      <td>309</td>\n",
       "      <td>309_WIND_1</td>\n",
       "    </tr>\n",
       "    <tr>\n",
       "      <th>4</th>\n",
       "      <td>31697</td>\n",
       "      <td>2.0</td>\n",
       "      <td>POINT (-118.194397 34.666412)</td>\n",
       "      <td>34.666412</td>\n",
       "      <td>-118.194397</td>\n",
       "      <td>309</td>\n",
       "      <td>309_WIND_1</td>\n",
       "    </tr>\n",
       "  </tbody>\n",
       "</table>\n",
       "</div>"
      ],
      "text/plain": [
       "   SiteID  Capacity                          Point   Latitude   Longitude  \\\n",
       "0   31949      14.0   POINT (-118.206573 34.70163)  34.701630 -118.206573   \n",
       "1   31815       6.0  POINT (-118.200485 34.684017)  34.684017 -118.200485   \n",
       "2   31569       2.0  POINT (-118.166901 34.653812)  34.653812 -118.166901   \n",
       "3   31441      12.0   POINT (-118.13942 34.641205)  34.641205 -118.139420   \n",
       "4   31697       2.0  POINT (-118.194397 34.666412)  34.666412 -118.194397   \n",
       "\n",
       "   BusNum      GenUID  \n",
       "0     309  309_WIND_1  \n",
       "1     309  309_WIND_1  \n",
       "2     309  309_WIND_1  \n",
       "3     309  309_WIND_1  \n",
       "4     309  309_WIND_1  "
      ]
     },
     "execution_count": 11,
     "metadata": {},
     "output_type": "execute_result"
    },
    {
     "data": {
      "application/javascript": [
       "\n",
       "            setTimeout(function() {\n",
       "                var nbb_cell_id = 11;\n",
       "                var nbb_unformatted_code = \"# retrieve wind sites matching current wind penetration\\n# currently, uses AWS (later will implement \\\"source\\\" option to choose from AWS or local data )\\n# uses pywtk_api\\n\\n# retrieve wind sites (wind_sites are initially set to empty df )\\ngrid\\ngrid.retrieve_wind_sites()\\ngrid\\ngrid.wind_sites.head()\";\n",
       "                var nbb_formatted_code = \"# retrieve wind sites matching current wind penetration\\n# currently, uses AWS (later will implement \\\"source\\\" option to choose from AWS or local data )\\n# uses pywtk_api\\n\\n# retrieve wind sites (wind_sites are initially set to empty df )\\ngrid\\ngrid.retrieve_wind_sites()\\ngrid\\ngrid.wind_sites.head()\";\n",
       "                var nbb_cells = Jupyter.notebook.get_cells();\n",
       "                for (var i = 0; i < nbb_cells.length; ++i) {\n",
       "                    if (nbb_cells[i].input_prompt_number == nbb_cell_id) {\n",
       "                        if (nbb_cells[i].get_text() == nbb_unformatted_code) {\n",
       "                             nbb_cells[i].set_text(nbb_formatted_code);\n",
       "                        }\n",
       "                        break;\n",
       "                    }\n",
       "                }\n",
       "            }, 500);\n",
       "            "
      ],
      "text/plain": [
       "<IPython.core.display.Javascript object>"
      ]
     },
     "metadata": {},
     "output_type": "display_data"
    }
   ],
   "source": [
    "# retrieve wind sites matching current wind penetration\n",
    "# currently, uses AWS (later will implement \"source\" option to choose from AWS or local data )\n",
    "# uses pywtk_api\n",
    "\n",
    "# retrieve wind sites (wind_sites are initially set to empty df )\n",
    "grid\n",
    "grid.retrieve_wind_sites()\n",
    "grid\n",
    "grid.wind_sites.head()"
   ]
  },
  {
   "cell_type": "markdown",
   "metadata": {},
   "source": [
    "## make sampling tables "
   ]
  },
  {
   "cell_type": "code",
   "execution_count": 12,
   "metadata": {},
   "outputs": [
    {
     "name": "stdout",
     "output_type": "stream",
     "text": [
      "Retrieving WTK data ...\n",
      "Done\n",
      "Retrieving WTK data ...\n",
      "Done\n"
     ]
    },
    {
     "data": {
      "application/javascript": [
       "\n",
       "            setTimeout(function() {\n",
       "                var nbb_cell_id = 12;\n",
       "                var nbb_unformatted_code = \"grid.make_tables(\\n    actuals_start=pd.Timestamp(\\\"2007-01-01 00:00:00\\\", tz=\\\"utc\\\"),\\n    actuals_end=pd.Timestamp(\\\"2007-12-31 23:55:00\\\", tz=\\\"utc\\\"),\\n    scenarios_start=pd.Timestamp(\\\"2008-01-01 00:00:00\\\", tz=\\\"utc\\\"),\\n    scenarios_end=pd.Timestamp(\\\"2013-12-31 23:55:00\\\", tz=\\\"utc\\\"),\\n    source=\\\"AWS\\\",\\n)\";\n",
       "                var nbb_formatted_code = \"grid.make_tables(\\n    actuals_start=pd.Timestamp(\\\"2007-01-01 00:00:00\\\", tz=\\\"utc\\\"),\\n    actuals_end=pd.Timestamp(\\\"2007-12-31 23:55:00\\\", tz=\\\"utc\\\"),\\n    scenarios_start=pd.Timestamp(\\\"2008-01-01 00:00:00\\\", tz=\\\"utc\\\"),\\n    scenarios_end=pd.Timestamp(\\\"2013-12-31 23:55:00\\\", tz=\\\"utc\\\"),\\n    source=\\\"AWS\\\",\\n)\";\n",
       "                var nbb_cells = Jupyter.notebook.get_cells();\n",
       "                for (var i = 0; i < nbb_cells.length; ++i) {\n",
       "                    if (nbb_cells[i].input_prompt_number == nbb_cell_id) {\n",
       "                        if (nbb_cells[i].get_text() == nbb_unformatted_code) {\n",
       "                             nbb_cells[i].set_text(nbb_formatted_code);\n",
       "                        }\n",
       "                        break;\n",
       "                    }\n",
       "                }\n",
       "            }, 500);\n",
       "            "
      ],
      "text/plain": [
       "<IPython.core.display.Javascript object>"
      ]
     },
     "metadata": {},
     "output_type": "display_data"
    }
   ],
   "source": [
    "grid.make_tables(\n",
    "    actuals_start=pd.Timestamp(\"2007-01-01 00:00:00\", tz=\"utc\"),\n",
    "    actuals_end=pd.Timestamp(\"2007-12-31 23:55:00\", tz=\"utc\"),\n",
    "    scenarios_start=pd.Timestamp(\"2008-01-01 00:00:00\", tz=\"utc\"),\n",
    "    scenarios_end=pd.Timestamp(\"2013-12-31 23:55:00\", tz=\"utc\"),\n",
    "    source=\"AWS\",\n",
    ")"
   ]
  },
  {
   "cell_type": "markdown",
   "metadata": {},
   "source": [
    "\n",
    "## change actuals year as needed (optional)"
   ]
  },
  {
   "cell_type": "code",
   "execution_count": 13,
   "metadata": {},
   "outputs": [
    {
     "name": "stdout",
     "output_type": "stream",
     "text": [
      "\n",
      "actuals_df:\n"
     ]
    },
    {
     "data": {
      "text/html": [
       "<div>\n",
       "<style scoped>\n",
       "    .dataframe tbody tr th:only-of-type {\n",
       "        vertical-align: middle;\n",
       "    }\n",
       "\n",
       "    .dataframe tbody tr th {\n",
       "        vertical-align: top;\n",
       "    }\n",
       "\n",
       "    .dataframe thead th {\n",
       "        text-align: right;\n",
       "    }\n",
       "</style>\n",
       "<table border=\"1\" class=\"dataframe\">\n",
       "  <thead>\n",
       "    <tr style=\"text-align: right;\">\n",
       "      <th></th>\n",
       "      <th>309_WIND_1</th>\n",
       "      <th>317_WIND_1</th>\n",
       "      <th>303_WIND_1</th>\n",
       "      <th>122_WIND_1</th>\n",
       "      <th>TotalPower</th>\n",
       "    </tr>\n",
       "    <tr>\n",
       "      <th>IssueTime</th>\n",
       "      <th></th>\n",
       "      <th></th>\n",
       "      <th></th>\n",
       "      <th></th>\n",
       "      <th></th>\n",
       "    </tr>\n",
       "  </thead>\n",
       "  <tbody>\n",
       "    <tr>\n",
       "      <th>2020-01-01 00:00:00+00:00</th>\n",
       "      <td>75.393321</td>\n",
       "      <td>12.449511</td>\n",
       "      <td>481.386335</td>\n",
       "      <td>69.770140</td>\n",
       "      <td>638.999306</td>\n",
       "    </tr>\n",
       "    <tr>\n",
       "      <th>2020-01-01 00:05:00+00:00</th>\n",
       "      <td>79.659054</td>\n",
       "      <td>13.253890</td>\n",
       "      <td>508.631307</td>\n",
       "      <td>71.973278</td>\n",
       "      <td>673.517529</td>\n",
       "    </tr>\n",
       "    <tr>\n",
       "      <th>2020-01-01 00:10:00+00:00</th>\n",
       "      <td>84.135782</td>\n",
       "      <td>14.088491</td>\n",
       "      <td>535.860905</td>\n",
       "      <td>72.505789</td>\n",
       "      <td>706.590968</td>\n",
       "    </tr>\n",
       "    <tr>\n",
       "      <th>2020-01-01 00:15:00+00:00</th>\n",
       "      <td>87.246012</td>\n",
       "      <td>14.695144</td>\n",
       "      <td>561.320087</td>\n",
       "      <td>72.192094</td>\n",
       "      <td>735.453337</td>\n",
       "    </tr>\n",
       "    <tr>\n",
       "      <th>2020-01-01 00:20:00+00:00</th>\n",
       "      <td>90.386766</td>\n",
       "      <td>15.380123</td>\n",
       "      <td>586.194797</td>\n",
       "      <td>73.239203</td>\n",
       "      <td>765.200888</td>\n",
       "    </tr>\n",
       "  </tbody>\n",
       "</table>\n",
       "</div>"
      ],
      "text/plain": [
       "                           309_WIND_1  317_WIND_1  303_WIND_1  122_WIND_1  \\\n",
       "IssueTime                                                                   \n",
       "2020-01-01 00:00:00+00:00   75.393321   12.449511  481.386335   69.770140   \n",
       "2020-01-01 00:05:00+00:00   79.659054   13.253890  508.631307   71.973278   \n",
       "2020-01-01 00:10:00+00:00   84.135782   14.088491  535.860905   72.505789   \n",
       "2020-01-01 00:15:00+00:00   87.246012   14.695144  561.320087   72.192094   \n",
       "2020-01-01 00:20:00+00:00   90.386766   15.380123  586.194797   73.239203   \n",
       "\n",
       "                           TotalPower  \n",
       "IssueTime                              \n",
       "2020-01-01 00:00:00+00:00  638.999306  \n",
       "2020-01-01 00:05:00+00:00  673.517529  \n",
       "2020-01-01 00:10:00+00:00  706.590968  \n",
       "2020-01-01 00:15:00+00:00  735.453337  \n",
       "2020-01-01 00:20:00+00:00  765.200888  "
      ]
     },
     "execution_count": 13,
     "metadata": {},
     "output_type": "execute_result"
    },
    {
     "name": "stdout",
     "output_type": "stream",
     "text": [
      "\n",
      "scenarios_df:\n"
     ]
    },
    {
     "data": {
      "text/html": [
       "<div>\n",
       "<style scoped>\n",
       "    .dataframe tbody tr th:only-of-type {\n",
       "        vertical-align: middle;\n",
       "    }\n",
       "\n",
       "    .dataframe tbody tr th {\n",
       "        vertical-align: top;\n",
       "    }\n",
       "\n",
       "    .dataframe thead th {\n",
       "        text-align: right;\n",
       "    }\n",
       "</style>\n",
       "<table border=\"1\" class=\"dataframe\">\n",
       "  <thead>\n",
       "    <tr style=\"text-align: right;\">\n",
       "      <th></th>\n",
       "      <th>309_WIND_1</th>\n",
       "      <th>317_WIND_1</th>\n",
       "      <th>303_WIND_1</th>\n",
       "      <th>122_WIND_1</th>\n",
       "      <th>TotalPower</th>\n",
       "      <th>Deviation</th>\n",
       "    </tr>\n",
       "    <tr>\n",
       "      <th>IssueTime</th>\n",
       "      <th></th>\n",
       "      <th></th>\n",
       "      <th></th>\n",
       "      <th></th>\n",
       "      <th></th>\n",
       "      <th></th>\n",
       "    </tr>\n",
       "  </thead>\n",
       "  <tbody>\n",
       "    <tr>\n",
       "      <th>2008-01-01 00:00:00+00:00</th>\n",
       "      <td>3.818304</td>\n",
       "      <td>0.743949</td>\n",
       "      <td>5.000056</td>\n",
       "      <td>1.463597</td>\n",
       "      <td>1297.528814</td>\n",
       "      <td>11.025905</td>\n",
       "    </tr>\n",
       "    <tr>\n",
       "      <th>2008-01-01 00:05:00+00:00</th>\n",
       "      <td>2.356935</td>\n",
       "      <td>-2.200020</td>\n",
       "      <td>5.036051</td>\n",
       "      <td>0.726162</td>\n",
       "      <td>1308.554720</td>\n",
       "      <td>5.919128</td>\n",
       "    </tr>\n",
       "    <tr>\n",
       "      <th>2008-01-01 00:10:00+00:00</th>\n",
       "      <td>1.399166</td>\n",
       "      <td>-3.658002</td>\n",
       "      <td>3.855881</td>\n",
       "      <td>0.031029</td>\n",
       "      <td>1314.473848</td>\n",
       "      <td>1.628074</td>\n",
       "    </tr>\n",
       "    <tr>\n",
       "      <th>2008-01-01 00:15:00+00:00</th>\n",
       "      <td>1.799403</td>\n",
       "      <td>-1.853164</td>\n",
       "      <td>5.124980</td>\n",
       "      <td>-0.353885</td>\n",
       "      <td>1316.101922</td>\n",
       "      <td>4.717334</td>\n",
       "    </tr>\n",
       "    <tr>\n",
       "      <th>2008-01-01 00:20:00+00:00</th>\n",
       "      <td>0.944292</td>\n",
       "      <td>-3.123615</td>\n",
       "      <td>5.984917</td>\n",
       "      <td>-1.165629</td>\n",
       "      <td>1320.819256</td>\n",
       "      <td>2.639965</td>\n",
       "    </tr>\n",
       "  </tbody>\n",
       "</table>\n",
       "</div>"
      ],
      "text/plain": [
       "                           309_WIND_1  317_WIND_1  303_WIND_1  122_WIND_1  \\\n",
       "IssueTime                                                                   \n",
       "2008-01-01 00:00:00+00:00    3.818304    0.743949    5.000056    1.463597   \n",
       "2008-01-01 00:05:00+00:00    2.356935   -2.200020    5.036051    0.726162   \n",
       "2008-01-01 00:10:00+00:00    1.399166   -3.658002    3.855881    0.031029   \n",
       "2008-01-01 00:15:00+00:00    1.799403   -1.853164    5.124980   -0.353885   \n",
       "2008-01-01 00:20:00+00:00    0.944292   -3.123615    5.984917   -1.165629   \n",
       "\n",
       "                            TotalPower  Deviation  \n",
       "IssueTime                                          \n",
       "2008-01-01 00:00:00+00:00  1297.528814  11.025905  \n",
       "2008-01-01 00:05:00+00:00  1308.554720   5.919128  \n",
       "2008-01-01 00:10:00+00:00  1314.473848   1.628074  \n",
       "2008-01-01 00:15:00+00:00  1316.101922   4.717334  \n",
       "2008-01-01 00:20:00+00:00  1320.819256   2.639965  "
      ]
     },
     "execution_count": 13,
     "metadata": {},
     "output_type": "execute_result"
    },
    {
     "data": {
      "application/javascript": [
       "\n",
       "            setTimeout(function() {\n",
       "                var nbb_cell_id = 13;\n",
       "                var nbb_unformatted_code = \"# for actuals, make year you want\\ngrid.actuals.index = grid.actuals.index.map(lambda t: t.replace(year=2020))\\n# see what you got\\nprint(\\\"\\\\nactuals_df:\\\")\\ngrid.actuals.head()\\nprint(\\\"\\\\nscenarios_df:\\\")\\ngrid.scenarios.head()\";\n",
       "                var nbb_formatted_code = \"# for actuals, make year you want\\ngrid.actuals.index = grid.actuals.index.map(lambda t: t.replace(year=2020))\\n# see what you got\\nprint(\\\"\\\\nactuals_df:\\\")\\ngrid.actuals.head()\\nprint(\\\"\\\\nscenarios_df:\\\")\\ngrid.scenarios.head()\";\n",
       "                var nbb_cells = Jupyter.notebook.get_cells();\n",
       "                for (var i = 0; i < nbb_cells.length; ++i) {\n",
       "                    if (nbb_cells[i].input_prompt_number == nbb_cell_id) {\n",
       "                        if (nbb_cells[i].get_text() == nbb_unformatted_code) {\n",
       "                             nbb_cells[i].set_text(nbb_formatted_code);\n",
       "                        }\n",
       "                        break;\n",
       "                    }\n",
       "                }\n",
       "            }, 500);\n",
       "            "
      ],
      "text/plain": [
       "<IPython.core.display.Javascript object>"
      ]
     },
     "metadata": {},
     "output_type": "display_data"
    }
   ],
   "source": [
    "# for actuals, make year you want\n",
    "grid.actuals.index = grid.actuals.index.map(lambda t: t.replace(year=2020))\n",
    "# see what you got\n",
    "print(\"\\nactuals_df:\")\n",
    "grid.actuals.head()\n",
    "print(\"\\nscenarios_df:\")\n",
    "grid.scenarios.head()"
   ]
  },
  {
   "cell_type": "markdown",
   "metadata": {},
   "source": [
    "## generate_wind_scenarios"
   ]
  },
  {
   "cell_type": "code",
   "execution_count": 14,
   "metadata": {},
   "outputs": [
    {
     "name": "stdout",
     "output_type": "stream",
     "text": [
      "sim_timestamp = 2020-01-01 00:15:00+00:00\n",
      "random_seed = 1247654735\n"
     ]
    },
    {
     "data": {
      "text/html": [
       "<div>\n",
       "<style scoped>\n",
       "    .dataframe tbody tr th:only-of-type {\n",
       "        vertical-align: middle;\n",
       "    }\n",
       "\n",
       "    .dataframe tbody tr th {\n",
       "        vertical-align: top;\n",
       "    }\n",
       "\n",
       "    .dataframe thead th {\n",
       "        text-align: right;\n",
       "    }\n",
       "</style>\n",
       "<table border=\"1\" class=\"dataframe\">\n",
       "  <thead>\n",
       "    <tr style=\"text-align: right;\">\n",
       "      <th></th>\n",
       "      <th></th>\n",
       "      <th></th>\n",
       "      <th>309_WIND_1</th>\n",
       "      <th>317_WIND_1</th>\n",
       "      <th>303_WIND_1</th>\n",
       "      <th>122_WIND_1</th>\n",
       "    </tr>\n",
       "    <tr>\n",
       "      <th>sim_timestamp</th>\n",
       "      <th>scenario_nr</th>\n",
       "      <th>period_timestamp</th>\n",
       "      <th></th>\n",
       "      <th></th>\n",
       "      <th></th>\n",
       "      <th></th>\n",
       "    </tr>\n",
       "  </thead>\n",
       "  <tbody>\n",
       "    <tr>\n",
       "      <th rowspan=\"11\" valign=\"top\">2020-01-01 00:15:00+00:00</th>\n",
       "      <th rowspan=\"5\" valign=\"top\">1</th>\n",
       "      <th>2020-01-01 00:15:00+00:00</th>\n",
       "      <td>84.1358</td>\n",
       "      <td>5.4658</td>\n",
       "      <td>534.724</td>\n",
       "      <td>72.4896</td>\n",
       "    </tr>\n",
       "    <tr>\n",
       "      <th>2020-01-01 00:20:00+00:00</th>\n",
       "      <td>84.1358</td>\n",
       "      <td>2.57162</td>\n",
       "      <td>534.071</td>\n",
       "      <td>72.6414</td>\n",
       "    </tr>\n",
       "    <tr>\n",
       "      <th>2020-01-01 00:25:00+00:00</th>\n",
       "      <td>84.1358</td>\n",
       "      <td>4.16747</td>\n",
       "      <td>533.467</td>\n",
       "      <td>73.3105</td>\n",
       "    </tr>\n",
       "    <tr>\n",
       "      <th>2020-01-01 00:30:00+00:00</th>\n",
       "      <td>84.1358</td>\n",
       "      <td>9.44331</td>\n",
       "      <td>534.437</td>\n",
       "      <td>73.8173</td>\n",
       "    </tr>\n",
       "    <tr>\n",
       "      <th>2020-01-01 00:35:00+00:00</th>\n",
       "      <td>84.1358</td>\n",
       "      <td>12.6631</td>\n",
       "      <td>534.842</td>\n",
       "      <td>74.8239</td>\n",
       "    </tr>\n",
       "    <tr>\n",
       "      <th>...</th>\n",
       "      <th>...</th>\n",
       "      <td>...</td>\n",
       "      <td>...</td>\n",
       "      <td>...</td>\n",
       "      <td>...</td>\n",
       "    </tr>\n",
       "    <tr>\n",
       "      <th rowspan=\"5\" valign=\"top\">10</th>\n",
       "      <th>2020-01-01 00:20:00+00:00</th>\n",
       "      <td>83.5946</td>\n",
       "      <td>9.09568</td>\n",
       "      <td>523.445</td>\n",
       "      <td>58.7623</td>\n",
       "    </tr>\n",
       "    <tr>\n",
       "      <th>2020-01-01 00:25:00+00:00</th>\n",
       "      <td>83.9068</td>\n",
       "      <td>1.24924</td>\n",
       "      <td>514.991</td>\n",
       "      <td>52.9899</td>\n",
       "    </tr>\n",
       "    <tr>\n",
       "      <th>2020-01-01 00:30:00+00:00</th>\n",
       "      <td>84.2695</td>\n",
       "      <td>0</td>\n",
       "      <td>505.869</td>\n",
       "      <td>47.8622</td>\n",
       "    </tr>\n",
       "    <tr>\n",
       "      <th>2020-01-01 00:35:00+00:00</th>\n",
       "      <td>84.7458</td>\n",
       "      <td>0</td>\n",
       "      <td>497.552</td>\n",
       "      <td>42.7255</td>\n",
       "    </tr>\n",
       "    <tr>\n",
       "      <th>2020-01-01 00:40:00+00:00</th>\n",
       "      <td>85.0528</td>\n",
       "      <td>0</td>\n",
       "      <td>491.703</td>\n",
       "      <td>39.1261</td>\n",
       "    </tr>\n",
       "  </tbody>\n",
       "</table>\n",
       "<p>60 rows × 4 columns</p>\n",
       "</div>"
      ],
      "text/plain": [
       "                                                                309_WIND_1  \\\n",
       "sim_timestamp             scenario_nr period_timestamp                       \n",
       "2020-01-01 00:15:00+00:00 1           2020-01-01 00:15:00+00:00    84.1358   \n",
       "                                      2020-01-01 00:20:00+00:00    84.1358   \n",
       "                                      2020-01-01 00:25:00+00:00    84.1358   \n",
       "                                      2020-01-01 00:30:00+00:00    84.1358   \n",
       "                                      2020-01-01 00:35:00+00:00    84.1358   \n",
       "...                                                                    ...   \n",
       "                          10          2020-01-01 00:20:00+00:00    83.5946   \n",
       "                                      2020-01-01 00:25:00+00:00    83.9068   \n",
       "                                      2020-01-01 00:30:00+00:00    84.2695   \n",
       "                                      2020-01-01 00:35:00+00:00    84.7458   \n",
       "                                      2020-01-01 00:40:00+00:00    85.0528   \n",
       "\n",
       "                                                                317_WIND_1  \\\n",
       "sim_timestamp             scenario_nr period_timestamp                       \n",
       "2020-01-01 00:15:00+00:00 1           2020-01-01 00:15:00+00:00     5.4658   \n",
       "                                      2020-01-01 00:20:00+00:00    2.57162   \n",
       "                                      2020-01-01 00:25:00+00:00    4.16747   \n",
       "                                      2020-01-01 00:30:00+00:00    9.44331   \n",
       "                                      2020-01-01 00:35:00+00:00    12.6631   \n",
       "...                                                                    ...   \n",
       "                          10          2020-01-01 00:20:00+00:00    9.09568   \n",
       "                                      2020-01-01 00:25:00+00:00    1.24924   \n",
       "                                      2020-01-01 00:30:00+00:00          0   \n",
       "                                      2020-01-01 00:35:00+00:00          0   \n",
       "                                      2020-01-01 00:40:00+00:00          0   \n",
       "\n",
       "                                                                303_WIND_1  \\\n",
       "sim_timestamp             scenario_nr period_timestamp                       \n",
       "2020-01-01 00:15:00+00:00 1           2020-01-01 00:15:00+00:00    534.724   \n",
       "                                      2020-01-01 00:20:00+00:00    534.071   \n",
       "                                      2020-01-01 00:25:00+00:00    533.467   \n",
       "                                      2020-01-01 00:30:00+00:00    534.437   \n",
       "                                      2020-01-01 00:35:00+00:00    534.842   \n",
       "...                                                                    ...   \n",
       "                          10          2020-01-01 00:20:00+00:00    523.445   \n",
       "                                      2020-01-01 00:25:00+00:00    514.991   \n",
       "                                      2020-01-01 00:30:00+00:00    505.869   \n",
       "                                      2020-01-01 00:35:00+00:00    497.552   \n",
       "                                      2020-01-01 00:40:00+00:00    491.703   \n",
       "\n",
       "                                                                122_WIND_1  \n",
       "sim_timestamp             scenario_nr period_timestamp                      \n",
       "2020-01-01 00:15:00+00:00 1           2020-01-01 00:15:00+00:00    72.4896  \n",
       "                                      2020-01-01 00:20:00+00:00    72.6414  \n",
       "                                      2020-01-01 00:25:00+00:00    73.3105  \n",
       "                                      2020-01-01 00:30:00+00:00    73.8173  \n",
       "                                      2020-01-01 00:35:00+00:00    74.8239  \n",
       "...                                                                    ...  \n",
       "                          10          2020-01-01 00:20:00+00:00    58.7623  \n",
       "                                      2020-01-01 00:25:00+00:00    52.9899  \n",
       "                                      2020-01-01 00:30:00+00:00    47.8622  \n",
       "                                      2020-01-01 00:35:00+00:00    42.7255  \n",
       "                                      2020-01-01 00:40:00+00:00    39.1261  \n",
       "\n",
       "[60 rows x 4 columns]"
      ]
     },
     "execution_count": 14,
     "metadata": {},
     "output_type": "execute_result"
    },
    {
     "data": {
      "application/javascript": [
       "\n",
       "            setTimeout(function() {\n",
       "                var nbb_cell_id = 14;\n",
       "                var nbb_unformatted_code = \"# time period for which to generate scenarios\\n\\n# just one timestamp\\nsim_timestamps = [pd.Timestamp(\\\"2020-01-01 00:15:00+0000\\\", tz=\\\"UTC\\\")] \\n\\n\\n\\n# # one week\\n# sim_timestamps = pd.date_range(\\n#     start=pd.Timestamp(\\\"2020-07-01 00:00:00+0000\\\", tz=\\\"UTC\\\"), end=pd.Timestamp(\\\"2020-07-07 12:00:00+0000\\\", tz=\\\"UTC\\\"), freq=\\\"5min\\\"\\n# )\\n\\n\\n# other parameters\\n#sampling_method=\\\"monte carlo\\\"\\nsampling_method=\\\"importance\\\"\\nn_scenarios = 10\\nn_periods = 6\\n\\n\\n\\ngenerated_scenarios_df = pd.DataFrame()\\nfor sim_timestamp in sim_timestamps:\\n    print(\\\"sim_timestamp = {}\\\".format(sim_timestamp))\\n    random_seed = np.random.randint(2 ** 31 - 1)\\n    #random_seed = 594081473\\n    print(\\\"random_seed = {}\\\".format(random_seed))\\n    df = grid.generate_wind_scenarios(\\n        sim_timestamp,\\n        power_quantiles=[0.0, 0.1, 0.9, 1.0],\\n        sampling_method=sampling_method,\\n        n_scenarios=n_scenarios,\\n        n_periods=n_periods,\\n        # random_seed=6,\\n        random_seed=random_seed,\\n        output_format=0,\\n    )\\n    generated_scenarios_df=pd.concat([generated_scenarios_df,df])\\n\\ngenerated_scenarios_df\";\n",
       "                var nbb_formatted_code = \"# time period for which to generate scenarios\\n\\n# just one timestamp\\nsim_timestamps = [pd.Timestamp(\\\"2020-01-01 00:15:00+0000\\\", tz=\\\"UTC\\\")]\\n\\n\\n# # one week\\n# sim_timestamps = pd.date_range(\\n#     start=pd.Timestamp(\\\"2020-07-01 00:00:00+0000\\\", tz=\\\"UTC\\\"), end=pd.Timestamp(\\\"2020-07-07 12:00:00+0000\\\", tz=\\\"UTC\\\"), freq=\\\"5min\\\"\\n# )\\n\\n\\n# other parameters\\n# sampling_method=\\\"monte carlo\\\"\\nsampling_method = \\\"importance\\\"\\nn_scenarios = 10\\nn_periods = 6\\n\\n\\ngenerated_scenarios_df = pd.DataFrame()\\nfor sim_timestamp in sim_timestamps:\\n    print(\\\"sim_timestamp = {}\\\".format(sim_timestamp))\\n    random_seed = np.random.randint(2 ** 31 - 1)\\n    # random_seed = 594081473\\n    print(\\\"random_seed = {}\\\".format(random_seed))\\n    df = grid.generate_wind_scenarios(\\n        sim_timestamp,\\n        power_quantiles=[0.0, 0.1, 0.9, 1.0],\\n        sampling_method=sampling_method,\\n        n_scenarios=n_scenarios,\\n        n_periods=n_periods,\\n        # random_seed=6,\\n        random_seed=random_seed,\\n        output_format=0,\\n    )\\n    generated_scenarios_df = pd.concat([generated_scenarios_df, df])\\n\\ngenerated_scenarios_df\";\n",
       "                var nbb_cells = Jupyter.notebook.get_cells();\n",
       "                for (var i = 0; i < nbb_cells.length; ++i) {\n",
       "                    if (nbb_cells[i].input_prompt_number == nbb_cell_id) {\n",
       "                        if (nbb_cells[i].get_text() == nbb_unformatted_code) {\n",
       "                             nbb_cells[i].set_text(nbb_formatted_code);\n",
       "                        }\n",
       "                        break;\n",
       "                    }\n",
       "                }\n",
       "            }, 500);\n",
       "            "
      ],
      "text/plain": [
       "<IPython.core.display.Javascript object>"
      ]
     },
     "metadata": {},
     "output_type": "display_data"
    }
   ],
   "source": [
    "# time period for which to generate scenarios\n",
    "\n",
    "# just one timestamp\n",
    "sim_timestamps = [pd.Timestamp(\"2020-01-01 00:15:00+0000\", tz=\"UTC\")] \n",
    "\n",
    "\n",
    "\n",
    "# # one week\n",
    "# sim_timestamps = pd.date_range(\n",
    "#     start=pd.Timestamp(\"2020-07-01 00:00:00+0000\", tz=\"UTC\"), end=pd.Timestamp(\"2020-07-07 12:00:00+0000\", tz=\"UTC\"), freq=\"5min\"\n",
    "# )\n",
    "\n",
    "\n",
    "# other parameters\n",
    "#sampling_method=\"monte carlo\"\n",
    "sampling_method=\"importance\"\n",
    "n_scenarios = 10\n",
    "n_periods = 6\n",
    "\n",
    "\n",
    "\n",
    "generated_scenarios_df = pd.DataFrame()\n",
    "for sim_timestamp in sim_timestamps:\n",
    "    print(\"sim_timestamp = {}\".format(sim_timestamp))\n",
    "    random_seed = np.random.randint(2 ** 31 - 1)\n",
    "    #random_seed = 594081473\n",
    "    print(\"random_seed = {}\".format(random_seed))\n",
    "    df = grid.generate_wind_scenarios(\n",
    "        sim_timestamp,\n",
    "        power_quantiles=[0.0, 0.1, 0.9, 1.0],\n",
    "        sampling_method=sampling_method,\n",
    "        n_scenarios=n_scenarios,\n",
    "        n_periods=n_periods,\n",
    "        # random_seed=6,\n",
    "        random_seed=random_seed,\n",
    "        output_format=0,\n",
    "    )\n",
    "    generated_scenarios_df=pd.concat([generated_scenarios_df,df])\n",
    "\n",
    "generated_scenarios_df\n",
    "\n"
   ]
  },
  {
   "cell_type": "markdown",
   "metadata": {},
   "source": [
    "# plot "
   ]
  },
  {
   "cell_type": "code",
   "execution_count": 15,
   "metadata": {
    "scrolled": false
   },
   "outputs": [
    {
     "data": {
      "application/vnd.plotly.v1+json": {
       "config": {
        "linkText": "Export to plot.ly",
        "plotlyServerURL": "https://plot.ly",
        "showLink": true
       },
       "data": [
        {
         "line": {
          "color": "rgba(255, 153, 51, 1.0)",
          "dash": "solid",
          "shape": "linear",
          "width": 1.3
         },
         "mode": "lines",
         "name": "1",
         "text": "",
         "type": "scatter",
         "x": [
          "2020-01-01 00:10:00+00:00",
          "2020-01-01 00:15:00+00:00",
          "2020-01-01 00:20:00+00:00",
          "2020-01-01 00:25:00+00:00",
          "2020-01-01 00:30:00+00:00",
          "2020-01-01 00:35:00+00:00",
          "2020-01-01 00:40:00+00:00"
         ],
         "y": [
          706.5909676363226,
          696.8155977986753,
          693.4201124636456,
          695.0803058259189,
          701.8333853576332,
          706.4646573737264,
          709.1748625608161
         ]
        },
        {
         "line": {
          "color": "rgba(55, 128, 191, 1.0)",
          "dash": "solid",
          "shape": "linear",
          "width": 1.3
         },
         "mode": "lines",
         "name": "2",
         "text": "",
         "type": "scatter",
         "x": [
          "2020-01-01 00:10:00+00:00",
          "2020-01-01 00:15:00+00:00",
          "2020-01-01 00:20:00+00:00",
          "2020-01-01 00:25:00+00:00",
          "2020-01-01 00:30:00+00:00",
          "2020-01-01 00:35:00+00:00",
          "2020-01-01 00:40:00+00:00"
         ],
         "y": [
          706.5909676363226,
          694.217119748173,
          678.48818609304,
          661.6913138473101,
          649.7623748959086,
          642.580085945483,
          639.2076970405687
         ]
        },
        {
         "line": {
          "color": "rgba(50, 171, 96, 1.0)",
          "dash": "solid",
          "shape": "linear",
          "width": 1.3
         },
         "mode": "lines",
         "name": "3",
         "text": "",
         "type": "scatter",
         "x": [
          "2020-01-01 00:10:00+00:00",
          "2020-01-01 00:15:00+00:00",
          "2020-01-01 00:20:00+00:00",
          "2020-01-01 00:25:00+00:00",
          "2020-01-01 00:30:00+00:00",
          "2020-01-01 00:35:00+00:00",
          "2020-01-01 00:40:00+00:00"
         ],
         "y": [
          706.5909676363226,
          687.2933057090617,
          671.0333578994381,
          648.2838646339136,
          636.1758604373666,
          628.0988857157412,
          623.6349861799157
         ]
        },
        {
         "line": {
          "color": "rgba(128, 0, 128, 1.0)",
          "dash": "solid",
          "shape": "linear",
          "width": 1.3
         },
         "mode": "lines",
         "name": "4",
         "text": "",
         "type": "scatter",
         "x": [
          "2020-01-01 00:10:00+00:00",
          "2020-01-01 00:15:00+00:00",
          "2020-01-01 00:20:00+00:00",
          "2020-01-01 00:25:00+00:00",
          "2020-01-01 00:30:00+00:00",
          "2020-01-01 00:35:00+00:00",
          "2020-01-01 00:40:00+00:00"
         ],
         "y": [
          706.5909676363226,
          698.5293519409206,
          689.6206870898313,
          681.0490866163163,
          674.633089877083,
          668.6086542306002,
          662.9395390384016
         ]
        },
        {
         "line": {
          "color": "rgba(219, 64, 82, 1.0)",
          "dash": "solid",
          "shape": "linear",
          "width": 1.3
         },
         "mode": "lines",
         "name": "5",
         "text": "",
         "type": "scatter",
         "x": [
          "2020-01-01 00:10:00+00:00",
          "2020-01-01 00:15:00+00:00",
          "2020-01-01 00:20:00+00:00",
          "2020-01-01 00:25:00+00:00",
          "2020-01-01 00:30:00+00:00",
          "2020-01-01 00:35:00+00:00",
          "2020-01-01 00:40:00+00:00"
         ],
         "y": [
          706.5909676363226,
          685.3524774897378,
          670.5674090418033,
          659.2204611522611,
          650.2603426141432,
          641.6906410933007,
          635.5387796040159
         ]
        },
        {
         "line": {
          "color": "rgba(0, 128, 128, 1.0)",
          "dash": "solid",
          "shape": "linear",
          "width": 1.3
         },
         "mode": "lines",
         "name": "6",
         "text": "",
         "type": "scatter",
         "x": [
          "2020-01-01 00:10:00+00:00",
          "2020-01-01 00:15:00+00:00",
          "2020-01-01 00:20:00+00:00",
          "2020-01-01 00:25:00+00:00",
          "2020-01-01 00:30:00+00:00",
          "2020-01-01 00:35:00+00:00",
          "2020-01-01 00:40:00+00:00"
         ],
         "y": [
          706.5909676363226,
          716.6645970602985,
          725.8382957822178,
          731.4140955994371,
          717.7015145409387,
          713.3932331313845,
          704.8154172708746
         ]
        },
        {
         "line": {
          "color": "rgba(255, 255, 51, 1.0)",
          "dash": "solid",
          "shape": "linear",
          "width": 1.3
         },
         "mode": "lines",
         "name": "7",
         "text": "",
         "type": "scatter",
         "x": [
          "2020-01-01 00:10:00+00:00",
          "2020-01-01 00:15:00+00:00",
          "2020-01-01 00:20:00+00:00",
          "2020-01-01 00:25:00+00:00",
          "2020-01-01 00:30:00+00:00",
          "2020-01-01 00:35:00+00:00",
          "2020-01-01 00:40:00+00:00"
         ],
         "y": [
          706.5909676363226,
          691.9020654708147,
          673.6852627838962,
          660.9984910174971,
          647.636681149248,
          631.838193601463,
          608.478241821751
         ]
        },
        {
         "line": {
          "color": "rgba(128, 128, 0, 1.0)",
          "dash": "solid",
          "shape": "linear",
          "width": 1.3
         },
         "mode": "lines",
         "name": "8",
         "text": "",
         "type": "scatter",
         "x": [
          "2020-01-01 00:10:00+00:00",
          "2020-01-01 00:15:00+00:00",
          "2020-01-01 00:20:00+00:00",
          "2020-01-01 00:25:00+00:00",
          "2020-01-01 00:30:00+00:00",
          "2020-01-01 00:35:00+00:00",
          "2020-01-01 00:40:00+00:00"
         ],
         "y": [
          706.5909676363226,
          693.2859753458761,
          666.582527437713,
          635.7209525494836,
          620.1294160052203,
          607.1034878119826,
          604.6143738627434
         ]
        },
        {
         "line": {
          "color": "rgba(251, 128, 114, 1.0)",
          "dash": "solid",
          "shape": "linear",
          "width": 1.3
         },
         "mode": "lines",
         "name": "9",
         "text": "",
         "type": "scatter",
         "x": [
          "2020-01-01 00:10:00+00:00",
          "2020-01-01 00:15:00+00:00",
          "2020-01-01 00:20:00+00:00",
          "2020-01-01 00:25:00+00:00",
          "2020-01-01 00:30:00+00:00",
          "2020-01-01 00:35:00+00:00",
          "2020-01-01 00:40:00+00:00"
         ],
         "y": [
          706.5909676363226,
          695.8598661620636,
          673.5819072723389,
          651.641974741593,
          585.5310315066017,
          571.1096121785231,
          564.342736536637
         ]
        },
        {
         "line": {
          "color": "rgba(128, 177, 211, 1.0)",
          "dash": "solid",
          "shape": "linear",
          "width": 1.3
         },
         "mode": "lines",
         "name": "10",
         "text": "",
         "type": "scatter",
         "x": [
          "2020-01-01 00:10:00+00:00",
          "2020-01-01 00:15:00+00:00",
          "2020-01-01 00:20:00+00:00",
          "2020-01-01 00:25:00+00:00",
          "2020-01-01 00:30:00+00:00",
          "2020-01-01 00:35:00+00:00",
          "2020-01-01 00:40:00+00:00"
         ],
         "y": [
          706.5909676363226,
          692.7563818842755,
          674.8972910668817,
          653.1372875419329,
          638.0006800945266,
          625.0236400011345,
          615.881602427864
         ]
        }
       ],
       "layout": {
        "legend": {
         "bgcolor": "#F5F6F9",
         "font": {
          "color": "#4D5663"
         }
        },
        "paper_bgcolor": "#F5F6F9",
        "plot_bgcolor": "#F5F6F9",
        "template": {
         "data": {
          "bar": [
           {
            "error_x": {
             "color": "#2a3f5f"
            },
            "error_y": {
             "color": "#2a3f5f"
            },
            "marker": {
             "line": {
              "color": "#E5ECF6",
              "width": 0.5
             }
            },
            "type": "bar"
           }
          ],
          "barpolar": [
           {
            "marker": {
             "line": {
              "color": "#E5ECF6",
              "width": 0.5
             }
            },
            "type": "barpolar"
           }
          ],
          "carpet": [
           {
            "aaxis": {
             "endlinecolor": "#2a3f5f",
             "gridcolor": "white",
             "linecolor": "white",
             "minorgridcolor": "white",
             "startlinecolor": "#2a3f5f"
            },
            "baxis": {
             "endlinecolor": "#2a3f5f",
             "gridcolor": "white",
             "linecolor": "white",
             "minorgridcolor": "white",
             "startlinecolor": "#2a3f5f"
            },
            "type": "carpet"
           }
          ],
          "choropleth": [
           {
            "colorbar": {
             "outlinewidth": 0,
             "ticks": ""
            },
            "type": "choropleth"
           }
          ],
          "contour": [
           {
            "colorbar": {
             "outlinewidth": 0,
             "ticks": ""
            },
            "colorscale": [
             [
              0,
              "#0d0887"
             ],
             [
              0.1111111111111111,
              "#46039f"
             ],
             [
              0.2222222222222222,
              "#7201a8"
             ],
             [
              0.3333333333333333,
              "#9c179e"
             ],
             [
              0.4444444444444444,
              "#bd3786"
             ],
             [
              0.5555555555555556,
              "#d8576b"
             ],
             [
              0.6666666666666666,
              "#ed7953"
             ],
             [
              0.7777777777777778,
              "#fb9f3a"
             ],
             [
              0.8888888888888888,
              "#fdca26"
             ],
             [
              1,
              "#f0f921"
             ]
            ],
            "type": "contour"
           }
          ],
          "contourcarpet": [
           {
            "colorbar": {
             "outlinewidth": 0,
             "ticks": ""
            },
            "type": "contourcarpet"
           }
          ],
          "heatmap": [
           {
            "colorbar": {
             "outlinewidth": 0,
             "ticks": ""
            },
            "colorscale": [
             [
              0,
              "#0d0887"
             ],
             [
              0.1111111111111111,
              "#46039f"
             ],
             [
              0.2222222222222222,
              "#7201a8"
             ],
             [
              0.3333333333333333,
              "#9c179e"
             ],
             [
              0.4444444444444444,
              "#bd3786"
             ],
             [
              0.5555555555555556,
              "#d8576b"
             ],
             [
              0.6666666666666666,
              "#ed7953"
             ],
             [
              0.7777777777777778,
              "#fb9f3a"
             ],
             [
              0.8888888888888888,
              "#fdca26"
             ],
             [
              1,
              "#f0f921"
             ]
            ],
            "type": "heatmap"
           }
          ],
          "heatmapgl": [
           {
            "colorbar": {
             "outlinewidth": 0,
             "ticks": ""
            },
            "colorscale": [
             [
              0,
              "#0d0887"
             ],
             [
              0.1111111111111111,
              "#46039f"
             ],
             [
              0.2222222222222222,
              "#7201a8"
             ],
             [
              0.3333333333333333,
              "#9c179e"
             ],
             [
              0.4444444444444444,
              "#bd3786"
             ],
             [
              0.5555555555555556,
              "#d8576b"
             ],
             [
              0.6666666666666666,
              "#ed7953"
             ],
             [
              0.7777777777777778,
              "#fb9f3a"
             ],
             [
              0.8888888888888888,
              "#fdca26"
             ],
             [
              1,
              "#f0f921"
             ]
            ],
            "type": "heatmapgl"
           }
          ],
          "histogram": [
           {
            "marker": {
             "colorbar": {
              "outlinewidth": 0,
              "ticks": ""
             }
            },
            "type": "histogram"
           }
          ],
          "histogram2d": [
           {
            "colorbar": {
             "outlinewidth": 0,
             "ticks": ""
            },
            "colorscale": [
             [
              0,
              "#0d0887"
             ],
             [
              0.1111111111111111,
              "#46039f"
             ],
             [
              0.2222222222222222,
              "#7201a8"
             ],
             [
              0.3333333333333333,
              "#9c179e"
             ],
             [
              0.4444444444444444,
              "#bd3786"
             ],
             [
              0.5555555555555556,
              "#d8576b"
             ],
             [
              0.6666666666666666,
              "#ed7953"
             ],
             [
              0.7777777777777778,
              "#fb9f3a"
             ],
             [
              0.8888888888888888,
              "#fdca26"
             ],
             [
              1,
              "#f0f921"
             ]
            ],
            "type": "histogram2d"
           }
          ],
          "histogram2dcontour": [
           {
            "colorbar": {
             "outlinewidth": 0,
             "ticks": ""
            },
            "colorscale": [
             [
              0,
              "#0d0887"
             ],
             [
              0.1111111111111111,
              "#46039f"
             ],
             [
              0.2222222222222222,
              "#7201a8"
             ],
             [
              0.3333333333333333,
              "#9c179e"
             ],
             [
              0.4444444444444444,
              "#bd3786"
             ],
             [
              0.5555555555555556,
              "#d8576b"
             ],
             [
              0.6666666666666666,
              "#ed7953"
             ],
             [
              0.7777777777777778,
              "#fb9f3a"
             ],
             [
              0.8888888888888888,
              "#fdca26"
             ],
             [
              1,
              "#f0f921"
             ]
            ],
            "type": "histogram2dcontour"
           }
          ],
          "mesh3d": [
           {
            "colorbar": {
             "outlinewidth": 0,
             "ticks": ""
            },
            "type": "mesh3d"
           }
          ],
          "parcoords": [
           {
            "line": {
             "colorbar": {
              "outlinewidth": 0,
              "ticks": ""
             }
            },
            "type": "parcoords"
           }
          ],
          "pie": [
           {
            "automargin": true,
            "type": "pie"
           }
          ],
          "scatter": [
           {
            "marker": {
             "colorbar": {
              "outlinewidth": 0,
              "ticks": ""
             }
            },
            "type": "scatter"
           }
          ],
          "scatter3d": [
           {
            "line": {
             "colorbar": {
              "outlinewidth": 0,
              "ticks": ""
             }
            },
            "marker": {
             "colorbar": {
              "outlinewidth": 0,
              "ticks": ""
             }
            },
            "type": "scatter3d"
           }
          ],
          "scattercarpet": [
           {
            "marker": {
             "colorbar": {
              "outlinewidth": 0,
              "ticks": ""
             }
            },
            "type": "scattercarpet"
           }
          ],
          "scattergeo": [
           {
            "marker": {
             "colorbar": {
              "outlinewidth": 0,
              "ticks": ""
             }
            },
            "type": "scattergeo"
           }
          ],
          "scattergl": [
           {
            "marker": {
             "colorbar": {
              "outlinewidth": 0,
              "ticks": ""
             }
            },
            "type": "scattergl"
           }
          ],
          "scattermapbox": [
           {
            "marker": {
             "colorbar": {
              "outlinewidth": 0,
              "ticks": ""
             }
            },
            "type": "scattermapbox"
           }
          ],
          "scatterpolar": [
           {
            "marker": {
             "colorbar": {
              "outlinewidth": 0,
              "ticks": ""
             }
            },
            "type": "scatterpolar"
           }
          ],
          "scatterpolargl": [
           {
            "marker": {
             "colorbar": {
              "outlinewidth": 0,
              "ticks": ""
             }
            },
            "type": "scatterpolargl"
           }
          ],
          "scatterternary": [
           {
            "marker": {
             "colorbar": {
              "outlinewidth": 0,
              "ticks": ""
             }
            },
            "type": "scatterternary"
           }
          ],
          "surface": [
           {
            "colorbar": {
             "outlinewidth": 0,
             "ticks": ""
            },
            "colorscale": [
             [
              0,
              "#0d0887"
             ],
             [
              0.1111111111111111,
              "#46039f"
             ],
             [
              0.2222222222222222,
              "#7201a8"
             ],
             [
              0.3333333333333333,
              "#9c179e"
             ],
             [
              0.4444444444444444,
              "#bd3786"
             ],
             [
              0.5555555555555556,
              "#d8576b"
             ],
             [
              0.6666666666666666,
              "#ed7953"
             ],
             [
              0.7777777777777778,
              "#fb9f3a"
             ],
             [
              0.8888888888888888,
              "#fdca26"
             ],
             [
              1,
              "#f0f921"
             ]
            ],
            "type": "surface"
           }
          ],
          "table": [
           {
            "cells": {
             "fill": {
              "color": "#EBF0F8"
             },
             "line": {
              "color": "white"
             }
            },
            "header": {
             "fill": {
              "color": "#C8D4E3"
             },
             "line": {
              "color": "white"
             }
            },
            "type": "table"
           }
          ]
         },
         "layout": {
          "annotationdefaults": {
           "arrowcolor": "#2a3f5f",
           "arrowhead": 0,
           "arrowwidth": 1
          },
          "coloraxis": {
           "colorbar": {
            "outlinewidth": 0,
            "ticks": ""
           }
          },
          "colorscale": {
           "diverging": [
            [
             0,
             "#8e0152"
            ],
            [
             0.1,
             "#c51b7d"
            ],
            [
             0.2,
             "#de77ae"
            ],
            [
             0.3,
             "#f1b6da"
            ],
            [
             0.4,
             "#fde0ef"
            ],
            [
             0.5,
             "#f7f7f7"
            ],
            [
             0.6,
             "#e6f5d0"
            ],
            [
             0.7,
             "#b8e186"
            ],
            [
             0.8,
             "#7fbc41"
            ],
            [
             0.9,
             "#4d9221"
            ],
            [
             1,
             "#276419"
            ]
           ],
           "sequential": [
            [
             0,
             "#0d0887"
            ],
            [
             0.1111111111111111,
             "#46039f"
            ],
            [
             0.2222222222222222,
             "#7201a8"
            ],
            [
             0.3333333333333333,
             "#9c179e"
            ],
            [
             0.4444444444444444,
             "#bd3786"
            ],
            [
             0.5555555555555556,
             "#d8576b"
            ],
            [
             0.6666666666666666,
             "#ed7953"
            ],
            [
             0.7777777777777778,
             "#fb9f3a"
            ],
            [
             0.8888888888888888,
             "#fdca26"
            ],
            [
             1,
             "#f0f921"
            ]
           ],
           "sequentialminus": [
            [
             0,
             "#0d0887"
            ],
            [
             0.1111111111111111,
             "#46039f"
            ],
            [
             0.2222222222222222,
             "#7201a8"
            ],
            [
             0.3333333333333333,
             "#9c179e"
            ],
            [
             0.4444444444444444,
             "#bd3786"
            ],
            [
             0.5555555555555556,
             "#d8576b"
            ],
            [
             0.6666666666666666,
             "#ed7953"
            ],
            [
             0.7777777777777778,
             "#fb9f3a"
            ],
            [
             0.8888888888888888,
             "#fdca26"
            ],
            [
             1,
             "#f0f921"
            ]
           ]
          },
          "colorway": [
           "#636efa",
           "#EF553B",
           "#00cc96",
           "#ab63fa",
           "#FFA15A",
           "#19d3f3",
           "#FF6692",
           "#B6E880",
           "#FF97FF",
           "#FECB52"
          ],
          "font": {
           "color": "#2a3f5f"
          },
          "geo": {
           "bgcolor": "white",
           "lakecolor": "white",
           "landcolor": "#E5ECF6",
           "showlakes": true,
           "showland": true,
           "subunitcolor": "white"
          },
          "hoverlabel": {
           "align": "left"
          },
          "hovermode": "closest",
          "mapbox": {
           "style": "light"
          },
          "paper_bgcolor": "white",
          "plot_bgcolor": "#E5ECF6",
          "polar": {
           "angularaxis": {
            "gridcolor": "white",
            "linecolor": "white",
            "ticks": ""
           },
           "bgcolor": "#E5ECF6",
           "radialaxis": {
            "gridcolor": "white",
            "linecolor": "white",
            "ticks": ""
           }
          },
          "scene": {
           "xaxis": {
            "backgroundcolor": "#E5ECF6",
            "gridcolor": "white",
            "gridwidth": 2,
            "linecolor": "white",
            "showbackground": true,
            "ticks": "",
            "zerolinecolor": "white"
           },
           "yaxis": {
            "backgroundcolor": "#E5ECF6",
            "gridcolor": "white",
            "gridwidth": 2,
            "linecolor": "white",
            "showbackground": true,
            "ticks": "",
            "zerolinecolor": "white"
           },
           "zaxis": {
            "backgroundcolor": "#E5ECF6",
            "gridcolor": "white",
            "gridwidth": 2,
            "linecolor": "white",
            "showbackground": true,
            "ticks": "",
            "zerolinecolor": "white"
           }
          },
          "shapedefaults": {
           "line": {
            "color": "#2a3f5f"
           }
          },
          "ternary": {
           "aaxis": {
            "gridcolor": "white",
            "linecolor": "white",
            "ticks": ""
           },
           "baxis": {
            "gridcolor": "white",
            "linecolor": "white",
            "ticks": ""
           },
           "bgcolor": "#E5ECF6",
           "caxis": {
            "gridcolor": "white",
            "linecolor": "white",
            "ticks": ""
           }
          },
          "title": {
           "x": 0.05
          },
          "xaxis": {
           "automargin": true,
           "gridcolor": "white",
           "linecolor": "white",
           "ticks": "",
           "title": {
            "standoff": 15
           },
           "zerolinecolor": "white",
           "zerolinewidth": 2
          },
          "yaxis": {
           "automargin": true,
           "gridcolor": "white",
           "linecolor": "white",
           "ticks": "",
           "title": {
            "standoff": 15
           },
           "zerolinecolor": "white",
           "zerolinewidth": 2
          }
         }
        },
        "title": {
         "font": {
          "color": "#4D5663"
         }
        },
        "xaxis": {
         "gridcolor": "#E1E5ED",
         "showgrid": true,
         "tickfont": {
          "color": "#4D5663"
         },
         "title": {
          "font": {
           "color": "#4D5663"
          },
          "text": ""
         },
         "zerolinecolor": "#E1E5ED"
        },
        "yaxis": {
         "gridcolor": "#E1E5ED",
         "showgrid": true,
         "tickfont": {
          "color": "#4D5663"
         },
         "title": {
          "font": {
           "color": "#4D5663"
          },
          "text": ""
         },
         "zerolinecolor": "#E1E5ED"
        }
       }
      },
      "text/html": [
       "<div>\n",
       "        \n",
       "        \n",
       "            <div id=\"af4a2e08-c639-418f-a86a-649722733f22\" class=\"plotly-graph-div\" style=\"height:525px; width:100%;\"></div>\n",
       "            <script type=\"text/javascript\">\n",
       "                require([\"plotly\"], function(Plotly) {\n",
       "                    window.PLOTLYENV=window.PLOTLYENV || {};\n",
       "                    window.PLOTLYENV.BASE_URL='https://plot.ly';\n",
       "                    \n",
       "                if (document.getElementById(\"af4a2e08-c639-418f-a86a-649722733f22\")) {\n",
       "                    Plotly.newPlot(\n",
       "                        'af4a2e08-c639-418f-a86a-649722733f22',\n",
       "                        [{\"line\": {\"color\": \"rgba(255, 153, 51, 1.0)\", \"dash\": \"solid\", \"shape\": \"linear\", \"width\": 1.3}, \"mode\": \"lines\", \"name\": \"1\", \"text\": \"\", \"type\": \"scatter\", \"x\": [\"2020-01-01 00:10:00+00:00\", \"2020-01-01 00:15:00+00:00\", \"2020-01-01 00:20:00+00:00\", \"2020-01-01 00:25:00+00:00\", \"2020-01-01 00:30:00+00:00\", \"2020-01-01 00:35:00+00:00\", \"2020-01-01 00:40:00+00:00\"], \"y\": [706.5909676363226, 696.8155977986753, 693.4201124636456, 695.0803058259189, 701.8333853576332, 706.4646573737264, 709.1748625608161]}, {\"line\": {\"color\": \"rgba(55, 128, 191, 1.0)\", \"dash\": \"solid\", \"shape\": \"linear\", \"width\": 1.3}, \"mode\": \"lines\", \"name\": \"2\", \"text\": \"\", \"type\": \"scatter\", \"x\": [\"2020-01-01 00:10:00+00:00\", \"2020-01-01 00:15:00+00:00\", \"2020-01-01 00:20:00+00:00\", \"2020-01-01 00:25:00+00:00\", \"2020-01-01 00:30:00+00:00\", \"2020-01-01 00:35:00+00:00\", \"2020-01-01 00:40:00+00:00\"], \"y\": [706.5909676363226, 694.217119748173, 678.48818609304, 661.6913138473101, 649.7623748959086, 642.580085945483, 639.2076970405687]}, {\"line\": {\"color\": \"rgba(50, 171, 96, 1.0)\", \"dash\": \"solid\", \"shape\": \"linear\", \"width\": 1.3}, \"mode\": \"lines\", \"name\": \"3\", \"text\": \"\", \"type\": \"scatter\", \"x\": [\"2020-01-01 00:10:00+00:00\", \"2020-01-01 00:15:00+00:00\", \"2020-01-01 00:20:00+00:00\", \"2020-01-01 00:25:00+00:00\", \"2020-01-01 00:30:00+00:00\", \"2020-01-01 00:35:00+00:00\", \"2020-01-01 00:40:00+00:00\"], \"y\": [706.5909676363226, 687.2933057090617, 671.0333578994381, 648.2838646339136, 636.1758604373666, 628.0988857157412, 623.6349861799157]}, {\"line\": {\"color\": \"rgba(128, 0, 128, 1.0)\", \"dash\": \"solid\", \"shape\": \"linear\", \"width\": 1.3}, \"mode\": \"lines\", \"name\": \"4\", \"text\": \"\", \"type\": \"scatter\", \"x\": [\"2020-01-01 00:10:00+00:00\", \"2020-01-01 00:15:00+00:00\", \"2020-01-01 00:20:00+00:00\", \"2020-01-01 00:25:00+00:00\", \"2020-01-01 00:30:00+00:00\", \"2020-01-01 00:35:00+00:00\", \"2020-01-01 00:40:00+00:00\"], \"y\": [706.5909676363226, 698.5293519409206, 689.6206870898313, 681.0490866163163, 674.633089877083, 668.6086542306002, 662.9395390384016]}, {\"line\": {\"color\": \"rgba(219, 64, 82, 1.0)\", \"dash\": \"solid\", \"shape\": \"linear\", \"width\": 1.3}, \"mode\": \"lines\", \"name\": \"5\", \"text\": \"\", \"type\": \"scatter\", \"x\": [\"2020-01-01 00:10:00+00:00\", \"2020-01-01 00:15:00+00:00\", \"2020-01-01 00:20:00+00:00\", \"2020-01-01 00:25:00+00:00\", \"2020-01-01 00:30:00+00:00\", \"2020-01-01 00:35:00+00:00\", \"2020-01-01 00:40:00+00:00\"], \"y\": [706.5909676363226, 685.3524774897378, 670.5674090418033, 659.2204611522611, 650.2603426141432, 641.6906410933007, 635.5387796040159]}, {\"line\": {\"color\": \"rgba(0, 128, 128, 1.0)\", \"dash\": \"solid\", \"shape\": \"linear\", \"width\": 1.3}, \"mode\": \"lines\", \"name\": \"6\", \"text\": \"\", \"type\": \"scatter\", \"x\": [\"2020-01-01 00:10:00+00:00\", \"2020-01-01 00:15:00+00:00\", \"2020-01-01 00:20:00+00:00\", \"2020-01-01 00:25:00+00:00\", \"2020-01-01 00:30:00+00:00\", \"2020-01-01 00:35:00+00:00\", \"2020-01-01 00:40:00+00:00\"], \"y\": [706.5909676363226, 716.6645970602985, 725.8382957822178, 731.4140955994371, 717.7015145409387, 713.3932331313845, 704.8154172708746]}, {\"line\": {\"color\": \"rgba(255, 255, 51, 1.0)\", \"dash\": \"solid\", \"shape\": \"linear\", \"width\": 1.3}, \"mode\": \"lines\", \"name\": \"7\", \"text\": \"\", \"type\": \"scatter\", \"x\": [\"2020-01-01 00:10:00+00:00\", \"2020-01-01 00:15:00+00:00\", \"2020-01-01 00:20:00+00:00\", \"2020-01-01 00:25:00+00:00\", \"2020-01-01 00:30:00+00:00\", \"2020-01-01 00:35:00+00:00\", \"2020-01-01 00:40:00+00:00\"], \"y\": [706.5909676363226, 691.9020654708147, 673.6852627838962, 660.9984910174971, 647.636681149248, 631.838193601463, 608.478241821751]}, {\"line\": {\"color\": \"rgba(128, 128, 0, 1.0)\", \"dash\": \"solid\", \"shape\": \"linear\", \"width\": 1.3}, \"mode\": \"lines\", \"name\": \"8\", \"text\": \"\", \"type\": \"scatter\", \"x\": [\"2020-01-01 00:10:00+00:00\", \"2020-01-01 00:15:00+00:00\", \"2020-01-01 00:20:00+00:00\", \"2020-01-01 00:25:00+00:00\", \"2020-01-01 00:30:00+00:00\", \"2020-01-01 00:35:00+00:00\", \"2020-01-01 00:40:00+00:00\"], \"y\": [706.5909676363226, 693.2859753458761, 666.582527437713, 635.7209525494836, 620.1294160052203, 607.1034878119826, 604.6143738627434]}, {\"line\": {\"color\": \"rgba(251, 128, 114, 1.0)\", \"dash\": \"solid\", \"shape\": \"linear\", \"width\": 1.3}, \"mode\": \"lines\", \"name\": \"9\", \"text\": \"\", \"type\": \"scatter\", \"x\": [\"2020-01-01 00:10:00+00:00\", \"2020-01-01 00:15:00+00:00\", \"2020-01-01 00:20:00+00:00\", \"2020-01-01 00:25:00+00:00\", \"2020-01-01 00:30:00+00:00\", \"2020-01-01 00:35:00+00:00\", \"2020-01-01 00:40:00+00:00\"], \"y\": [706.5909676363226, 695.8598661620636, 673.5819072723389, 651.641974741593, 585.5310315066017, 571.1096121785231, 564.342736536637]}, {\"line\": {\"color\": \"rgba(128, 177, 211, 1.0)\", \"dash\": \"solid\", \"shape\": \"linear\", \"width\": 1.3}, \"mode\": \"lines\", \"name\": \"10\", \"text\": \"\", \"type\": \"scatter\", \"x\": [\"2020-01-01 00:10:00+00:00\", \"2020-01-01 00:15:00+00:00\", \"2020-01-01 00:20:00+00:00\", \"2020-01-01 00:25:00+00:00\", \"2020-01-01 00:30:00+00:00\", \"2020-01-01 00:35:00+00:00\", \"2020-01-01 00:40:00+00:00\"], \"y\": [706.5909676363226, 692.7563818842755, 674.8972910668817, 653.1372875419329, 638.0006800945266, 625.0236400011345, 615.881602427864]}],\n",
       "                        {\"legend\": {\"bgcolor\": \"#F5F6F9\", \"font\": {\"color\": \"#4D5663\"}}, \"paper_bgcolor\": \"#F5F6F9\", \"plot_bgcolor\": \"#F5F6F9\", \"template\": {\"data\": {\"bar\": [{\"error_x\": {\"color\": \"#2a3f5f\"}, \"error_y\": {\"color\": \"#2a3f5f\"}, \"marker\": {\"line\": {\"color\": \"#E5ECF6\", \"width\": 0.5}}, \"type\": \"bar\"}], \"barpolar\": [{\"marker\": {\"line\": {\"color\": \"#E5ECF6\", \"width\": 0.5}}, \"type\": \"barpolar\"}], \"carpet\": [{\"aaxis\": {\"endlinecolor\": \"#2a3f5f\", \"gridcolor\": \"white\", \"linecolor\": \"white\", \"minorgridcolor\": \"white\", \"startlinecolor\": \"#2a3f5f\"}, \"baxis\": {\"endlinecolor\": \"#2a3f5f\", \"gridcolor\": \"white\", \"linecolor\": \"white\", \"minorgridcolor\": \"white\", \"startlinecolor\": \"#2a3f5f\"}, \"type\": \"carpet\"}], \"choropleth\": [{\"colorbar\": {\"outlinewidth\": 0, \"ticks\": \"\"}, \"type\": \"choropleth\"}], \"contour\": [{\"colorbar\": {\"outlinewidth\": 0, \"ticks\": \"\"}, \"colorscale\": [[0.0, \"#0d0887\"], [0.1111111111111111, \"#46039f\"], [0.2222222222222222, \"#7201a8\"], [0.3333333333333333, \"#9c179e\"], [0.4444444444444444, \"#bd3786\"], [0.5555555555555556, \"#d8576b\"], [0.6666666666666666, \"#ed7953\"], [0.7777777777777778, \"#fb9f3a\"], [0.8888888888888888, \"#fdca26\"], [1.0, \"#f0f921\"]], \"type\": \"contour\"}], \"contourcarpet\": [{\"colorbar\": {\"outlinewidth\": 0, \"ticks\": \"\"}, \"type\": \"contourcarpet\"}], \"heatmap\": [{\"colorbar\": {\"outlinewidth\": 0, \"ticks\": \"\"}, \"colorscale\": [[0.0, \"#0d0887\"], [0.1111111111111111, \"#46039f\"], [0.2222222222222222, \"#7201a8\"], [0.3333333333333333, \"#9c179e\"], [0.4444444444444444, \"#bd3786\"], [0.5555555555555556, \"#d8576b\"], [0.6666666666666666, \"#ed7953\"], [0.7777777777777778, \"#fb9f3a\"], [0.8888888888888888, \"#fdca26\"], [1.0, \"#f0f921\"]], \"type\": \"heatmap\"}], \"heatmapgl\": [{\"colorbar\": {\"outlinewidth\": 0, \"ticks\": \"\"}, \"colorscale\": [[0.0, \"#0d0887\"], [0.1111111111111111, \"#46039f\"], [0.2222222222222222, \"#7201a8\"], [0.3333333333333333, \"#9c179e\"], [0.4444444444444444, \"#bd3786\"], [0.5555555555555556, \"#d8576b\"], [0.6666666666666666, \"#ed7953\"], [0.7777777777777778, \"#fb9f3a\"], [0.8888888888888888, \"#fdca26\"], [1.0, \"#f0f921\"]], \"type\": \"heatmapgl\"}], \"histogram\": [{\"marker\": {\"colorbar\": {\"outlinewidth\": 0, \"ticks\": \"\"}}, \"type\": \"histogram\"}], \"histogram2d\": [{\"colorbar\": {\"outlinewidth\": 0, \"ticks\": \"\"}, \"colorscale\": [[0.0, \"#0d0887\"], [0.1111111111111111, \"#46039f\"], [0.2222222222222222, \"#7201a8\"], [0.3333333333333333, \"#9c179e\"], [0.4444444444444444, \"#bd3786\"], [0.5555555555555556, \"#d8576b\"], [0.6666666666666666, \"#ed7953\"], [0.7777777777777778, \"#fb9f3a\"], [0.8888888888888888, \"#fdca26\"], [1.0, \"#f0f921\"]], \"type\": \"histogram2d\"}], \"histogram2dcontour\": [{\"colorbar\": {\"outlinewidth\": 0, \"ticks\": \"\"}, \"colorscale\": [[0.0, \"#0d0887\"], [0.1111111111111111, \"#46039f\"], [0.2222222222222222, \"#7201a8\"], [0.3333333333333333, \"#9c179e\"], [0.4444444444444444, \"#bd3786\"], [0.5555555555555556, \"#d8576b\"], [0.6666666666666666, \"#ed7953\"], [0.7777777777777778, \"#fb9f3a\"], [0.8888888888888888, \"#fdca26\"], [1.0, \"#f0f921\"]], \"type\": \"histogram2dcontour\"}], \"mesh3d\": [{\"colorbar\": {\"outlinewidth\": 0, \"ticks\": \"\"}, \"type\": \"mesh3d\"}], \"parcoords\": [{\"line\": {\"colorbar\": {\"outlinewidth\": 0, \"ticks\": \"\"}}, \"type\": \"parcoords\"}], \"pie\": [{\"automargin\": true, \"type\": \"pie\"}], \"scatter\": [{\"marker\": {\"colorbar\": {\"outlinewidth\": 0, \"ticks\": \"\"}}, \"type\": \"scatter\"}], \"scatter3d\": [{\"line\": {\"colorbar\": {\"outlinewidth\": 0, \"ticks\": \"\"}}, \"marker\": {\"colorbar\": {\"outlinewidth\": 0, \"ticks\": \"\"}}, \"type\": \"scatter3d\"}], \"scattercarpet\": [{\"marker\": {\"colorbar\": {\"outlinewidth\": 0, \"ticks\": \"\"}}, \"type\": \"scattercarpet\"}], \"scattergeo\": [{\"marker\": {\"colorbar\": {\"outlinewidth\": 0, \"ticks\": \"\"}}, \"type\": \"scattergeo\"}], \"scattergl\": [{\"marker\": {\"colorbar\": {\"outlinewidth\": 0, \"ticks\": \"\"}}, \"type\": \"scattergl\"}], \"scattermapbox\": [{\"marker\": {\"colorbar\": {\"outlinewidth\": 0, \"ticks\": \"\"}}, \"type\": \"scattermapbox\"}], \"scatterpolar\": [{\"marker\": {\"colorbar\": {\"outlinewidth\": 0, \"ticks\": \"\"}}, \"type\": \"scatterpolar\"}], \"scatterpolargl\": [{\"marker\": {\"colorbar\": {\"outlinewidth\": 0, \"ticks\": \"\"}}, \"type\": \"scatterpolargl\"}], \"scatterternary\": [{\"marker\": {\"colorbar\": {\"outlinewidth\": 0, \"ticks\": \"\"}}, \"type\": \"scatterternary\"}], \"surface\": [{\"colorbar\": {\"outlinewidth\": 0, \"ticks\": \"\"}, \"colorscale\": [[0.0, \"#0d0887\"], [0.1111111111111111, \"#46039f\"], [0.2222222222222222, \"#7201a8\"], [0.3333333333333333, \"#9c179e\"], [0.4444444444444444, \"#bd3786\"], [0.5555555555555556, \"#d8576b\"], [0.6666666666666666, \"#ed7953\"], [0.7777777777777778, \"#fb9f3a\"], [0.8888888888888888, \"#fdca26\"], [1.0, \"#f0f921\"]], \"type\": \"surface\"}], \"table\": [{\"cells\": {\"fill\": {\"color\": \"#EBF0F8\"}, \"line\": {\"color\": \"white\"}}, \"header\": {\"fill\": {\"color\": \"#C8D4E3\"}, \"line\": {\"color\": \"white\"}}, \"type\": \"table\"}]}, \"layout\": {\"annotationdefaults\": {\"arrowcolor\": \"#2a3f5f\", \"arrowhead\": 0, \"arrowwidth\": 1}, \"coloraxis\": {\"colorbar\": {\"outlinewidth\": 0, \"ticks\": \"\"}}, \"colorscale\": {\"diverging\": [[0, \"#8e0152\"], [0.1, \"#c51b7d\"], [0.2, \"#de77ae\"], [0.3, \"#f1b6da\"], [0.4, \"#fde0ef\"], [0.5, \"#f7f7f7\"], [0.6, \"#e6f5d0\"], [0.7, \"#b8e186\"], [0.8, \"#7fbc41\"], [0.9, \"#4d9221\"], [1, \"#276419\"]], \"sequential\": [[0.0, \"#0d0887\"], [0.1111111111111111, \"#46039f\"], [0.2222222222222222, \"#7201a8\"], [0.3333333333333333, \"#9c179e\"], [0.4444444444444444, \"#bd3786\"], [0.5555555555555556, \"#d8576b\"], [0.6666666666666666, \"#ed7953\"], [0.7777777777777778, \"#fb9f3a\"], [0.8888888888888888, \"#fdca26\"], [1.0, \"#f0f921\"]], \"sequentialminus\": [[0.0, \"#0d0887\"], [0.1111111111111111, \"#46039f\"], [0.2222222222222222, \"#7201a8\"], [0.3333333333333333, \"#9c179e\"], [0.4444444444444444, \"#bd3786\"], [0.5555555555555556, \"#d8576b\"], [0.6666666666666666, \"#ed7953\"], [0.7777777777777778, \"#fb9f3a\"], [0.8888888888888888, \"#fdca26\"], [1.0, \"#f0f921\"]]}, \"colorway\": [\"#636efa\", \"#EF553B\", \"#00cc96\", \"#ab63fa\", \"#FFA15A\", \"#19d3f3\", \"#FF6692\", \"#B6E880\", \"#FF97FF\", \"#FECB52\"], \"font\": {\"color\": \"#2a3f5f\"}, \"geo\": {\"bgcolor\": \"white\", \"lakecolor\": \"white\", \"landcolor\": \"#E5ECF6\", \"showlakes\": true, \"showland\": true, \"subunitcolor\": \"white\"}, \"hoverlabel\": {\"align\": \"left\"}, \"hovermode\": \"closest\", \"mapbox\": {\"style\": \"light\"}, \"paper_bgcolor\": \"white\", \"plot_bgcolor\": \"#E5ECF6\", \"polar\": {\"angularaxis\": {\"gridcolor\": \"white\", \"linecolor\": \"white\", \"ticks\": \"\"}, \"bgcolor\": \"#E5ECF6\", \"radialaxis\": {\"gridcolor\": \"white\", \"linecolor\": \"white\", \"ticks\": \"\"}}, \"scene\": {\"xaxis\": {\"backgroundcolor\": \"#E5ECF6\", \"gridcolor\": \"white\", \"gridwidth\": 2, \"linecolor\": \"white\", \"showbackground\": true, \"ticks\": \"\", \"zerolinecolor\": \"white\"}, \"yaxis\": {\"backgroundcolor\": \"#E5ECF6\", \"gridcolor\": \"white\", \"gridwidth\": 2, \"linecolor\": \"white\", \"showbackground\": true, \"ticks\": \"\", \"zerolinecolor\": \"white\"}, \"zaxis\": {\"backgroundcolor\": \"#E5ECF6\", \"gridcolor\": \"white\", \"gridwidth\": 2, \"linecolor\": \"white\", \"showbackground\": true, \"ticks\": \"\", \"zerolinecolor\": \"white\"}}, \"shapedefaults\": {\"line\": {\"color\": \"#2a3f5f\"}}, \"ternary\": {\"aaxis\": {\"gridcolor\": \"white\", \"linecolor\": \"white\", \"ticks\": \"\"}, \"baxis\": {\"gridcolor\": \"white\", \"linecolor\": \"white\", \"ticks\": \"\"}, \"bgcolor\": \"#E5ECF6\", \"caxis\": {\"gridcolor\": \"white\", \"linecolor\": \"white\", \"ticks\": \"\"}}, \"title\": {\"x\": 0.05}, \"xaxis\": {\"automargin\": true, \"gridcolor\": \"white\", \"linecolor\": \"white\", \"ticks\": \"\", \"title\": {\"standoff\": 15}, \"zerolinecolor\": \"white\", \"zerolinewidth\": 2}, \"yaxis\": {\"automargin\": true, \"gridcolor\": \"white\", \"linecolor\": \"white\", \"ticks\": \"\", \"title\": {\"standoff\": 15}, \"zerolinecolor\": \"white\", \"zerolinewidth\": 2}}}, \"title\": {\"font\": {\"color\": \"#4D5663\"}}, \"xaxis\": {\"gridcolor\": \"#E1E5ED\", \"showgrid\": true, \"tickfont\": {\"color\": \"#4D5663\"}, \"title\": {\"font\": {\"color\": \"#4D5663\"}, \"text\": \"\"}, \"zerolinecolor\": \"#E1E5ED\"}, \"yaxis\": {\"gridcolor\": \"#E1E5ED\", \"showgrid\": true, \"tickfont\": {\"color\": \"#4D5663\"}, \"title\": {\"font\": {\"color\": \"#4D5663\"}, \"text\": \"\"}, \"zerolinecolor\": \"#E1E5ED\"}},\n",
       "                        {\"showLink\": true, \"linkText\": \"Export to plot.ly\", \"plotlyServerURL\": \"https://plot.ly\", \"responsive\": true}\n",
       "                    ).then(function(){\n",
       "                            \n",
       "var gd = document.getElementById('af4a2e08-c639-418f-a86a-649722733f22');\n",
       "var x = new MutationObserver(function (mutations, observer) {{\n",
       "        var display = window.getComputedStyle(gd).display;\n",
       "        if (!display || display === 'none') {{\n",
       "            console.log([gd, 'removed!']);\n",
       "            Plotly.purge(gd);\n",
       "            observer.disconnect();\n",
       "        }}\n",
       "}});\n",
       "\n",
       "// Listen for the removal of the full notebook cells\n",
       "var notebookContainer = gd.closest('#notebook-container');\n",
       "if (notebookContainer) {{\n",
       "    x.observe(notebookContainer, {childList: true});\n",
       "}}\n",
       "\n",
       "// Listen for the clearing of the current output cell\n",
       "var outputEl = gd.closest('.output');\n",
       "if (outputEl) {{\n",
       "    x.observe(outputEl, {childList: true});\n",
       "}}\n",
       "\n",
       "                        })\n",
       "                };\n",
       "                });\n",
       "            </script>\n",
       "        </div>"
      ]
     },
     "metadata": {},
     "output_type": "display_data"
    },
    {
     "data": {
      "application/javascript": [
       "\n",
       "            setTimeout(function() {\n",
       "                var nbb_cell_id = 15;\n",
       "                var nbb_unformatted_code = \"# choose sim_timestamp for which to plot all scenarios\\nsim_timestamp = sim_timestamps[0]\\n\\n# all needed period timestamps: t0,t1,...\\ntimestamps = pd.date_range(\\n    start=sim_timestamp - pd.Timedelta(\\\"5min\\\"), periods=n_periods + 1, freq=\\\"5min\\\"\\n)\\nplot_df = pd.DataFrame(index=timestamps, columns=range(1, n_scenarios + 1),)\\nfor scenario_nr in range(1, n_scenarios + 1):\\n    s = generated_scenarios_df.loc[(sim_timestamp, scenario_nr,)].sum(axis=1)\\n    s.loc[timestamps[0]] = grid.actuals.loc[timestamps[0]].loc[\\\"TotalPower\\\"]\\n\\n    plot_df[scenario_nr] = s\\nplot_df.iplot()\";\n",
       "                var nbb_formatted_code = \"# choose sim_timestamp for which to plot all scenarios\\nsim_timestamp = sim_timestamps[0]\\n\\n# all needed period timestamps: t0,t1,...\\ntimestamps = pd.date_range(\\n    start=sim_timestamp - pd.Timedelta(\\\"5min\\\"), periods=n_periods + 1, freq=\\\"5min\\\"\\n)\\nplot_df = pd.DataFrame(index=timestamps, columns=range(1, n_scenarios + 1),)\\nfor scenario_nr in range(1, n_scenarios + 1):\\n    s = generated_scenarios_df.loc[(sim_timestamp, scenario_nr,)].sum(axis=1)\\n    s.loc[timestamps[0]] = grid.actuals.loc[timestamps[0]].loc[\\\"TotalPower\\\"]\\n\\n    plot_df[scenario_nr] = s\\nplot_df.iplot()\";\n",
       "                var nbb_cells = Jupyter.notebook.get_cells();\n",
       "                for (var i = 0; i < nbb_cells.length; ++i) {\n",
       "                    if (nbb_cells[i].input_prompt_number == nbb_cell_id) {\n",
       "                        if (nbb_cells[i].get_text() == nbb_unformatted_code) {\n",
       "                             nbb_cells[i].set_text(nbb_formatted_code);\n",
       "                        }\n",
       "                        break;\n",
       "                    }\n",
       "                }\n",
       "            }, 500);\n",
       "            "
      ],
      "text/plain": [
       "<IPython.core.display.Javascript object>"
      ]
     },
     "metadata": {},
     "output_type": "display_data"
    }
   ],
   "source": [
    "# choose sim_timestamp for which to plot all scenarios\n",
    "sim_timestamp = sim_timestamps[0]\n",
    "\n",
    "# all needed period timestamps: t0,t1,...\n",
    "timestamps = pd.date_range(\n",
    "    start=sim_timestamp - pd.Timedelta(\"5min\"), periods=n_periods + 1, freq=\"5min\"\n",
    ")\n",
    "plot_df = pd.DataFrame(index=timestamps, columns=range(1, n_scenarios + 1),)\n",
    "for scenario_nr in range(1, n_scenarios + 1):\n",
    "    s = generated_scenarios_df.loc[(sim_timestamp, scenario_nr,)].sum(axis=1)\n",
    "    s.loc[timestamps[0]] = grid.actuals.loc[timestamps[0]].loc[\"TotalPower\"]\n",
    "\n",
    "    plot_df[scenario_nr] = s\n",
    "plot_df.iplot()"
   ]
  },
  {
   "cell_type": "markdown",
   "metadata": {},
   "source": [
    "# save (for single period, can drop period_timestamp)"
   ]
  },
  {
   "cell_type": "code",
   "execution_count": 17,
   "metadata": {},
   "outputs": [
    {
     "name": "stdout",
     "output_type": "stream",
     "text": [
      "\n",
      "saving generated_scenarios_df to ./scenarios.csv\n"
     ]
    },
    {
     "data": {
      "text/html": [
       "<div>\n",
       "<style scoped>\n",
       "    .dataframe tbody tr th:only-of-type {\n",
       "        vertical-align: middle;\n",
       "    }\n",
       "\n",
       "    .dataframe tbody tr th {\n",
       "        vertical-align: top;\n",
       "    }\n",
       "\n",
       "    .dataframe thead th {\n",
       "        text-align: right;\n",
       "    }\n",
       "</style>\n",
       "<table border=\"1\" class=\"dataframe\">\n",
       "  <thead>\n",
       "    <tr style=\"text-align: right;\">\n",
       "      <th></th>\n",
       "      <th></th>\n",
       "      <th></th>\n",
       "      <th>309_WIND_1</th>\n",
       "      <th>317_WIND_1</th>\n",
       "      <th>303_WIND_1</th>\n",
       "      <th>122_WIND_1</th>\n",
       "    </tr>\n",
       "    <tr>\n",
       "      <th>sim_timestamp</th>\n",
       "      <th>scenario_nr</th>\n",
       "      <th>period_timestamp</th>\n",
       "      <th></th>\n",
       "      <th></th>\n",
       "      <th></th>\n",
       "      <th></th>\n",
       "    </tr>\n",
       "  </thead>\n",
       "  <tbody>\n",
       "    <tr>\n",
       "      <th rowspan=\"11\" valign=\"top\">2020-01-01 00:15:00+00:00</th>\n",
       "      <th rowspan=\"5\" valign=\"top\">1</th>\n",
       "      <th>2020-01-01 00:15:00+00:00</th>\n",
       "      <td>84.1358</td>\n",
       "      <td>5.4658</td>\n",
       "      <td>534.724</td>\n",
       "      <td>72.4896</td>\n",
       "    </tr>\n",
       "    <tr>\n",
       "      <th>2020-01-01 00:20:00+00:00</th>\n",
       "      <td>84.1358</td>\n",
       "      <td>2.57162</td>\n",
       "      <td>534.071</td>\n",
       "      <td>72.6414</td>\n",
       "    </tr>\n",
       "    <tr>\n",
       "      <th>2020-01-01 00:25:00+00:00</th>\n",
       "      <td>84.1358</td>\n",
       "      <td>4.16747</td>\n",
       "      <td>533.467</td>\n",
       "      <td>73.3105</td>\n",
       "    </tr>\n",
       "    <tr>\n",
       "      <th>2020-01-01 00:30:00+00:00</th>\n",
       "      <td>84.1358</td>\n",
       "      <td>9.44331</td>\n",
       "      <td>534.437</td>\n",
       "      <td>73.8173</td>\n",
       "    </tr>\n",
       "    <tr>\n",
       "      <th>2020-01-01 00:35:00+00:00</th>\n",
       "      <td>84.1358</td>\n",
       "      <td>12.6631</td>\n",
       "      <td>534.842</td>\n",
       "      <td>74.8239</td>\n",
       "    </tr>\n",
       "    <tr>\n",
       "      <th>...</th>\n",
       "      <th>...</th>\n",
       "      <td>...</td>\n",
       "      <td>...</td>\n",
       "      <td>...</td>\n",
       "      <td>...</td>\n",
       "    </tr>\n",
       "    <tr>\n",
       "      <th rowspan=\"5\" valign=\"top\">10</th>\n",
       "      <th>2020-01-01 00:20:00+00:00</th>\n",
       "      <td>83.5946</td>\n",
       "      <td>9.09568</td>\n",
       "      <td>523.445</td>\n",
       "      <td>58.7623</td>\n",
       "    </tr>\n",
       "    <tr>\n",
       "      <th>2020-01-01 00:25:00+00:00</th>\n",
       "      <td>83.9068</td>\n",
       "      <td>1.24924</td>\n",
       "      <td>514.991</td>\n",
       "      <td>52.9899</td>\n",
       "    </tr>\n",
       "    <tr>\n",
       "      <th>2020-01-01 00:30:00+00:00</th>\n",
       "      <td>84.2695</td>\n",
       "      <td>0</td>\n",
       "      <td>505.869</td>\n",
       "      <td>47.8622</td>\n",
       "    </tr>\n",
       "    <tr>\n",
       "      <th>2020-01-01 00:35:00+00:00</th>\n",
       "      <td>84.7458</td>\n",
       "      <td>0</td>\n",
       "      <td>497.552</td>\n",
       "      <td>42.7255</td>\n",
       "    </tr>\n",
       "    <tr>\n",
       "      <th>2020-01-01 00:40:00+00:00</th>\n",
       "      <td>85.0528</td>\n",
       "      <td>0</td>\n",
       "      <td>491.703</td>\n",
       "      <td>39.1261</td>\n",
       "    </tr>\n",
       "  </tbody>\n",
       "</table>\n",
       "<p>60 rows × 4 columns</p>\n",
       "</div>"
      ],
      "text/plain": [
       "                                                                309_WIND_1  \\\n",
       "sim_timestamp             scenario_nr period_timestamp                       \n",
       "2020-01-01 00:15:00+00:00 1           2020-01-01 00:15:00+00:00    84.1358   \n",
       "                                      2020-01-01 00:20:00+00:00    84.1358   \n",
       "                                      2020-01-01 00:25:00+00:00    84.1358   \n",
       "                                      2020-01-01 00:30:00+00:00    84.1358   \n",
       "                                      2020-01-01 00:35:00+00:00    84.1358   \n",
       "...                                                                    ...   \n",
       "                          10          2020-01-01 00:20:00+00:00    83.5946   \n",
       "                                      2020-01-01 00:25:00+00:00    83.9068   \n",
       "                                      2020-01-01 00:30:00+00:00    84.2695   \n",
       "                                      2020-01-01 00:35:00+00:00    84.7458   \n",
       "                                      2020-01-01 00:40:00+00:00    85.0528   \n",
       "\n",
       "                                                                317_WIND_1  \\\n",
       "sim_timestamp             scenario_nr period_timestamp                       \n",
       "2020-01-01 00:15:00+00:00 1           2020-01-01 00:15:00+00:00     5.4658   \n",
       "                                      2020-01-01 00:20:00+00:00    2.57162   \n",
       "                                      2020-01-01 00:25:00+00:00    4.16747   \n",
       "                                      2020-01-01 00:30:00+00:00    9.44331   \n",
       "                                      2020-01-01 00:35:00+00:00    12.6631   \n",
       "...                                                                    ...   \n",
       "                          10          2020-01-01 00:20:00+00:00    9.09568   \n",
       "                                      2020-01-01 00:25:00+00:00    1.24924   \n",
       "                                      2020-01-01 00:30:00+00:00          0   \n",
       "                                      2020-01-01 00:35:00+00:00          0   \n",
       "                                      2020-01-01 00:40:00+00:00          0   \n",
       "\n",
       "                                                                303_WIND_1  \\\n",
       "sim_timestamp             scenario_nr period_timestamp                       \n",
       "2020-01-01 00:15:00+00:00 1           2020-01-01 00:15:00+00:00    534.724   \n",
       "                                      2020-01-01 00:20:00+00:00    534.071   \n",
       "                                      2020-01-01 00:25:00+00:00    533.467   \n",
       "                                      2020-01-01 00:30:00+00:00    534.437   \n",
       "                                      2020-01-01 00:35:00+00:00    534.842   \n",
       "...                                                                    ...   \n",
       "                          10          2020-01-01 00:20:00+00:00    523.445   \n",
       "                                      2020-01-01 00:25:00+00:00    514.991   \n",
       "                                      2020-01-01 00:30:00+00:00    505.869   \n",
       "                                      2020-01-01 00:35:00+00:00    497.552   \n",
       "                                      2020-01-01 00:40:00+00:00    491.703   \n",
       "\n",
       "                                                                122_WIND_1  \n",
       "sim_timestamp             scenario_nr period_timestamp                      \n",
       "2020-01-01 00:15:00+00:00 1           2020-01-01 00:15:00+00:00    72.4896  \n",
       "                                      2020-01-01 00:20:00+00:00    72.6414  \n",
       "                                      2020-01-01 00:25:00+00:00    73.3105  \n",
       "                                      2020-01-01 00:30:00+00:00    73.8173  \n",
       "                                      2020-01-01 00:35:00+00:00    74.8239  \n",
       "...                                                                    ...  \n",
       "                          10          2020-01-01 00:20:00+00:00    58.7623  \n",
       "                                      2020-01-01 00:25:00+00:00    52.9899  \n",
       "                                      2020-01-01 00:30:00+00:00    47.8622  \n",
       "                                      2020-01-01 00:35:00+00:00    42.7255  \n",
       "                                      2020-01-01 00:40:00+00:00    39.1261  \n",
       "\n",
       "[60 rows x 4 columns]"
      ]
     },
     "execution_count": 17,
     "metadata": {},
     "output_type": "execute_result"
    },
    {
     "name": "stdout",
     "output_type": "stream",
     "text": [
      "\n",
      "saving actuals to ./actuals.csv\n"
     ]
    },
    {
     "data": {
      "text/html": [
       "<div>\n",
       "<style scoped>\n",
       "    .dataframe tbody tr th:only-of-type {\n",
       "        vertical-align: middle;\n",
       "    }\n",
       "\n",
       "    .dataframe tbody tr th {\n",
       "        vertical-align: top;\n",
       "    }\n",
       "\n",
       "    .dataframe thead th {\n",
       "        text-align: right;\n",
       "    }\n",
       "</style>\n",
       "<table border=\"1\" class=\"dataframe\">\n",
       "  <thead>\n",
       "    <tr style=\"text-align: right;\">\n",
       "      <th></th>\n",
       "      <th>309_WIND_1</th>\n",
       "      <th>317_WIND_1</th>\n",
       "      <th>303_WIND_1</th>\n",
       "      <th>122_WIND_1</th>\n",
       "      <th>TotalPower</th>\n",
       "    </tr>\n",
       "    <tr>\n",
       "      <th>sim_timestamp</th>\n",
       "      <th></th>\n",
       "      <th></th>\n",
       "      <th></th>\n",
       "      <th></th>\n",
       "      <th></th>\n",
       "    </tr>\n",
       "  </thead>\n",
       "  <tbody>\n",
       "    <tr>\n",
       "      <th>2020-01-01 00:15:00+00:00</th>\n",
       "      <td>87.246012</td>\n",
       "      <td>14.695144</td>\n",
       "      <td>561.320087</td>\n",
       "      <td>72.192094</td>\n",
       "      <td>735.453337</td>\n",
       "    </tr>\n",
       "  </tbody>\n",
       "</table>\n",
       "</div>"
      ],
      "text/plain": [
       "                           309_WIND_1  317_WIND_1  303_WIND_1  122_WIND_1  \\\n",
       "sim_timestamp                                                               \n",
       "2020-01-01 00:15:00+00:00   87.246012   14.695144  561.320087   72.192094   \n",
       "\n",
       "                           TotalPower  \n",
       "sim_timestamp                          \n",
       "2020-01-01 00:15:00+00:00  735.453337  "
      ]
     },
     "execution_count": 17,
     "metadata": {},
     "output_type": "execute_result"
    },
    {
     "data": {
      "application/javascript": [
       "\n",
       "            setTimeout(function() {\n",
       "                var nbb_cell_id = 17;\n",
       "                var nbb_unformatted_code = \"df = generated_scenarios_df.copy()\\n# if scenarios are single period, we can drop period_timestamp index level\\nif n_periods == 1:\\n    df.index=df.index.droplevel(\\\"period_timestamp\\\")\\n\\n\\nfilename = './scenarios.csv'\\nprint(\\\"\\\\nsaving generated_scenarios_df to {}\\\".format(filename))\\ndf\\ndf.to_csv(filename)\\n\\n\\n\\n# take actuals corresponding to scenarios\\ndf=grid.actuals.loc[sim_timestamps].copy()\\ndf.index=df.index.rename(\\\"sim_timestamp\\\")\\n\\nfilename = './actuals.csv'\\nprint(\\\"\\\\nsaving actuals to {}\\\".format(filename))\\ndf\\ndf.to_csv(filename)\";\n",
       "                var nbb_formatted_code = \"df = generated_scenarios_df.copy()\\n# if scenarios are single period, we can drop period_timestamp index level\\nif n_periods == 1:\\n    df.index = df.index.droplevel(\\\"period_timestamp\\\")\\n\\n\\nfilename = \\\"./scenarios.csv\\\"\\nprint(\\\"\\\\nsaving generated_scenarios_df to {}\\\".format(filename))\\ndf\\ndf.to_csv(filename)\\n\\n\\n# take actuals corresponding to scenarios\\ndf = grid.actuals.loc[sim_timestamps].copy()\\ndf.index = df.index.rename(\\\"sim_timestamp\\\")\\n\\nfilename = \\\"./actuals.csv\\\"\\nprint(\\\"\\\\nsaving actuals to {}\\\".format(filename))\\ndf\\ndf.to_csv(filename)\";\n",
       "                var nbb_cells = Jupyter.notebook.get_cells();\n",
       "                for (var i = 0; i < nbb_cells.length; ++i) {\n",
       "                    if (nbb_cells[i].input_prompt_number == nbb_cell_id) {\n",
       "                        if (nbb_cells[i].get_text() == nbb_unformatted_code) {\n",
       "                             nbb_cells[i].set_text(nbb_formatted_code);\n",
       "                        }\n",
       "                        break;\n",
       "                    }\n",
       "                }\n",
       "            }, 500);\n",
       "            "
      ],
      "text/plain": [
       "<IPython.core.display.Javascript object>"
      ]
     },
     "metadata": {},
     "output_type": "display_data"
    }
   ],
   "source": [
    "df = generated_scenarios_df.copy()\n",
    "# if scenarios are single period, we can drop period_timestamp index level\n",
    "if n_periods == 1:\n",
    "    df.index=df.index.droplevel(\"period_timestamp\")\n",
    "\n",
    "\n",
    "filename = './scenarios.csv'\n",
    "print(\"\\nsaving generated_scenarios_df to {}\".format(filename))\n",
    "df\n",
    "df.to_csv(filename)\n",
    "\n",
    "\n",
    "\n",
    "# take actuals corresponding to scenarios\n",
    "df=grid.actuals.loc[sim_timestamps].copy()\n",
    "df.index=df.index.rename(\"sim_timestamp\")\n",
    "\n",
    "filename = './actuals.csv'\n",
    "print(\"\\nsaving actuals to {}\".format(filename))\n",
    "df\n",
    "df.to_csv(filename)\n"
   ]
  },
  {
   "cell_type": "markdown",
   "metadata": {},
   "source": [
    "# Scratch"
   ]
  },
  {
   "cell_type": "code",
   "execution_count": 16,
   "metadata": {},
   "outputs": [
    {
     "data": {
      "text/plain": [
       "IssueTime\n",
       "2008-01-01 00:00:00+00:00    (91.411, 2031.196]\n",
       "2008-01-01 00:05:00+00:00    (91.411, 2031.196]\n",
       "2008-01-01 00:10:00+00:00    (91.411, 2031.196]\n",
       "2008-01-01 00:15:00+00:00    (91.411, 2031.196]\n",
       "2008-01-01 00:20:00+00:00    (91.411, 2031.196]\n",
       "                                    ...        \n",
       "2013-12-31 23:30:00+00:00      (-0.001, 91.411]\n",
       "2013-12-31 23:35:00+00:00      (-0.001, 91.411]\n",
       "2013-12-31 23:40:00+00:00      (-0.001, 91.411]\n",
       "2013-12-31 23:45:00+00:00      (-0.001, 91.411]\n",
       "2013-12-31 23:50:00+00:00      (-0.001, 91.411]\n",
       "Name: TotalPower, Length: 631295, dtype: category\n",
       "Categories (3, interval[float64]): [(-0.001, 91.411] < (91.411, 2031.196] < (2031.196, 2507.9]]"
      ]
     },
     "execution_count": 16,
     "metadata": {},
     "output_type": "execute_result"
    },
    {
     "data": {
      "application/javascript": [
       "\n",
       "            setTimeout(function() {\n",
       "                var nbb_cell_id = 16;\n",
       "                var nbb_unformatted_code = \"# power conditioning quantiles\\npower_quantiles = [0.0, 0.1, 0.9, 1.0]\\npower_bins = pd.qcut(grid.scenarios[\\\"TotalPower\\\"], q=power_quantiles,)\\npower_bins\";\n",
       "                var nbb_formatted_code = \"# power conditioning quantiles\\npower_quantiles = [0.0, 0.1, 0.9, 1.0]\\npower_bins = pd.qcut(grid.scenarios[\\\"TotalPower\\\"], q=power_quantiles,)\\npower_bins\";\n",
       "                var nbb_cells = Jupyter.notebook.get_cells();\n",
       "                for (var i = 0; i < nbb_cells.length; ++i) {\n",
       "                    if (nbb_cells[i].input_prompt_number == nbb_cell_id) {\n",
       "                        if (nbb_cells[i].get_text() == nbb_unformatted_code) {\n",
       "                             nbb_cells[i].set_text(nbb_formatted_code);\n",
       "                        }\n",
       "                        break;\n",
       "                    }\n",
       "                }\n",
       "            }, 500);\n",
       "            "
      ],
      "text/plain": [
       "<IPython.core.display.Javascript object>"
      ]
     },
     "metadata": {},
     "output_type": "display_data"
    }
   ],
   "source": [
    "# power conditioning quantiles\n",
    "power_quantiles = [0.0, 0.1, 0.9, 1.0]\n",
    "power_bins = pd.qcut(grid.scenarios[\"TotalPower\"], q=power_quantiles,)\n",
    "power_bins"
   ]
  },
  {
   "cell_type": "code",
   "execution_count": null,
   "metadata": {},
   "outputs": [],
   "source": []
  }
 ],
 "metadata": {
  "kernelspec": {
   "display_name": "Python 3",
   "language": "python",
   "name": "python3"
  },
  "language_info": {
   "codemirror_mode": {
    "name": "ipython",
    "version": 3
   },
   "file_extension": ".py",
   "mimetype": "text/x-python",
   "name": "python",
   "nbconvert_exporter": "python",
   "pygments_lexer": "ipython3",
   "version": "3.7.6"
  }
 },
 "nbformat": 4,
 "nbformat_minor": 2
}
